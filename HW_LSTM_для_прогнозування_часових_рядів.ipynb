{
  "nbformat": 4,
  "nbformat_minor": 0,
  "metadata": {
    "colab": {
      "provenance": [],
      "include_colab_link": true
    },
    "kernelspec": {
      "name": "python3",
      "display_name": "Python 3"
    },
    "language_info": {
      "name": "python"
    }
  },
  "cells": [
    {
      "cell_type": "markdown",
      "metadata": {
        "id": "view-in-github",
        "colab_type": "text"
      },
      "source": [
        "<a href=\"https://colab.research.google.com/github/Masakinka/python_for_ds_task/blob/main/HW_LSTM_%D0%B4%D0%BB%D1%8F_%D0%BF%D1%80%D0%BE%D0%B3%D0%BD%D0%BE%D0%B7%D1%83%D0%B2%D0%B0%D0%BD%D0%BD%D1%8F_%D1%87%D0%B0%D1%81%D0%BE%D0%B2%D0%B8%D1%85_%D1%80%D1%8F%D0%B4%D1%96%D0%B2.ipynb\" target=\"_parent\"><img src=\"https://colab.research.google.com/assets/colab-badge.svg\" alt=\"Open In Colab\"/></a>"
      ]
    },
    {
      "cell_type": "markdown",
      "source": [
        "Давайте подивимося, як LSTM можна використовувати для побудови нейронної мережі прогнозування часових.\n",
        "\n",
        "Будемо працювати з задачею прогнозування кількості пасажирів міжнародних авіаліній. З цим набором даних ми вже працювали в лекції \"Time Series Analysis\" і ви зможете порівняти результати :)\n",
        "\n",
        "Задача полягає в тому, щоб за заданими роком і місяцем передбачити кількість пасажирів міжнародних авіаліній в одиницях виміру 1,000. Дані охоплюють період з січня 1949 року по грудень 1960 року, тобто 12 років, зі 144 спостереженнями.\n",
        "\n",
        "Це регресійна задача. Тобто, знаючи кількість пасажирів (в тисячах) за останні місяці, можна передбачити, якою буде кількість пасажирів у наступному місяці. Набір даних має лише одну характеристику: \"Кількість пасажирів\" - `Passengers`.\n",
        "\n",
        "Далі вже наведений код для читання даних, але нам їх ще треба буде трошки обробити."
      ],
      "metadata": {
        "id": "QVNVsLwJvV9S"
      }
    },
    {
      "cell_type": "code",
      "source": [
        "import pandas as pd\n",
        "import numpy as np\n",
        "from matplotlib import pyplot as plt\n",
        "import torch\n",
        "import torch.nn as nn\n",
        "from torch.utils.data import DataLoader, TensorDataset\n",
        "import torch.optim as optim\n",
        "import math\n",
        "import matplotlib.pyplot as plt"
      ],
      "metadata": {
        "id": "VVc9TK-brmYG"
      },
      "execution_count": 35,
      "outputs": []
    },
    {
      "cell_type": "code",
      "execution_count": 36,
      "metadata": {
        "id": "hw3dGYsyluYm",
        "colab": {
          "base_uri": "https://localhost:8080/",
          "height": 238
        },
        "outputId": "d03dab91-3f8f-4478-a67b-2a13c6f73ec2"
      },
      "outputs": [
        {
          "output_type": "display_data",
          "data": {
            "text/plain": [
              "         Passengers\n",
              "Month              \n",
              "1949-01         112\n",
              "1949-02         118\n",
              "1949-03         132\n",
              "1949-04         129\n",
              "1949-05         121"
            ],
            "text/html": [
              "\n",
              "  <div id=\"df-7b846d74-c669-4ad4-be8a-34172f30c6f7\" class=\"colab-df-container\">\n",
              "    <div>\n",
              "<style scoped>\n",
              "    .dataframe tbody tr th:only-of-type {\n",
              "        vertical-align: middle;\n",
              "    }\n",
              "\n",
              "    .dataframe tbody tr th {\n",
              "        vertical-align: top;\n",
              "    }\n",
              "\n",
              "    .dataframe thead th {\n",
              "        text-align: right;\n",
              "    }\n",
              "</style>\n",
              "<table border=\"1\" class=\"dataframe\">\n",
              "  <thead>\n",
              "    <tr style=\"text-align: right;\">\n",
              "      <th></th>\n",
              "      <th>Passengers</th>\n",
              "    </tr>\n",
              "    <tr>\n",
              "      <th>Month</th>\n",
              "      <th></th>\n",
              "    </tr>\n",
              "  </thead>\n",
              "  <tbody>\n",
              "    <tr>\n",
              "      <th>1949-01</th>\n",
              "      <td>112</td>\n",
              "    </tr>\n",
              "    <tr>\n",
              "      <th>1949-02</th>\n",
              "      <td>118</td>\n",
              "    </tr>\n",
              "    <tr>\n",
              "      <th>1949-03</th>\n",
              "      <td>132</td>\n",
              "    </tr>\n",
              "    <tr>\n",
              "      <th>1949-04</th>\n",
              "      <td>129</td>\n",
              "    </tr>\n",
              "    <tr>\n",
              "      <th>1949-05</th>\n",
              "      <td>121</td>\n",
              "    </tr>\n",
              "  </tbody>\n",
              "</table>\n",
              "</div>\n",
              "    <div class=\"colab-df-buttons\">\n",
              "\n",
              "  <div class=\"colab-df-container\">\n",
              "    <button class=\"colab-df-convert\" onclick=\"convertToInteractive('df-7b846d74-c669-4ad4-be8a-34172f30c6f7')\"\n",
              "            title=\"Convert this dataframe to an interactive table.\"\n",
              "            style=\"display:none;\">\n",
              "\n",
              "  <svg xmlns=\"http://www.w3.org/2000/svg\" height=\"24px\" viewBox=\"0 -960 960 960\">\n",
              "    <path d=\"M120-120v-720h720v720H120Zm60-500h600v-160H180v160Zm220 220h160v-160H400v160Zm0 220h160v-160H400v160ZM180-400h160v-160H180v160Zm440 0h160v-160H620v160ZM180-180h160v-160H180v160Zm440 0h160v-160H620v160Z\"/>\n",
              "  </svg>\n",
              "    </button>\n",
              "\n",
              "  <style>\n",
              "    .colab-df-container {\n",
              "      display:flex;\n",
              "      gap: 12px;\n",
              "    }\n",
              "\n",
              "    .colab-df-convert {\n",
              "      background-color: #E8F0FE;\n",
              "      border: none;\n",
              "      border-radius: 50%;\n",
              "      cursor: pointer;\n",
              "      display: none;\n",
              "      fill: #1967D2;\n",
              "      height: 32px;\n",
              "      padding: 0 0 0 0;\n",
              "      width: 32px;\n",
              "    }\n",
              "\n",
              "    .colab-df-convert:hover {\n",
              "      background-color: #E2EBFA;\n",
              "      box-shadow: 0px 1px 2px rgba(60, 64, 67, 0.3), 0px 1px 3px 1px rgba(60, 64, 67, 0.15);\n",
              "      fill: #174EA6;\n",
              "    }\n",
              "\n",
              "    .colab-df-buttons div {\n",
              "      margin-bottom: 4px;\n",
              "    }\n",
              "\n",
              "    [theme=dark] .colab-df-convert {\n",
              "      background-color: #3B4455;\n",
              "      fill: #D2E3FC;\n",
              "    }\n",
              "\n",
              "    [theme=dark] .colab-df-convert:hover {\n",
              "      background-color: #434B5C;\n",
              "      box-shadow: 0px 1px 3px 1px rgba(0, 0, 0, 0.15);\n",
              "      filter: drop-shadow(0px 1px 2px rgba(0, 0, 0, 0.3));\n",
              "      fill: #FFFFFF;\n",
              "    }\n",
              "  </style>\n",
              "\n",
              "    <script>\n",
              "      const buttonEl =\n",
              "        document.querySelector('#df-7b846d74-c669-4ad4-be8a-34172f30c6f7 button.colab-df-convert');\n",
              "      buttonEl.style.display =\n",
              "        google.colab.kernel.accessAllowed ? 'block' : 'none';\n",
              "\n",
              "      async function convertToInteractive(key) {\n",
              "        const element = document.querySelector('#df-7b846d74-c669-4ad4-be8a-34172f30c6f7');\n",
              "        const dataTable =\n",
              "          await google.colab.kernel.invokeFunction('convertToInteractive',\n",
              "                                                    [key], {});\n",
              "        if (!dataTable) return;\n",
              "\n",
              "        const docLinkHtml = 'Like what you see? Visit the ' +\n",
              "          '<a target=\"_blank\" href=https://colab.research.google.com/notebooks/data_table.ipynb>data table notebook</a>'\n",
              "          + ' to learn more about interactive tables.';\n",
              "        element.innerHTML = '';\n",
              "        dataTable['output_type'] = 'display_data';\n",
              "        await google.colab.output.renderOutput(dataTable, element);\n",
              "        const docLink = document.createElement('div');\n",
              "        docLink.innerHTML = docLinkHtml;\n",
              "        element.appendChild(docLink);\n",
              "      }\n",
              "    </script>\n",
              "  </div>\n",
              "\n",
              "\n",
              "<div id=\"df-951cf72a-4e39-4ac8-81ba-fb582b617c27\">\n",
              "  <button class=\"colab-df-quickchart\" onclick=\"quickchart('df-951cf72a-4e39-4ac8-81ba-fb582b617c27')\"\n",
              "            title=\"Suggest charts\"\n",
              "            style=\"display:none;\">\n",
              "\n",
              "<svg xmlns=\"http://www.w3.org/2000/svg\" height=\"24px\"viewBox=\"0 0 24 24\"\n",
              "     width=\"24px\">\n",
              "    <g>\n",
              "        <path d=\"M19 3H5c-1.1 0-2 .9-2 2v14c0 1.1.9 2 2 2h14c1.1 0 2-.9 2-2V5c0-1.1-.9-2-2-2zM9 17H7v-7h2v7zm4 0h-2V7h2v10zm4 0h-2v-4h2v4z\"/>\n",
              "    </g>\n",
              "</svg>\n",
              "  </button>\n",
              "\n",
              "<style>\n",
              "  .colab-df-quickchart {\n",
              "      --bg-color: #E8F0FE;\n",
              "      --fill-color: #1967D2;\n",
              "      --hover-bg-color: #E2EBFA;\n",
              "      --hover-fill-color: #174EA6;\n",
              "      --disabled-fill-color: #AAA;\n",
              "      --disabled-bg-color: #DDD;\n",
              "  }\n",
              "\n",
              "  [theme=dark] .colab-df-quickchart {\n",
              "      --bg-color: #3B4455;\n",
              "      --fill-color: #D2E3FC;\n",
              "      --hover-bg-color: #434B5C;\n",
              "      --hover-fill-color: #FFFFFF;\n",
              "      --disabled-bg-color: #3B4455;\n",
              "      --disabled-fill-color: #666;\n",
              "  }\n",
              "\n",
              "  .colab-df-quickchart {\n",
              "    background-color: var(--bg-color);\n",
              "    border: none;\n",
              "    border-radius: 50%;\n",
              "    cursor: pointer;\n",
              "    display: none;\n",
              "    fill: var(--fill-color);\n",
              "    height: 32px;\n",
              "    padding: 0;\n",
              "    width: 32px;\n",
              "  }\n",
              "\n",
              "  .colab-df-quickchart:hover {\n",
              "    background-color: var(--hover-bg-color);\n",
              "    box-shadow: 0 1px 2px rgba(60, 64, 67, 0.3), 0 1px 3px 1px rgba(60, 64, 67, 0.15);\n",
              "    fill: var(--button-hover-fill-color);\n",
              "  }\n",
              "\n",
              "  .colab-df-quickchart-complete:disabled,\n",
              "  .colab-df-quickchart-complete:disabled:hover {\n",
              "    background-color: var(--disabled-bg-color);\n",
              "    fill: var(--disabled-fill-color);\n",
              "    box-shadow: none;\n",
              "  }\n",
              "\n",
              "  .colab-df-spinner {\n",
              "    border: 2px solid var(--fill-color);\n",
              "    border-color: transparent;\n",
              "    border-bottom-color: var(--fill-color);\n",
              "    animation:\n",
              "      spin 1s steps(1) infinite;\n",
              "  }\n",
              "\n",
              "  @keyframes spin {\n",
              "    0% {\n",
              "      border-color: transparent;\n",
              "      border-bottom-color: var(--fill-color);\n",
              "      border-left-color: var(--fill-color);\n",
              "    }\n",
              "    20% {\n",
              "      border-color: transparent;\n",
              "      border-left-color: var(--fill-color);\n",
              "      border-top-color: var(--fill-color);\n",
              "    }\n",
              "    30% {\n",
              "      border-color: transparent;\n",
              "      border-left-color: var(--fill-color);\n",
              "      border-top-color: var(--fill-color);\n",
              "      border-right-color: var(--fill-color);\n",
              "    }\n",
              "    40% {\n",
              "      border-color: transparent;\n",
              "      border-right-color: var(--fill-color);\n",
              "      border-top-color: var(--fill-color);\n",
              "    }\n",
              "    60% {\n",
              "      border-color: transparent;\n",
              "      border-right-color: var(--fill-color);\n",
              "    }\n",
              "    80% {\n",
              "      border-color: transparent;\n",
              "      border-right-color: var(--fill-color);\n",
              "      border-bottom-color: var(--fill-color);\n",
              "    }\n",
              "    90% {\n",
              "      border-color: transparent;\n",
              "      border-bottom-color: var(--fill-color);\n",
              "    }\n",
              "  }\n",
              "</style>\n",
              "\n",
              "  <script>\n",
              "    async function quickchart(key) {\n",
              "      const quickchartButtonEl =\n",
              "        document.querySelector('#' + key + ' button');\n",
              "      quickchartButtonEl.disabled = true;  // To prevent multiple clicks.\n",
              "      quickchartButtonEl.classList.add('colab-df-spinner');\n",
              "      try {\n",
              "        const charts = await google.colab.kernel.invokeFunction(\n",
              "            'suggestCharts', [key], {});\n",
              "      } catch (error) {\n",
              "        console.error('Error during call to suggestCharts:', error);\n",
              "      }\n",
              "      quickchartButtonEl.classList.remove('colab-df-spinner');\n",
              "      quickchartButtonEl.classList.add('colab-df-quickchart-complete');\n",
              "    }\n",
              "    (() => {\n",
              "      let quickchartButtonEl =\n",
              "        document.querySelector('#df-951cf72a-4e39-4ac8-81ba-fb582b617c27 button');\n",
              "      quickchartButtonEl.style.display =\n",
              "        google.colab.kernel.accessAllowed ? 'block' : 'none';\n",
              "    })();\n",
              "  </script>\n",
              "</div>\n",
              "    </div>\n",
              "  </div>\n"
            ],
            "application/vnd.google.colaboratory.intrinsic+json": {
              "type": "dataframe",
              "summary": "{\n  \"name\": \"display(df\",\n  \"rows\": 5,\n  \"fields\": [\n    {\n      \"column\": \"Month\",\n      \"properties\": {\n        \"dtype\": \"object\",\n        \"num_unique_values\": 5,\n        \"samples\": [\n          \"1949-02\",\n          \"1949-05\",\n          \"1949-03\"\n        ],\n        \"semantic_type\": \"\",\n        \"description\": \"\"\n      }\n    },\n    {\n      \"column\": \"Passengers\",\n      \"properties\": {\n        \"dtype\": \"number\",\n        \"std\": 8,\n        \"min\": 112,\n        \"max\": 132,\n        \"num_unique_values\": 5,\n        \"samples\": [\n          118,\n          121,\n          132\n        ],\n        \"semantic_type\": \"\",\n        \"description\": \"\"\n      }\n    }\n  ]\n}"
            }
          },
          "metadata": {}
        }
      ],
      "source": [
        "# Завантаження даних\n",
        "url = \"https://raw.githubusercontent.com/jbrownlee/Datasets/master/airline-passengers.csv\"\n",
        "df = pd.read_csv(url)\n",
        "df.set_index('Month', inplace=True)\n",
        "display(df.head())"
      ]
    },
    {
      "cell_type": "markdown",
      "source": [
        "**Завдання 1.** Створіть змінну типу `numpy.ndarray`, яка містить значення кількості пасажирів в форматі `float32`. Такий формат даних нам треба для тренування нейромережі."
      ],
      "metadata": {
        "id": "BCcNvF28wSH3"
      }
    },
    {
      "cell_type": "code",
      "source": [
        "# Converting the Passengers column to a numpy array of type float32\n",
        "passengers_array = np.array(df['Passengers'], dtype=np.float32)\n",
        "\n",
        "# Checking the result\n",
        "print(passengers_array)\n",
        "print(passengers_array.dtype)"
      ],
      "metadata": {
        "id": "7PcJkPAoBOH5",
        "colab": {
          "base_uri": "https://localhost:8080/"
        },
        "outputId": "5252f3eb-cad5-4f06-92c5-944efe9b603b"
      },
      "execution_count": 37,
      "outputs": [
        {
          "output_type": "stream",
          "name": "stdout",
          "text": [
            "[112. 118. 132. 129. 121. 135. 148. 148. 136. 119. 104. 118. 115. 126.\n",
            " 141. 135. 125. 149. 170. 170. 158. 133. 114. 140. 145. 150. 178. 163.\n",
            " 172. 178. 199. 199. 184. 162. 146. 166. 171. 180. 193. 181. 183. 218.\n",
            " 230. 242. 209. 191. 172. 194. 196. 196. 236. 235. 229. 243. 264. 272.\n",
            " 237. 211. 180. 201. 204. 188. 235. 227. 234. 264. 302. 293. 259. 229.\n",
            " 203. 229. 242. 233. 267. 269. 270. 315. 364. 347. 312. 274. 237. 278.\n",
            " 284. 277. 317. 313. 318. 374. 413. 405. 355. 306. 271. 306. 315. 301.\n",
            " 356. 348. 355. 422. 465. 467. 404. 347. 305. 336. 340. 318. 362. 348.\n",
            " 363. 435. 491. 505. 404. 359. 310. 337. 360. 342. 406. 396. 420. 472.\n",
            " 548. 559. 463. 407. 362. 405. 417. 391. 419. 461. 472. 535. 622. 606.\n",
            " 508. 461. 390. 432.]\n",
            "float32\n"
          ]
        }
      ]
    },
    {
      "cell_type": "markdown",
      "source": [
        "Очікуваний результат:\n",
        "```array([112., 118., 132., 129., 121.], dtype=float32)```"
      ],
      "metadata": {
        "id": "Vms2Pxp1xCrB"
      }
    },
    {
      "cell_type": "markdown",
      "source": [
        "**Завдання 2**. Розбийте дані на тренувальні і валідаційні у співвідношенні 67% йде у тренування, 33 - у валідацію. Памʼятаємо, що ми працюємо з tim series, відповідно, навчаємось на давніших, валідуємось - на новіших."
      ],
      "metadata": {
        "id": "vESTxq-OxLRK"
      }
    },
    {
      "cell_type": "code",
      "source": [
        "# Determine the index to split the data\n",
        "split_index = int(len(passengers_array) * 0.67)\n",
        "\n",
        "# Split the data into training and validation sets\n",
        "train_data = passengers_array[:split_index]\n",
        "val_data = passengers_array[split_index:]\n",
        "\n",
        "# Display the sizes of the training and validation sets\n",
        "print(f\"Training data size: {len(train_data)}\")\n",
        "print(f\"Validation data size: {len(val_data)}\")\n",
        "\n",
        "# Optionally, print the first few values of each set to verify\n",
        "print(\"Training data:\", train_data[:5])\n",
        "print(\"Validation data:\", val_data[:5])"
      ],
      "metadata": {
        "id": "USpGte_tBPR1",
        "colab": {
          "base_uri": "https://localhost:8080/"
        },
        "outputId": "b663b5fa-d170-435b-acb6-e92b872cad30"
      },
      "execution_count": 38,
      "outputs": [
        {
          "output_type": "stream",
          "name": "stdout",
          "text": [
            "Training data size: 96\n",
            "Validation data size: 48\n",
            "Training data: [112. 118. 132. 129. 121.]\n",
            "Validation data: [315. 301. 356. 348. 355.]\n"
          ]
        }
      ]
    },
    {
      "cell_type": "markdown",
      "source": [
        "**Завдання 3**.\n",
        "\n",
        "Реалізуйте функцію `create_dataset`, яка перетворить одномірний часовий ряд (набір даних) у формат, придатний для тренування нейромережі.\n",
        "\n",
        "Функція повинна приймати два аргументи:\n",
        "- `dataset` — numpy-масив часового ряду,\n",
        "- `lookback` — кількість попередніх кроків, які використовуватимуться для передбачення.\n",
        "\n",
        "Функція повинна повернути два **тензори** PyTorch:\n",
        "- `X` — набір ознак (вікно попередніх значень),\n",
        "- `y` — цільові значення (наступні після вікна кроки).\n",
        "\n",
        "Дані ми будемо подавати моделі в наступному форматі:\n",
        "`\n",
        "tensor([[112.],\n",
        "        [118.],\n",
        "        [132.],\n",
        "        [129.],\n",
        "        [121.]])\n",
        "`\n",
        "Відповідно першою розмірністю буде йти розмір вхідного батча, а другою - розмір вхіднизх даних і в нас це 1, бо лише одне значення на вході щоразу.\n",
        "\n",
        "Після виконання завдання запустіть код нижче. Ми будемо передбачати на основі кількості пасажирів в попередній день кількість пасажирів в наступний, тому `lookback == 1`."
      ],
      "metadata": {
        "id": "YB-e-vEDx3bn"
      }
    },
    {
      "cell_type": "code",
      "source": [
        "# Define the create_dataset function\n",
        "def create_dataset(dataset, lookback):\n",
        "    x, y = [], []\n",
        "\n",
        "    # Loop over the dataset to create windows of previous values and next value\n",
        "    for i in range(len(dataset) - lookback):\n",
        "        x.append(dataset[i:i+lookback])  # Create windows of 'lookback' size\n",
        "        y.append(dataset[i + lookback])  # Next value after the window\n",
        "\n",
        "    # Convert lists to PyTorch tensors\n",
        "    x = torch.tensor(x, dtype=torch.float32).unsqueeze(-1)  # Add an extra dimension\n",
        "    y = torch.tensor(y, dtype=torch.float32).unsqueeze(-1)\n",
        "\n",
        "    return x, y"
      ],
      "metadata": {
        "id": "s5UXOiAHBVwe"
      },
      "execution_count": 39,
      "outputs": []
    },
    {
      "cell_type": "code",
      "source": [
        "lookback = 1\n",
        "X_train, y_train = create_dataset(train_data, lookback=lookback)\n",
        "X_test, y_test = create_dataset(val_data, lookback=lookback)\n",
        "print(X_train.shape, y_train.shape)\n",
        "print(X_test.shape, y_test.shape)"
      ],
      "metadata": {
        "colab": {
          "base_uri": "https://localhost:8080/"
        },
        "id": "dA8FwOfwuPyl",
        "outputId": "3dded83e-e59e-4ccd-8de3-bff2ce283105"
      },
      "execution_count": 40,
      "outputs": [
        {
          "output_type": "stream",
          "name": "stdout",
          "text": [
            "torch.Size([95, 1, 1]) torch.Size([95, 1])\n",
            "torch.Size([47, 1, 1]) torch.Size([47, 1])\n"
          ]
        }
      ]
    },
    {
      "cell_type": "markdown",
      "source": [
        "Очікуваний результат:\n",
        "```\n",
        "torch.Size([95, 1]) torch.Size([95, 1])\n",
        "torch.Size([47, 1]) torch.Size([47, 1])\n",
        "```"
      ],
      "metadata": {
        "id": "dvEA-D-SzcWf"
      }
    },
    {
      "cell_type": "markdown",
      "source": [
        "**Завдання 4**.\n",
        "\n",
        "Зверніть увагу на розмірності в попередньому завданні. Ми\n",
        "З допомогою модуля `torch.nn` опишіть клас `AirModel`, який є нейронною мережею для прогнозування кількості пасажирів за допомогою LSTM.\n",
        "\n",
        "1. **Конструктор класу** повинен приймати параметри `hidden_size`, `num_layers` та ініціювати шари:\n",
        "   - LSTM-шар з наступними параметрами:\n",
        "     - `input_size` — кожна точка часового ряду є окремим входом,,\n",
        "     - `hidden_size` — заданий в конструкторі класу мережі,\n",
        "     - `num_layers=1` — кількість шарів LSTM, задана в конструкторі мережі,\n",
        "     - `batch_first=True` — визначає, що першим виміром є розмір батчу.\n",
        "   - Лінійний шар (`nn.Linear`) для перетворення виходу LSTM на прогноз однієї точки.\n",
        "\n",
        "2. **Метод forward** повинен виконувати наступні дії:\n",
        "   - Передати вхідний тензор через LSTM-шар і отримати виходи (ігноруючи приховані стани).\n",
        "   - Пропустити вихід LSTM через лінійний шар для отримання остаточного прогнозу.\n",
        "\n",
        "Створіть об'єкт класу `AirModel` зі значеннями параметрів `hidden_size=50`, `num_layers=1` і протестуйте роботу моделі на вхідному тензорі `tensor([[112.]])`. На цьому етапі ми маємо переконатись, що модель здатна генерувати передбачення з рандомно ініційованими вагами."
      ],
      "metadata": {
        "id": "eeiFJ-jDznj5"
      }
    },
    {
      "cell_type": "code",
      "source": [
        "# Define the AirModel class\n",
        "class AirModel(nn.Module):\n",
        "    def __init__(self, hidden_size, num_layers):\n",
        "        super(AirModel, self).__init__()\n",
        "\n",
        "        # Define LSTM layer\n",
        "        self.lstm = nn.LSTM(\n",
        "            input_size=1,          # Each time step is a single value (e.g., passengers)\n",
        "            hidden_size=hidden_size,  # Hidden layer size\n",
        "            num_layers=num_layers,    # Number of LSTM layers\n",
        "            batch_first=True          # Batch size is the first dimension\n",
        "        )\n",
        "\n",
        "        # Define a linear layer to map LSTM output to a single value prediction\n",
        "        self.linear = nn.Linear(hidden_size, 1)\n",
        "\n",
        "    # Define the forward method\n",
        "    def forward(self, x):\n",
        "        # LSTM returns the output and the hidden states (we ignore the hidden states)\n",
        "        lstm_out, _ = self.lstm(x)\n",
        "\n",
        "        # Pass the output of LSTM through the linear layer to get the prediction\n",
        "        output = self.linear(lstm_out[:, -1, :])  # We only take the output of the last time step\n",
        "\n",
        "        return output"
      ],
      "metadata": {
        "id": "dcafrsmrDHsz"
      },
      "execution_count": 41,
      "outputs": []
    },
    {
      "cell_type": "code",
      "source": [
        "# Instantiate the AirModel with hidden_size=50 and num_layers=1\n",
        "model = AirModel(hidden_size=50, num_layers=1)\n",
        "\n",
        "# Test the model with a sample input tensor\n",
        "input_tensor = torch.tensor([[[112.]]])  # A single batch with one time step and one feature\n",
        "output = model(input_tensor)\n",
        "\n",
        "# Print the output to verify the model works with randomly initialized weights\n",
        "print(output)"
      ],
      "metadata": {
        "colab": {
          "base_uri": "https://localhost:8080/"
        },
        "id": "xNlYRnq0ruNb",
        "outputId": "02c03569-dc0f-4d9e-a8be-de42517f8a5c"
      },
      "execution_count": 42,
      "outputs": [
        {
          "output_type": "stream",
          "name": "stdout",
          "text": [
            "tensor([[0.1280]], grad_fn=<AddmmBackward0>)\n"
          ]
        }
      ]
    },
    {
      "cell_type": "markdown",
      "source": [
        "**Завдання 5**.\n",
        "\n",
        "Створіть об'єкт DataLoader для завантаження даних, використовуючи тренувальні вибірки `X_train` та `y_train`. Ваш DataLoader повинен виконувати наступні вимоги:\n",
        "\n",
        "1. Використовувати клас `TensorDataset`, щоб об'єднати тензори ознак `X_train` і цільових значень `y_train`.\n",
        "2. Дані повинні завантажуватися невеликими батчами розміром 8 за допомогою параметра `batch_size`.\n",
        "3. Використовувати параметр `shuffle=True`, щоб дані перемішувалися перед кожною епохою тренування.\n"
      ],
      "metadata": {
        "id": "-R6zv9nu2tWB"
      }
    },
    {
      "cell_type": "code",
      "source": [
        "# Step 1: Create a TensorDataset using X_train and y_train\n",
        "train_dataset = TensorDataset(X_train, y_train)\n",
        "\n",
        "# Step 2: Create a DataLoader with a batch size of 8 and shuffling enabled\n",
        "batch_size = 8\n",
        "train_loader = DataLoader(train_dataset, batch_size=batch_size, shuffle=True)\n",
        "\n",
        "# Print the batches to verify the DataLoader is working\n",
        "for i, (inputs, targets) in enumerate(train_loader):\n",
        "    print(f\"Batch {i+1}\")\n",
        "    print(\"Inputs:\", inputs)\n",
        "    print(\"Targets:\", targets)"
      ],
      "metadata": {
        "id": "WKdkptY7DMAc",
        "colab": {
          "base_uri": "https://localhost:8080/"
        },
        "collapsed": true,
        "outputId": "eeb89d1c-a82f-468a-824a-ea31fe99e52a"
      },
      "execution_count": 43,
      "outputs": [
        {
          "output_type": "stream",
          "name": "stdout",
          "text": [
            "Batch 1\n",
            "Inputs: tensor([[[229.]],\n",
            "\n",
            "        [[184.]],\n",
            "\n",
            "        [[235.]],\n",
            "\n",
            "        [[149.]],\n",
            "\n",
            "        [[118.]],\n",
            "\n",
            "        [[317.]],\n",
            "\n",
            "        [[191.]],\n",
            "\n",
            "        [[180.]]])\n",
            "Targets: tensor([[243.],\n",
            "        [162.],\n",
            "        [227.],\n",
            "        [170.],\n",
            "        [115.],\n",
            "        [313.],\n",
            "        [172.],\n",
            "        [201.]])\n",
            "Batch 2\n",
            "Inputs: tensor([[[315.]],\n",
            "\n",
            "        [[172.]],\n",
            "\n",
            "        [[170.]],\n",
            "\n",
            "        [[313.]],\n",
            "\n",
            "        [[196.]],\n",
            "\n",
            "        [[271.]],\n",
            "\n",
            "        [[178.]],\n",
            "\n",
            "        [[172.]]])\n",
            "Targets: tensor([[364.],\n",
            "        [194.],\n",
            "        [170.],\n",
            "        [318.],\n",
            "        [236.],\n",
            "        [306.],\n",
            "        [199.],\n",
            "        [178.]])\n",
            "Batch 3\n",
            "Inputs: tensor([[[229.]],\n",
            "\n",
            "        [[274.]],\n",
            "\n",
            "        [[180.]],\n",
            "\n",
            "        [[278.]],\n",
            "\n",
            "        [[163.]],\n",
            "\n",
            "        [[318.]],\n",
            "\n",
            "        [[150.]],\n",
            "\n",
            "        [[242.]]])\n",
            "Targets: tensor([[242.],\n",
            "        [237.],\n",
            "        [193.],\n",
            "        [284.],\n",
            "        [172.],\n",
            "        [374.],\n",
            "        [178.],\n",
            "        [233.]])\n",
            "Batch 4\n",
            "Inputs: tensor([[[121.]],\n",
            "\n",
            "        [[237.]],\n",
            "\n",
            "        [[188.]],\n",
            "\n",
            "        [[178.]],\n",
            "\n",
            "        [[183.]],\n",
            "\n",
            "        [[405.]],\n",
            "\n",
            "        [[148.]],\n",
            "\n",
            "        [[133.]]])\n",
            "Targets: tensor([[135.],\n",
            "        [278.],\n",
            "        [235.],\n",
            "        [163.],\n",
            "        [218.],\n",
            "        [355.],\n",
            "        [148.],\n",
            "        [114.]])\n",
            "Batch 5\n",
            "Inputs: tensor([[[364.]],\n",
            "\n",
            "        [[230.]],\n",
            "\n",
            "        [[196.]],\n",
            "\n",
            "        [[264.]],\n",
            "\n",
            "        [[270.]],\n",
            "\n",
            "        [[209.]],\n",
            "\n",
            "        [[203.]],\n",
            "\n",
            "        [[112.]]])\n",
            "Targets: tensor([[347.],\n",
            "        [242.],\n",
            "        [196.],\n",
            "        [302.],\n",
            "        [315.],\n",
            "        [191.],\n",
            "        [229.],\n",
            "        [118.]])\n",
            "Batch 6\n",
            "Inputs: tensor([[[145.]],\n",
            "\n",
            "        [[135.]],\n",
            "\n",
            "        [[269.]],\n",
            "\n",
            "        [[293.]],\n",
            "\n",
            "        [[374.]],\n",
            "\n",
            "        [[125.]],\n",
            "\n",
            "        [[146.]],\n",
            "\n",
            "        [[204.]]])\n",
            "Targets: tensor([[150.],\n",
            "        [125.],\n",
            "        [270.],\n",
            "        [259.],\n",
            "        [413.],\n",
            "        [149.],\n",
            "        [166.],\n",
            "        [188.]])\n",
            "Batch 7\n",
            "Inputs: tensor([[[235.]],\n",
            "\n",
            "        [[267.]],\n",
            "\n",
            "        [[118.]],\n",
            "\n",
            "        [[119.]],\n",
            "\n",
            "        [[277.]],\n",
            "\n",
            "        [[347.]],\n",
            "\n",
            "        [[211.]],\n",
            "\n",
            "        [[129.]]])\n",
            "Targets: tensor([[229.],\n",
            "        [269.],\n",
            "        [132.],\n",
            "        [104.],\n",
            "        [317.],\n",
            "        [312.],\n",
            "        [180.],\n",
            "        [121.]])\n",
            "Batch 8\n",
            "Inputs: tensor([[[229.]],\n",
            "\n",
            "        [[199.]],\n",
            "\n",
            "        [[284.]],\n",
            "\n",
            "        [[104.]],\n",
            "\n",
            "        [[115.]],\n",
            "\n",
            "        [[227.]],\n",
            "\n",
            "        [[355.]],\n",
            "\n",
            "        [[233.]]])\n",
            "Targets: tensor([[203.],\n",
            "        [184.],\n",
            "        [277.],\n",
            "        [118.],\n",
            "        [126.],\n",
            "        [234.],\n",
            "        [306.],\n",
            "        [267.]])\n",
            "Batch 9\n",
            "Inputs: tensor([[[201.]],\n",
            "\n",
            "        [[242.]],\n",
            "\n",
            "        [[171.]],\n",
            "\n",
            "        [[126.]],\n",
            "\n",
            "        [[302.]],\n",
            "\n",
            "        [[140.]],\n",
            "\n",
            "        [[135.]],\n",
            "\n",
            "        [[259.]]])\n",
            "Targets: tensor([[204.],\n",
            "        [209.],\n",
            "        [180.],\n",
            "        [141.],\n",
            "        [293.],\n",
            "        [145.],\n",
            "        [148.],\n",
            "        [229.]])\n",
            "Batch 10\n",
            "Inputs: tensor([[[243.]],\n",
            "\n",
            "        [[158.]],\n",
            "\n",
            "        [[306.]],\n",
            "\n",
            "        [[218.]],\n",
            "\n",
            "        [[237.]],\n",
            "\n",
            "        [[193.]],\n",
            "\n",
            "        [[264.]],\n",
            "\n",
            "        [[114.]]])\n",
            "Targets: tensor([[264.],\n",
            "        [133.],\n",
            "        [271.],\n",
            "        [230.],\n",
            "        [211.],\n",
            "        [181.],\n",
            "        [272.],\n",
            "        [140.]])\n",
            "Batch 11\n",
            "Inputs: tensor([[[181.]],\n",
            "\n",
            "        [[141.]],\n",
            "\n",
            "        [[234.]],\n",
            "\n",
            "        [[170.]],\n",
            "\n",
            "        [[413.]],\n",
            "\n",
            "        [[166.]],\n",
            "\n",
            "        [[136.]],\n",
            "\n",
            "        [[148.]]])\n",
            "Targets: tensor([[183.],\n",
            "        [135.],\n",
            "        [264.],\n",
            "        [158.],\n",
            "        [405.],\n",
            "        [171.],\n",
            "        [119.],\n",
            "        [136.]])\n",
            "Batch 12\n",
            "Inputs: tensor([[[162.]],\n",
            "\n",
            "        [[236.]],\n",
            "\n",
            "        [[272.]],\n",
            "\n",
            "        [[194.]],\n",
            "\n",
            "        [[312.]],\n",
            "\n",
            "        [[132.]],\n",
            "\n",
            "        [[199.]]])\n",
            "Targets: tensor([[146.],\n",
            "        [235.],\n",
            "        [237.],\n",
            "        [196.],\n",
            "        [274.],\n",
            "        [129.],\n",
            "        [199.]])\n"
          ]
        }
      ]
    },
    {
      "cell_type": "markdown",
      "source": [
        "**Завдання 6**.\n",
        "\n",
        "1. Реалізуйте навчання нейронної мережі `AirModel` для прогнозування часових рядів, використовуючи Adam-оптимізатор та функцію втрат MSE (середньоквадратичну похибку).\n",
        "2. Створіть цикл тренування для 2000 епох, у якому на кожній епосі:\n",
        "   - Виконуйте крок тренування моделі (прямий прохід, обчислення похибки, зворотний прохід і оновлення ваг).\n",
        "   - Підраховуйте середню похибку на кожному батчі даних і зберігайте її у списку `losses`.\n",
        "3. Раз на 100 епох проводьте валідацію моделі:\n",
        "   - Перевіряйте модель на тренувальних та тестових даних без оновлення ваг.\n",
        "   - Обчислюйте корінь середньоквадратичної похибки (RMSE) для тренувальної та тестової вибірок і виводьте результати на екран.\n",
        "   \n",
        "**Примітка:**\n",
        "- Використовуйте вже створений `DataLoader` для отримання батчів даних.\n",
        "- Валідацію виконуйте в режимі `eval()`, вимикаючи обчислення градієнтів з `torch.no_grad()`.\n",
        "\n",
        "**Приклад виходу:**\n",
        "```\n",
        "Epoch 0: train RMSE 12.3456, test RMSE 15.6789\n",
        "Epoch 100: train RMSE 9.8765, test RMSE 12.3456\n",
        "...\n",
        "```"
      ],
      "metadata": {
        "id": "6ZaGh7IF2nfT"
      }
    },
    {
      "cell_type": "code",
      "source": [
        "# Function to calculate RMSE\n",
        "def rmse_loss(y_pred, y_true):\n",
        "    return torch.sqrt(nn.MSELoss()(y_pred, y_true))"
      ],
      "metadata": {
        "id": "pEVnWusrDNTt"
      },
      "execution_count": 44,
      "outputs": []
    },
    {
      "cell_type": "code",
      "source": [
        "# Initialize the model, loss function, and optimizer\n",
        "model = AirModel(hidden_size=50, num_layers=1)\n",
        "optimizer = optim.Adam(model.parameters(), lr=0.001)\n",
        "criterion = nn.MSELoss()\n",
        "\n",
        "# Set the model to training mode\n",
        "model.train()\n",
        "\n",
        "# Number of epochs\n",
        "epochs = 2000\n",
        "\n",
        "# Store losses\n",
        "train_losses = []"
      ],
      "metadata": {
        "id": "NM83vL88sX1X"
      },
      "execution_count": 45,
      "outputs": []
    },
    {
      "cell_type": "code",
      "source": [
        "test_dataset = TensorDataset(X_test, y_test)\n",
        "\n",
        "# Create a DataLoader for the test (validation) dataset\n",
        "test_loader = DataLoader(test_dataset, batch_size=batch_size, shuffle=False)  # No shuffling for the test set"
      ],
      "metadata": {
        "id": "onaDyP8Ws07C"
      },
      "execution_count": 46,
      "outputs": []
    },
    {
      "cell_type": "code",
      "source": [
        "# Number of epochs\n",
        "epochs = 2000\n",
        "\n",
        "# Store losses\n",
        "train_losses = []\n",
        "\n",
        "# Training loop\n",
        "for epoch in range(epochs):\n",
        "    epoch_train_loss = 0\n",
        "\n",
        "    # Training\n",
        "    for X_batch, y_batch in train_loader:\n",
        "        # Zero the gradients\n",
        "        optimizer.zero_grad()\n",
        "\n",
        "        # Forward pass\n",
        "        y_pred = model(X_batch)\n",
        "\n",
        "        # Compute the loss\n",
        "        loss = criterion(y_pred, y_batch)\n",
        "\n",
        "        # Backward pass and optimization\n",
        "        loss.backward()\n",
        "        optimizer.step()\n",
        "\n",
        "        # Accumulate the training loss\n",
        "        epoch_train_loss += loss.item()\n",
        "\n",
        "    # Calculate average training RMSE\n",
        "    avg_train_rmse = math.sqrt(epoch_train_loss / len(train_loader))\n",
        "\n",
        "    # Every 100 epochs, evaluate on the validation set\n",
        "    if (epoch + 1) % 100 == 0:\n",
        "        model.eval()  # Set the model to evaluation mode\n",
        "        val_loss = 0\n",
        "\n",
        "        with torch.no_grad():  # Disable gradient calculations\n",
        "            for X_batch, y_batch in test_loader:\n",
        "                # Forward pass\n",
        "                y_pred = model(X_batch)\n",
        "\n",
        "                # Compute validation loss\n",
        "                val_loss += criterion(y_pred, y_batch).item()\n",
        "\n",
        "        # Calculate RMSE for the validation set\n",
        "        avg_val_rmse = math.sqrt(val_loss / len(test_loader))\n",
        "\n",
        "        # Print RMSE for both training and validation\n",
        "        print(f\"Epoch {epoch+1}: train RMSE {avg_train_rmse:.4f}, test RMSE {avg_val_rmse:.4f}\")\n",
        "\n",
        "        model.train()  # Switch back to training mode\n",
        "\n",
        "    # Save training RMSE for each epoch\n",
        "    train_losses.append(avg_train_rmse)"
      ],
      "metadata": {
        "colab": {
          "base_uri": "https://localhost:8080/"
        },
        "id": "Py_tBa-8scw8",
        "outputId": "042921e1-c9ca-4cde-a4dd-48e819c2f35a"
      },
      "execution_count": 47,
      "outputs": [
        {
          "output_type": "stream",
          "name": "stdout",
          "text": [
            "Epoch 100: train RMSE 190.2999, test RMSE 387.1830\n",
            "Epoch 200: train RMSE 159.3902, test RMSE 353.9043\n",
            "Epoch 300: train RMSE 131.8604, test RMSE 323.7165\n",
            "Epoch 400: train RMSE 109.1143, test RMSE 295.9351\n",
            "Epoch 500: train RMSE 91.2392, test RMSE 270.7996\n",
            "Epoch 600: train RMSE 74.9331, test RMSE 247.0038\n",
            "Epoch 700: train RMSE 61.0298, test RMSE 224.2765\n",
            "Epoch 800: train RMSE 50.1683, test RMSE 203.6930\n",
            "Epoch 900: train RMSE 42.5467, test RMSE 184.9946\n",
            "Epoch 1000: train RMSE 36.5244, test RMSE 168.4056\n",
            "Epoch 1100: train RMSE 31.7494, test RMSE 154.1678\n",
            "Epoch 1200: train RMSE 29.6717, test RMSE 142.2634\n",
            "Epoch 1300: train RMSE 27.4367, test RMSE 132.2049\n",
            "Epoch 1400: train RMSE 26.5800, test RMSE 124.5820\n",
            "Epoch 1500: train RMSE 25.3372, test RMSE 118.5256\n",
            "Epoch 1600: train RMSE 27.3162, test RMSE 112.5592\n",
            "Epoch 1700: train RMSE 26.3137, test RMSE 108.5683\n",
            "Epoch 1800: train RMSE 25.8453, test RMSE 106.8823\n",
            "Epoch 1900: train RMSE 24.2689, test RMSE 102.9905\n",
            "Epoch 2000: train RMSE 24.8003, test RMSE 100.7008\n"
          ]
        }
      ]
    },
    {
      "cell_type": "markdown",
      "source": [
        "**Завдання 7.** Побудуйте графік лосів. Зробіть висновок з графіку, чи навчилась модель?"
      ],
      "metadata": {
        "id": "m0sIo4kp5X_s"
      }
    },
    {
      "cell_type": "code",
      "source": [
        "plt.figure(figsize=(10, 6))\n",
        "plt.plot(train_losses, label=\"Training RMSE\")\n",
        "plt.title(\"Training RMSE Over Epochs\")\n",
        "plt.xlabel(\"Epochs\")\n",
        "plt.ylabel(\"RMSE\")\n",
        "plt.legend()\n",
        "plt.grid(True)\n",
        "plt.show()"
      ],
      "metadata": {
        "id": "AS2USLRq76up",
        "colab": {
          "base_uri": "https://localhost:8080/",
          "height": 564
        },
        "outputId": "e3114be9-4d40-43e0-db6c-28edab3e6773"
      },
      "execution_count": 48,
      "outputs": [
        {
          "output_type": "display_data",
          "data": {
            "text/plain": [
              "<Figure size 1000x600 with 1 Axes>"
            ],
            "image/png": "[encoded data removed]"
          },
          "metadata": {}
        }
      ]
    },
    {
      "cell_type": "markdown",
      "source": [
        "Модель навчилася, але точність її передбачень не є ідеальною, що видно по значенню середньоквадратичної похибки (RMSE) на тестовому наборі даних, яке значно перевищує очікуване.\n",
        "\n",
        "Високе значення RMSE (на порядок більше за одиницю) вказує на те, що в середньому модель сильно відхиляється від реальних значень. Наприклад, якщо RMSE дорівнює 100, це означає, що передбачення моделі відрізняються від фактичних значень приблизно на 100 000 пасажирів, що є суттєвою помилкою для цього набору даних.\n",
        "\n",
        "Це неочікувано, оскільки модель показує гарні результати на тренувальному наборі даних, що може свідчити про перенавчання (overfitting). Модель, ймовірно, добре запам'ятала навчальні дані, але погано узагальнює на нових даних (тестовому наборі).\n",
        "\n",
        "Необхідні додаткові заходи: застосування методів регуляризації (наприклад, L2-регуляризація), нормалізація даних або коригування процесу навчання можуть допомогти покращити здатність моделі до узагальнення та зменшити похибку на тестовому наборі."
      ],
      "metadata": {
        "id": "QONE5ulut9g2"
      }
    },
    {
      "cell_type": "markdown",
      "source": [
        "Модель навчилась, але не факт, що точно)"
      ],
      "metadata": {
        "id": "8eBoUQVB5p0h"
      }
    },
    {
      "cell_type": "markdown",
      "source": [
        "Доволі неочікувано, що середньоквадратичне відхилення тестового набору даних буде на порядок більшим за одиниці в нашому наборі даних. Середньоквадратичне відхилення 100 означає, що прогноз і фактичне значення будуть відрізнятися в середньому на 100 (тобто, 100 000 пасажирів у цьому наборі даних).\n",
        "\n"
      ],
      "metadata": {
        "id": "-vCiGfQw7sEK"
      }
    },
    {
      "cell_type": "markdown",
      "source": [
        "Щоб краще зрозуміти якість прогнозу, ви можете побудувати графік з кодом нижче (а ще нижче - описано, що відбувається в цьому коді, бо це теж корисно зрозуміти):"
      ],
      "metadata": {
        "id": "bgtO7NZh77vU"
      }
    },
    {
      "cell_type": "code",
      "source": [
        "timeseries = passengers_array"
      ],
      "metadata": {
        "id": "QoX22wb1uODP"
      },
      "execution_count": 49,
      "outputs": []
    },
    {
      "cell_type": "code",
      "source": [
        "def plot_predicts():\n",
        "    with torch.no_grad():  # Disable gradient calculation for predictions\n",
        "\n",
        "        # Get the size of the training set\n",
        "        train_size = len(X_train)\n",
        "\n",
        "        # Create placeholders for predictions\n",
        "        train_plot = np.ones_like(timeseries) * np.nan\n",
        "        test_plot = np.ones_like(timeseries) * np.nan\n",
        "\n",
        "        # Generate predictions for the training data\n",
        "        y_pred_train = model(X_train)\n",
        "        train_plot[lookback:lookback + train_size] = y_pred_train[:, -1].numpy()\n",
        "\n",
        "        # Generate predictions for the test data\n",
        "        y_pred_test = model(X_test)\n",
        "        test_plot[lookback + train_size:lookback + train_size + len(X_test)] = y_pred_test[:, -1].numpy()\n",
        "\n",
        "        # Visualization of real data and predictions\n",
        "        plt.plot(timeseries, color='b', label='Actual data')\n",
        "        plt.plot(train_plot, color='r', label='Predictions on training data')\n",
        "        plt.plot(test_plot, color='g', label='Predictions on test data')\n",
        "\n",
        "        plt.title('Time Series Prediction')\n",
        "        plt.xlabel('Time')\n",
        "        plt.ylabel('Passengers')\n",
        "        plt.legend()\n",
        "        plt.show()\n",
        "\n",
        "# Call the function to plot predictions\n",
        "plot_predicts()"
      ],
      "metadata": {
        "id": "ZznU2AK0vES5",
        "colab": {
          "base_uri": "https://localhost:8080/",
          "height": 472
        },
        "outputId": "e4934941-929f-4986-c64a-363538ac2407"
      },
      "execution_count": 50,
      "outputs": [
        {
          "output_type": "display_data",
          "data": {
            "text/plain": [
              "<Figure size 640x480 with 1 Axes>"
            ],
            "image/png": "[encoded data removed]"
          },
          "metadata": {}
        }
      ]
    },
    {
      "cell_type": "markdown",
      "source": [
        "**Що відбувається в коді вище.** В цьому коді здійснюється процес прогнозування часових рядів за допомогою LSTM моделі, а також виведення графіку, який показує реальні значення, тренувальні та тестові прогнози. Ось що відбувається на кожному етапі:\n",
        "\n",
        "1. **`torch.no_grad()`**: Цей контекстний менеджер вимикає обчислення градієнтів, що означає, що під час прогнозування не будуть зберігатися проміжні обчислення для зворотного проходу (backpropagation). Це підвищує ефективність під час прогнозування і зменшує використання пам'яті.\n",
        "\n",
        "2. **Зсув прогнозів для тренувальних даних:**\n",
        "   - Створюється масив `train_plot`, який має такий самий розмір, як і часовий ряд (`timeseries`), і заповнюється значеннями NaN (`np.nan`), щоб залишити місце для реальних значень.\n",
        "   - Модель передбачає виходи для тренувальних даних `X_train`.\n",
        "   - Використовується лише останнє передбачене значення для кожного входу LSTM (`y_pred[:, -1]`).\n",
        "   - Прогнози зсуваються, починаючи з індексу `lookback` до кінця тренувальних даних (індекс `train_size`). Цей зсув потрібен, щоб зробити прогноз на основі попередніх даних і відобразити його на правильній частині графіку.\n",
        "\n",
        "3. **Зсув прогнозів для тестових даних:**\n",
        "   - Створюється масив `test_plot`, який також заповнюється NaN.\n",
        "   - Прогнози для тестових даних додаються з індексу `train_size + lookback` до кінця реальних даних, щоб відобразити, де модель починає прогнозувати тестову вибірку.\n",
        "\n",
        "4. **Побудова графіка:**\n",
        "   - `plt.plot(timeseries, c='b')`: Виводить реальні значення часового ряду (синя лінія).\n",
        "   - `plt.plot(train_plot, c='r')`: Виводить тренувальні прогнози (червона лінія).\n",
        "   - `plt.plot(test_plot, c='g')`: Виводить тестові прогнози (зелена лінія).\n",
        "\n",
        "**Чому це робиться:**\n",
        "- Зсув прогнозів для тренувальних і тестових даних дозволяє візуально зрівняти, наскільки добре модель прогнозує як на тренувальній, так і на тестовій вибірках. Зазвичай, червона лінія (тренувальні прогнози) повинна точно відповідати синій лінії (реальні дані), а зелена лінія (тестові прогнози) дає змогу побачити, наскільки модель добре працює на нових даних, яких вона раніше не бачила."
      ],
      "metadata": {
        "id": "ahPW3iiJDg1R"
      }
    },
    {
      "cell_type": "markdown",
      "source": [
        "**Завдання 8**. Навчіть модель з hidden_size=100 та порівняйте результати прогнозів з попередніми."
      ],
      "metadata": {
        "id": "PhoeHLus-xIr"
      }
    },
    {
      "cell_type": "code",
      "source": [
        "# Define a new model with hidden_size=100\n",
        "model = AirModel(hidden_size=100, num_layers=1)\n",
        "\n",
        "# Initialize the optimizer again since we have a new model\n",
        "optimizer = optim.Adam(model.parameters(), lr=0.001)\n",
        "\n",
        "# Set the model to training mode\n",
        "model.train()\n",
        "\n",
        "# Number of epochs\n",
        "epochs = 2000\n",
        "\n",
        "# Store losses\n",
        "train_losses = []"
      ],
      "metadata": {
        "id": "pathvgWfvKRt"
      },
      "execution_count": 51,
      "outputs": []
    },
    {
      "cell_type": "code",
      "source": [
        "# Training loop\n",
        "for epoch in range(epochs):\n",
        "    epoch_train_loss = 0\n",
        "\n",
        "    # Training\n",
        "    for X_batch, y_batch in train_loader:\n",
        "        # Zero the gradients\n",
        "        optimizer.zero_grad()\n",
        "\n",
        "        # Forward pass\n",
        "        y_pred = model(X_batch)\n",
        "\n",
        "        # Compute the loss\n",
        "        loss = criterion(y_pred, y_batch)\n",
        "\n",
        "        # Backward pass and optimization\n",
        "        loss.backward()\n",
        "        optimizer.step()\n",
        "\n",
        "        # Accumulate the training loss\n",
        "        epoch_train_loss += loss.item()\n",
        "\n",
        "    # Calculate average training RMSE\n",
        "    avg_train_rmse = math.sqrt(epoch_train_loss / len(train_loader))\n",
        "\n",
        "    # Every 100 epochs, evaluate on the validation set\n",
        "    if (epoch + 1) % 100 == 0:\n",
        "        model.eval()  # Set the model to evaluation mode\n",
        "        val_loss = 0\n",
        "\n",
        "        with torch.no_grad():  # Disable gradient calculations\n",
        "            for X_batch, y_batch in test_loader:\n",
        "                # Forward pass\n",
        "                y_pred = model(X_batch)\n",
        "\n",
        "                # Compute validation loss\n",
        "                val_loss += criterion(y_pred, y_batch).item()\n",
        "\n",
        "        # Calculate RMSE for the validation set\n",
        "        avg_val_rmse = math.sqrt(val_loss / len(test_loader))\n",
        "\n",
        "        # Print RMSE for both training and validation\n",
        "        print(f\"Epoch {epoch+1}: train RMSE {avg_train_rmse:.4f}, test RMSE {avg_val_rmse:.4f}\")\n",
        "\n",
        "        model.train()  # Switch back to training mode\n",
        "\n",
        "    # Save training RMSE for each epoch\n",
        "    train_losses.append(avg_train_rmse)"
      ],
      "metadata": {
        "id": "92032N_E_PxY",
        "colab": {
          "base_uri": "https://localhost:8080/"
        },
        "outputId": "bbaaeb22-d02e-4035-845a-d737ea3142cd"
      },
      "execution_count": 52,
      "outputs": [
        {
          "output_type": "stream",
          "name": "stdout",
          "text": [
            "Epoch 100: train RMSE 151.4734, test RMSE 345.0790\n",
            "Epoch 200: train RMSE 102.7964, test RMSE 287.6170\n",
            "Epoch 300: train RMSE 73.3669, test RMSE 244.2200\n",
            "Epoch 400: train RMSE 52.3906, test RMSE 207.4569\n",
            "Epoch 500: train RMSE 41.2126, test RMSE 178.1930\n",
            "Epoch 600: train RMSE 32.2069, test RMSE 154.4088\n",
            "Epoch 700: train RMSE 29.6655, test RMSE 136.2252\n",
            "Epoch 800: train RMSE 26.5495, test RMSE 122.5620\n",
            "Epoch 900: train RMSE 25.1632, test RMSE 113.6039\n",
            "Epoch 1000: train RMSE 24.8862, test RMSE 109.0559\n",
            "Epoch 1100: train RMSE 25.3158, test RMSE 101.9132\n",
            "Epoch 1200: train RMSE 24.8222, test RMSE 99.7264\n",
            "Epoch 1300: train RMSE 24.0636, test RMSE 97.1727\n",
            "Epoch 1400: train RMSE 24.1836, test RMSE 94.2840\n",
            "Epoch 1500: train RMSE 24.2894, test RMSE 95.5492\n",
            "Epoch 1600: train RMSE 24.2271, test RMSE 91.5953\n",
            "Epoch 1700: train RMSE 23.5415, test RMSE 91.2766\n",
            "Epoch 1800: train RMSE 24.2091, test RMSE 89.1299\n",
            "Epoch 1900: train RMSE 23.8923, test RMSE 90.1269\n",
            "Epoch 2000: train RMSE 24.2685, test RMSE 90.6514\n"
          ]
        }
      ]
    },
    {
      "cell_type": "code",
      "source": [
        "plt.figure(figsize=(10, 6))\n",
        "plt.plot(train_losses, label=\"Training RMSE hidden_size=100\")\n",
        "plt.title(\"Training RMSE Over Epochs\")\n",
        "plt.xlabel(\"Epochs\")\n",
        "plt.ylabel(\"RMSE\")\n",
        "plt.legend()\n",
        "plt.grid(True)\n",
        "plt.show()"
      ],
      "metadata": {
        "colab": {
          "base_uri": "https://localhost:8080/",
          "height": 564
        },
        "id": "6pggPvLtvYr3",
        "outputId": "2c642d71-ed8a-412c-ec02-094f19f74876"
      },
      "execution_count": 53,
      "outputs": [
        {
          "output_type": "display_data",
          "data": {
            "text/plain": [
              "<Figure size 1000x600 with 1 Axes>"
            ],
            "image/png": "[encoded data removed]"
          },
          "metadata": {}
        }
      ]
    },
    {
      "cell_type": "code",
      "source": [
        "# Call the function to plot predictions\n",
        "plot_predicts()"
      ],
      "metadata": {
        "colab": {
          "base_uri": "https://localhost:8080/",
          "height": 472
        },
        "id": "7Gwveh1evhGu",
        "outputId": "de21090b-11e6-4837-8521-b57ff22d49b1"
      },
      "execution_count": null,
      "outputs": [
        {
          "output_type": "display_data",
          "data": {
            "text/plain": [
              "<Figure size 640x480 with 1 Axes>"
            ],
            "image/png": "[encoded data removed]"
          },
          "metadata": {}
        }
      ]
    },
    {
      "cell_type": "markdown",
      "source": [
        "### Висновки щодо порівняння двох моделей:\n",
        "\n",
        "1. **RMSE (середньоквадратична похибка):**\n",
        "   - Перша модель (з `hidden_size=50`) демонструє стабільний RMSE на тренувальному наборі близько 24 після 2000 епох. Однак на тестовому наборі RMSE починається дуже високим (понад 350) і зменшується до близько 100 до кінця тренування. Це свідчить про те, що модель добре вивчила тренувальні дані, але має проблеми з узагальненням на нові дані (оверфіттинг).\n",
        "   - Друга модель (з `hidden_size=100`) має аналогічну картину на тренувальних даних, де RMSE теж стабілізується близько 24 після 2000 епох. Проте на тестовому наборі RMSE зменшується швидше і досягає значення близько 90, що трохи краще за першу модель.\n",
        "\n",
        "2.  На графіках RMSE для обох моделей видно схожу картину: різке падіння помилки на перших кількох сотнях епох з подальшою стабілізацією близько 24 на тренувальному наборі. Проте в обох випадках тестова похибка залишається досить високою, що свідчить про наявність деяких проблем із узагальненням на тестові дані.\n",
        "\n",
        "3. **Графіки передбачень:**\n",
        "   - На графіку передбачень для обох моделей видно, що модель добре слідує за реальними даними на тренувальному наборі (червона лінія), але на тестовому наборі (зелена лінія) вона починає відхилятися, особливо на більш пізніх етапах, коли кількість пасажирів значно зростає.\n",
        "   - Друга модель (з `hidden_size=100`) трохи краще відтворює тенденції на тестовому наборі, особливо у першій половині, де зелена лінія слідує за синьою трохи точніше, ніж у першій моделі.\n",
        "\n",
        "### Загальні висновки:\n",
        "- **Обидві моделі** добре справляються із завданням на тренувальних даних, але демонструють певні проблеми з узагальненням на тестовому наборі, що може свідчити про оверфіттинг.\n",
        "- **Модель з `hidden_size=100`** показує трохи кращі результати на тестових даних порівняно з першою моделлю, особливо в контексті RMSE, який знизився до 90 (проти 100 у першої моделі).\n",
        "- Можливо, варто розглянути методи регуляризації або використання більше даних для тренування, щоб зменшити оверфіттинг і покращити узагальнення на тестові дані."
      ],
      "metadata": {
        "id": "IkeQ1yt1xNXb"
      }
    }
  ]
}