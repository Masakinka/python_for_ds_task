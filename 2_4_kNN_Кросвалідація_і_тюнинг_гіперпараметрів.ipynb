{
  "nbformat": 4,
  "nbformat_minor": 0,
  "metadata": {
    "colab": {
      "provenance": [],
      "include_colab_link": true
    },
    "kernelspec": {
      "name": "python3",
      "display_name": "Python 3"
    },
    "language_info": {
      "name": "python"
    }
  },
  "cells": [
    {
      "cell_type": "markdown",
      "metadata": {
        "id": "view-in-github",
        "colab_type": "text"
      },
      "source": [
        "<a href=\"https://colab.research.google.com/github/Masakinka/python_for_ds_task/blob/main/2_4_kNN_%D0%9A%D1%80%D0%BE%D1%81%D0%B2%D0%B0%D0%BB%D1%96%D0%B4%D0%B0%D1%86%D1%96%D1%8F_%D1%96_%D1%82%D1%8E%D0%BD%D0%B8%D0%BD%D0%B3_%D0%B3%D1%96%D0%BF%D0%B5%D1%80%D0%BF%D0%B0%D1%80%D0%B0%D0%BC%D0%B5%D1%82%D1%80%D1%96%D0%B2.ipynb\" target=\"_parent\"><img src=\"https://colab.research.google.com/assets/colab-badge.svg\" alt=\"Open In Colab\"/></a>"
      ]
    },
    {
      "cell_type": "markdown",
      "source": [
        "В цьому домашньому завданні ми знову працюємо з даними з нашого змагання [\"Bank Customer Churn Prediction (DLU Course)\"](https://www.kaggle.com/t/7c080c5d8ec64364a93cf4e8f880b6a0).\n",
        "\n",
        "Тут ми побудуємо рішення задачі класифікації з використанням kNearestNeighboors, знайдемо оптимальні гіперпараметри для цього методу і зробимо базові ансамблі. Це дасть змогу порівняти перформанс моделі з попередніми вивченими методами."
      ],
      "metadata": {
        "id": "fDefDHQt8LXC"
      }
    },
    {
      "cell_type": "markdown",
      "source": [
        "0. Зчитайте дані `train.csv` та зробіть препроцесинг використовуючи написаний Вами скрипт `process_bank_churn.py` так, аби в результаті отримати дані в розбитті X_train, train_targets, X_val, val_targets для експериментів.\n",
        "\n",
        "  Якщо Вам не вдалось реалізувати в завданні `2.3. Дерева прийняття рішень` скрипт `process_bank_churn.py` - можна скористатись готовим скриптом з запропонованого рішення того завдання."
      ],
      "metadata": {
        "id": "LhivzW9W8-Dz"
      }
    },
    {
      "cell_type": "code",
      "source": [
        " # Підключення Google Drive\n",
        "from google.colab import drive\n",
        "drive.mount('/content/drive')\n",
        "\n",
        " # Додавання шляху до нотаток\n",
        "import sys\n",
        "sys.path.append('/content/drive/My Drive/Colab Notebooks')\n",
        "\n",
        "# Завантаження розширення autoreload\n",
        "%load_ext autoreload\n",
        "%autoreload 2"
      ],
      "metadata": {
        "id": "Z-mntPMAH-rv",
        "colab": {
          "base_uri": "https://localhost:8080/"
        },
        "outputId": "cbc76e48-1fae-41a5-bd16-0a902dbfecad"
      },
      "execution_count": 1,
      "outputs": [
        {
          "output_type": "stream",
          "name": "stdout",
          "text": [
            "Mounted at /content/drive\n"
          ]
        }
      ]
    },
    {
      "cell_type": "code",
      "source": [
        "!pip install opendatasets --upgrade --quiet"
      ],
      "metadata": {
        "id": "0cVb_0dBMLUj"
      },
      "execution_count": 2,
      "outputs": []
    },
    {
      "cell_type": "code",
      "source": [
        "# Імпорт необхідних функцій\n",
        "import opendatasets as od\n",
        "import pandas as pd\n",
        "from process_bank_churn import preprocess_data, preprocess_new_data, main_process_data"
      ],
      "metadata": {
        "id": "EHkhxJRLMO6S"
      },
      "execution_count": 3,
      "outputs": []
    },
    {
      "cell_type": "code",
      "source": [
        "# Налаштування відображення даних\n",
        "pd.set_option('display.max.rows',130)\n",
        "pd.set_option('display.max.columns',130)\n",
        "pd.set_option('float_format', '{:.2f}'.format)\n",
        "pd.set_option('display.max_columns', None)\n",
        "pd.set_option('display.expand_frame_repr', False)"
      ],
      "metadata": {
        "id": "xgAcN6QmMTR5"
      },
      "execution_count": 4,
      "outputs": []
    },
    {
      "cell_type": "code",
      "source": [
        "# Завантаження даних з Kaggle\n",
        "dataset_url = 'https://www.kaggle.com/competitions/bank-customer-churn-prediction-dlu/'\n",
        "od.download(dataset_url)\n",
        "data_dir = './bank-customer-churn-prediction-dlu'\n",
        "raw_df = pd.read_csv('./bank-customer-churn-prediction-dlu/train.csv')"
      ],
      "metadata": {
        "colab": {
          "base_uri": "https://localhost:8080/"
        },
        "id": "4qE2urZgMcf2",
        "outputId": "2a89432a-5543-47af-cea8-ac43b941d20d"
      },
      "execution_count": 5,
      "outputs": [
        {
          "output_type": "stream",
          "name": "stdout",
          "text": [
            "Please provide your Kaggle credentials to download this dataset. Learn more: http://bit.ly/kaggle-creds\n",
            "Your Kaggle username: viktoriiabortnikova\n",
            "Your Kaggle Key: ··········\n",
            "Downloading bank-customer-churn-prediction-dlu.zip to ./bank-customer-churn-prediction-dlu\n"
          ]
        },
        {
          "output_type": "stream",
          "name": "stderr",
          "text": [
            "100%|██████████| 637k/637k [00:00<00:00, 59.6MB/s]"
          ]
        },
        {
          "output_type": "stream",
          "name": "stdout",
          "text": [
            "\n",
            "Extracting archive ./bank-customer-churn-prediction-dlu/bank-customer-churn-prediction-dlu.zip to ./bank-customer-churn-prediction-dlu\n"
          ]
        },
        {
          "output_type": "stream",
          "name": "stderr",
          "text": [
            "\n"
          ]
        }
      ]
    },
    {
      "cell_type": "code",
      "source": [
        "# Визначення колонок для виключення\n",
        "excluded_cols = ['CustomerId', 'CreditScore', 'Tenure', 'HasCrCard', 'EstimatedSalary', 'Surname', 'id']\n",
        "# Попередня обробка даних\n",
        "datasets = preprocess_data(raw_df, excluded_cols)"
      ],
      "metadata": {
        "id": "x9Ne5e_5Mkoo"
      },
      "execution_count": 6,
      "outputs": []
    },
    {
      "cell_type": "code",
      "source": [
        "# Виведення інформації про датасет\n",
        "print(\"train_X shape:\", datasets['train_X'].shape)\n",
        "print(\"train_y shape:\", datasets['train_y'].shape)\n",
        "print(\"val_X shape:\", datasets['val_X'].shape)\n",
        "print(\"val_y shape:\", datasets['val_y'].shape)\n",
        "print(\"Input columns:\", datasets['input_cols'])\n",
        "print(\"Scaler:\", datasets['scaler'])\n",
        "print(\"Encoder:\", datasets['encoder'])\n",
        "\n",
        "# Перевірка оброблених даних\n",
        "print(datasets['train_X'].head())"
      ],
      "metadata": {
        "colab": {
          "base_uri": "https://localhost:8080/"
        },
        "id": "gsVt7AmFMmtU",
        "outputId": "d3bb3e58-1803-4b80-a642-835deac0e583"
      },
      "execution_count": 7,
      "outputs": [
        {
          "output_type": "stream",
          "name": "stdout",
          "text": [
            "train_X shape: (12000, 9)\n",
            "train_y shape: (12000,)\n",
            "val_X shape: (3000, 9)\n",
            "val_y shape: (3000,)\n",
            "Input columns: ['Age', 'Balance', 'NumOfProducts', 'IsActiveMember', 'Geography_France', 'Geography_Germany', 'Geography_Spain', 'Gender_Female', 'Gender_Male']\n",
            "Scaler: StandardScaler()\n",
            "Encoder: OneHotEncoder(handle_unknown='ignore', sparse_output=False)\n",
            "    Age  Balance  NumOfProducts  IsActiveMember  Geography_France  Geography_Germany  Geography_Spain  Gender_Female  Gender_Male\n",
            "0 -0.94     1.48          -1.11            1.02              1.00               0.00             0.00           0.00         1.00\n",
            "1  0.16     2.25          -1.11           -0.98              1.00               0.00             0.00           1.00         0.00\n",
            "2 -0.33     1.22           0.77           -0.98              0.00               1.00             0.00           0.00         1.00\n",
            "3  2.50    -0.72           0.77            1.02              0.00               0.00             1.00           0.00         1.00\n",
            "4 -2.05    -0.72           0.77            1.02              1.00               0.00             0.00           0.00         1.00\n"
          ]
        }
      ]
    },
    {
      "cell_type": "markdown",
      "source": [
        "1. Навчіть на цих даних класифікатор kNN з параметрами за замовченням і виміряйте точність з допомогою AUROC на тренувальному та валідаційному наборах. Зробіть заключення про отриману модель: вона хороша/погана, чи є high bias/high variance?"
      ],
      "metadata": {
        "id": "_LxWkv4o-wMe"
      }
    },
    {
      "cell_type": "code",
      "source": [
        "from sklearn.neighbors import KNeighborsClassifier\n",
        "from sklearn.metrics import roc_auc_score"
      ],
      "metadata": {
        "id": "1TH7H_Z9IAHD"
      },
      "execution_count": 8,
      "outputs": []
    },
    {
      "cell_type": "code",
      "source": [
        "# Витягування навчальних та валідаційних вибірок\n",
        "X_train = datasets['train_X']\n",
        "y_train = datasets['train_y']\n",
        "X_val = datasets['val_X']\n",
        "y_val = datasets['val_y']\n",
        "\n",
        "# Навчання класифікатора kNN\n",
        "knn = KNeighborsClassifier()\n",
        "knn.fit(X_train, y_train)\n",
        "\n",
        "# Прогнозування ймовірностей\n",
        "y_train_pred_proba = knn.predict_proba(X_train)[:, 1]\n",
        "y_val_pred_proba = knn.predict_proba(X_val)[:, 1]\n",
        "\n",
        "# Обчислення значень ROC AUC\n",
        "roc_auc_train = roc_auc_score(y_train, y_train_pred_proba)\n",
        "roc_auc_val = roc_auc_score(y_val, y_val_pred_proba)\n",
        "\n",
        "# Виведення AUROC\n",
        "print(f\"AUROC для тренувальної вибірки: {roc_auc_train}\")\n",
        "print(f\"AUROC для валідаційної вибірки: {roc_auc_val}\")"
      ],
      "metadata": {
        "colab": {
          "base_uri": "https://localhost:8080/"
        },
        "id": "8Wqa53uvMupz",
        "outputId": "64e19cbf-53b2-4012-efb0-422b04e0da5f"
      },
      "execution_count": 9,
      "outputs": [
        {
          "output_type": "stream",
          "name": "stdout",
          "text": [
            "AUROC для тренувальної вибірки: 0.9470605471076281\n",
            "AUROC для валідаційної вибірки: 0.8906228136360519\n"
          ]
        }
      ]
    },
    {
      "cell_type": "markdown",
      "source": [
        "**Висновки**: Значення AUROC для тренувальної вибірки (0.947) значно вище, ніж для валідаційної вибірки (0.891), що вказує на певне перенавчання моделі. Отже, можна зробити висновок, що модель має high variance (високу дисперсію), що вказує на перенавчання (overfitting). Модель занадто добре підходить під тренувальні дані, але не здатна так само добре працювати на валідаційних даних."
      ],
      "metadata": {
        "id": "goWGf8j9NAKz"
      }
    },
    {
      "cell_type": "markdown",
      "source": [
        "2. Використовуючи `GridSearchCV` знайдіть оптимальне значення параметра `n_neighbors` для класифікатора `kNN`. Псотавте крос валідацію на 5 фолдів.\n",
        "\n",
        "  Після успішного завершення пошуку оптимального гіперпараметра\n",
        "    - виведіть найкраще значення параметра\n",
        "    - збережіть в окрему змінну `knn_best` найкращу модель, знайдену з `GridSearchCV`\n",
        "    - оцініть якість передбачень  `knn_best` на тренувальній і валідаційній вибірці з допомогою AUROC.\n",
        "    - зробіть висновок про якість моделі. Чи стала вона краще порівняно з попереднім пукнтом (2) цього завдання? Чи є вона краще за дерево прийняття рішень з попереднього ДЗ?"
      ],
      "metadata": {
        "id": "U4hm5qYs_f7x"
      }
    },
    {
      "cell_type": "code",
      "source": [
        "from sklearn.model_selection import GridSearchCV\n",
        "from sklearn.neighbors import KNeighborsClassifier\n",
        "from sklearn.metrics import roc_auc_score"
      ],
      "metadata": {
        "id": "a50AtDZ9IDNx"
      },
      "execution_count": 10,
      "outputs": []
    },
    {
      "cell_type": "code",
      "source": [
        "# Визначення параметрів для пошуку по сітці\n",
        "param_grid = {\n",
        "    'n_neighbors': [3, 5, 7, 9, 11, 13, 15]\n",
        "}\n",
        "\n",
        "# Використання GridSearchCV для пошуку оптимальних параметрів\n",
        "grid_search = GridSearchCV(KNeighborsClassifier(), param_grid, cv=5, scoring='roc_auc', n_jobs=-1)\n",
        "grid_search.fit(X_train, y_train)\n",
        "\n",
        "# Виведення найкращих параметрів\n",
        "best_params = grid_search.best_params_\n",
        "print(f\"Найкращі параметри: {best_params}\")"
      ],
      "metadata": {
        "colab": {
          "base_uri": "https://localhost:8080/"
        },
        "id": "UBvBnoj_N9gI",
        "outputId": "8767cb5c-5daf-4fe5-c772-2428b0744a63"
      },
      "execution_count": 11,
      "outputs": [
        {
          "output_type": "stream",
          "name": "stdout",
          "text": [
            "Найкращі параметри: {'n_neighbors': 15}\n"
          ]
        }
      ]
    },
    {
      "cell_type": "code",
      "source": [
        "# Збереження найкращої моделі\n",
        "knn_best = grid_search.best_estimator_\n",
        "\n",
        "# Оцінка якості передбачень на тренувальній та валідаційній вибірках\n",
        "y_train_pred_proba = knn_best.predict_proba(X_train)[:, 1]\n",
        "y_val_pred_proba = knn_best.predict_proba(X_val)[:, 1]\n",
        "\n",
        "roc_auc_train_best = roc_auc_score(y_train, y_train_pred_proba)\n",
        "roc_auc_val_best = roc_auc_score(y_val, y_val_pred_proba)\n",
        "\n",
        "print(f\"AUROC для тренувальної вибірки (оптимальні параметри): {roc_auc_train_best}\")\n",
        "print(f\"AUROC для валідаційної вибірки (оптимальні параметри): {roc_auc_val_best}\")"
      ],
      "metadata": {
        "colab": {
          "base_uri": "https://localhost:8080/"
        },
        "id": "P4ZpLS3NOCbG",
        "outputId": "30caa919-2cf4-4b4a-e746-14d0a1b4f905"
      },
      "execution_count": 12,
      "outputs": [
        {
          "output_type": "stream",
          "name": "stdout",
          "text": [
            "AUROC для тренувальної вибірки (оптимальні параметри): 0.9469101656013145\n",
            "AUROC для валідаційної вибірки (оптимальні параметри): 0.9199406680842308\n"
          ]
        }
      ]
    },
    {
      "cell_type": "code",
      "source": [
        "# Висновок про якість моделі\n",
        "if roc_auc_val_best > roc_auc_val:\n",
        "    print(\"Якість моделі покращилася порівняно з попередньою.\")\n",
        "else:\n",
        "    print(\"Якість моделі не покращилася порівняно з попередньою.\")"
      ],
      "metadata": {
        "colab": {
          "base_uri": "https://localhost:8080/"
        },
        "id": "PbzrkVj7OMMc",
        "outputId": "fb5937ff-6881-491f-aeee-8950a50eeb9e"
      },
      "execution_count": 13,
      "outputs": [
        {
          "output_type": "stream",
          "name": "stdout",
          "text": [
            "Якість моделі покращилася порівняно з попередньою.\n"
          ]
        }
      ]
    },
    {
      "cell_type": "markdown",
      "source": [
        "Для дерева прийняття рішень перформас був такий:\n",
        "- AUROC для тренувальної вибірки: 0.936205080272877\n",
        "- AUROC для валідаційної вибірки: 0.9167833870635844"
      ],
      "metadata": {
        "id": "gH4eJzScOT2F"
      }
    },
    {
      "cell_type": "markdown",
      "source": [
        "**Висновки**:\n",
        "1. Оптимізація гіперпараметра n_neighbors за допомогою GridSearchCV покращила якість моделі kNN.\n",
        "- AUROC для тренувальної вибірки: 0.9469 (з оптимальними параметрами).\n",
        "- AUROC для валідаційної вибірки: 0.9199 (з оптимальними параметрами).\n",
        "2. Якість моделі покращилася порівняно з попередньою версією kNN (параметри за замовченням), де AUROC для валідаційної вибірки був 0.8906.\n",
        "3. Порівняно з деревом прийняття рішень, модель kNN з оптимальними параметрами показала дещо кращі результати на валідаційній вибірці (0.9199 проти 0.9167).\n"
      ],
      "metadata": {
        "id": "01fPDWt3OqGQ"
      }
    },
    {
      "cell_type": "markdown",
      "source": [
        "3. Виконайте пошук оптимальних гіперпараметрів для `DecisionTreeClassifier` з `GridSearchCV` за сіткою параметрів\n",
        "  - `max_depth` від 1 до 20 з кроком 2\n",
        "  - `max_leaf_nodes` від 2 до 10 з кроком 1\n",
        "\n",
        "  Обовʼязково при цьому ініціюйте модель з фіксацією `random_seed`.\n",
        "\n",
        "  Поставте кросвалідацію на 3 фолди, `scoring='roc_auc'`, та виміряйте, скільки часу потребує пошук оптимальних гіперпараметрів.\n",
        "\n",
        "  Після успішного завершення пошуку оптимальних гіперпараметрів\n",
        "    - виведіть найкращі значення параметра\n",
        "    - збережіть в окрему змінну `dt_best` найкращу модель, знайдену з `GridSearchCV`\n",
        "    - оцініть якість передбачень  `dt_best` на тренувальній і валідаційній вибірці з допомогою AUROC.\n",
        "    - зробіть висновок про якість моделі. Чи ця модель краща за ту, що ви знайшли вручну?"
      ],
      "metadata": {
        "id": "Vg77SVWrBBmU"
      }
    },
    {
      "cell_type": "code",
      "source": [
        "from sklearn.model_selection import GridSearchCV\n",
        "from sklearn.tree import DecisionTreeClassifier\n",
        "import time"
      ],
      "metadata": {
        "id": "h03uIk4rPDVD"
      },
      "execution_count": 14,
      "outputs": []
    },
    {
      "cell_type": "code",
      "source": [
        "# Параметри для сіткового пошуку\n",
        "param_grid = {\n",
        "    'max_depth': range(1, 21, 2),\n",
        "    'max_leaf_nodes': range(2, 11, 1)\n",
        "}"
      ],
      "metadata": {
        "id": "DBm7jda-PXdu"
      },
      "execution_count": 15,
      "outputs": []
    },
    {
      "cell_type": "code",
      "source": [
        "# Ініціалізація моделі з фіксованим random_state\n",
        "dt = DecisionTreeClassifier(random_state=42)\n",
        "\n",
        "# Ініціалізація GridSearchCV\n",
        "grid_search = GridSearchCV(estimator=dt, param_grid=param_grid, cv=3, scoring='roc_auc')\n",
        "\n",
        "# Вимірювання часу пошуку оптимальних гіперпараметрів\n",
        "start_time = time.time()\n",
        "grid_search.fit(X_train, y_train)\n",
        "end_time = time.time()\n",
        "\n",
        "# Виведення найкращих параметрів\n",
        "best_params = grid_search.best_params_\n",
        "print(f\"Найкращі значення параметрів: {best_params}\")"
      ],
      "metadata": {
        "colab": {
          "base_uri": "https://localhost:8080/"
        },
        "id": "hKI_KJy2PaEo",
        "outputId": "8dcac21c-2e46-4e6f-c7c9-49da20bc9697"
      },
      "execution_count": 16,
      "outputs": [
        {
          "output_type": "stream",
          "name": "stdout",
          "text": [
            "Найкращі значення параметрів: {'max_depth': 5, 'max_leaf_nodes': 10}\n"
          ]
        }
      ]
    },
    {
      "cell_type": "code",
      "source": [
        "# Збереження найкращої моделі\n",
        "dt_best = grid_search.best_estimator_\n",
        "\n",
        "# Оцінка якості передбачень на тренувальній та валідаційній вибірці\n",
        "roc_auc_train_best = roc_auc_score(y_train, dt_best.predict_proba(X_train)[:, 1])\n",
        "roc_auc_val_best = roc_auc_score(y_val, dt_best.predict_proba(X_val)[:, 1])\n",
        "print(f\"AUROC для тренувальної вибірки (оптимальні параметри): {roc_auc_train_best}\")\n",
        "print(f\"AUROC для валідаційної вибірки (оптимальні параметри): {roc_auc_val_best}\")\n",
        "\n",
        "# Виведення часу, необхідного для пошуку оптимальних гіперпараметрів\n",
        "print(f\"Час, необхідний для пошуку оптимальних гіперпараметрів: {end_time - start_time} секунд\")"
      ],
      "metadata": {
        "colab": {
          "base_uri": "https://localhost:8080/"
        },
        "id": "jcqKz-t2jncW",
        "outputId": "2b708bb0-e8f5-4ece-c683-2bdd81fb88b6"
      },
      "execution_count": 17,
      "outputs": [
        {
          "output_type": "stream",
          "name": "stdout",
          "text": [
            "AUROC для тренувальної вибірки (оптимальні параметри): 0.9014754782174744\n",
            "AUROC для валідаційної вибірки (оптимальні параметри): 0.9002184649152891\n",
            "Час, необхідний для пошуку оптимальних гіперпараметрів: 5.263485670089722 секунд\n"
          ]
        }
      ]
    },
    {
      "cell_type": "markdown",
      "source": [
        "**Висновки:**\n",
        "Модель з ручним пошуком параметрів для DecisionTreeClassifier показала кращу продуктивність як на тренувальній, так і на валідаційній вибірках порівняно з моделлю, знайденою за допомогою GridSearchCV. Отже, ручний пошук параметрів дав кращі результати у цьому конкретному випадку."
      ],
      "metadata": {
        "id": "xVqU4guvj5Ka"
      }
    },
    {
      "cell_type": "markdown",
      "source": [
        "4. Виконайте пошук оптимальних гіперпараметрів для `DecisionTreeClassifier` з `RandomizedSearchCV` за заданою сіткою параметрів і кількість ітерацій 40.\n",
        "\n",
        "  Поставте кросвалідацію на 3 фолди, `scoring='roc_auc'`, зафіксуйте `random_seed` процедури крос валідації та виміряйте, скільки часу потребує пошук оптимальних гіперпараметрів.\n",
        "\n",
        "  Після успішного завершення пошуку оптимальних гіперпараметрів\n",
        "    - виведіть найкращі значення параметра\n",
        "    - збережіть в окрему змінну `dt_random_search_best` найкращу модель, знайдену з `RandomizedSearchCV`\n",
        "    - оцініть якість передбачень  `dt_random_search_best` на тренувальній і валідаційній вибірці з допомогою AUROC.\n",
        "    - зробіть висновок про якість моделі. Чи ця модель краща за ту, що ви знайшли з `GridSearch`?\n",
        "    - проаналізуйте параметри `dt_random_search_best` і порівняйте з параметрами `dt_best` - яку бачите відмінність? Ця вправа потрібна аби зрозуміти, як різні налаштування `DecisionTreeClassifier` впливають на якість моделі."
      ],
      "metadata": {
        "id": "nCnkGD_sEW1i"
      }
    },
    {
      "cell_type": "code",
      "source": [
        "import numpy as np\n",
        "from sklearn.model_selection import RandomizedSearchCV"
      ],
      "metadata": {
        "id": "e5DTeL1Yklop"
      },
      "execution_count": 20,
      "outputs": []
    },
    {
      "cell_type": "code",
      "source": [
        "params_dt = {\n",
        "    'criterion': ['gini', 'entropy'],\n",
        "    'splitter': ['best', 'random'],\n",
        "    'max_depth': np.arange(1, 20),\n",
        "    'max_leaf_nodes': np.arange(2, 20),\n",
        "    'min_samples_split': [2, 5, 10, 20],\n",
        "    'min_samples_leaf': [1, 2, 4, 8],\n",
        "    'max_features': [None, 'sqrt', 'log2']\n",
        "}"
      ],
      "metadata": {
        "id": "665uQ3NdIG0s"
      },
      "execution_count": 21,
      "outputs": []
    },
    {
      "cell_type": "code",
      "source": [
        "# Ініціалізація моделі\n",
        "dt = DecisionTreeClassifier(random_state=42)\n",
        "\n",
        "# Ініціалізація RandomizedSearchCV\n",
        "random_search = RandomizedSearchCV(\n",
        "    estimator=dt,\n",
        "    param_distributions=params_dt,\n",
        "    n_iter=40,\n",
        "    scoring='roc_auc',\n",
        "    cv=3,\n",
        "    random_state=42\n",
        ")\n",
        "\n",
        "# Початок пошуку\n",
        "start_time = time.time()\n",
        "random_search.fit(X_train, y_train)\n",
        "end_time = time.time()\n",
        "\n",
        "# Найкращі параметри\n",
        "best_params = random_search.best_params_\n",
        "print(f\"Найкращі значення параметрів: {best_params}\")"
      ],
      "metadata": {
        "id": "MyHVD-R0IXqv",
        "colab": {
          "base_uri": "https://localhost:8080/"
        },
        "outputId": "3c1895f2-c38f-4dad-b91c-69fa952d0c7c"
      },
      "execution_count": 22,
      "outputs": [
        {
          "output_type": "stream",
          "name": "stdout",
          "text": [
            "Найкращі значення параметрів: {'splitter': 'best', 'min_samples_split': 20, 'min_samples_leaf': 2, 'max_leaf_nodes': 14, 'max_features': None, 'max_depth': 16, 'criterion': 'entropy'}\n"
          ]
        }
      ]
    },
    {
      "cell_type": "code",
      "source": [
        "# Збереження найкращої моделі\n",
        "dt_random_search_best = random_search.best_estimator_\n",
        "\n",
        "# Оцінка якості передбачень на тренувальній та валідаційній вибірці\n",
        "roc_auc_train_best = roc_auc_score(y_train, dt_random_search_best.predict_proba(X_train)[:, 1])\n",
        "roc_auc_val_best = roc_auc_score(y_val, dt_random_search_best.predict_proba(X_val)[:, 1])\n",
        "\n",
        "print(f\"AUROC для тренувальної вибірки (оптимальні параметри): {roc_auc_train_best}\")\n",
        "print(f\"AUROC для валідаційної вибірки (оптимальні параметри): {roc_auc_val_best}\")\n",
        "\n",
        "# Виведення часу, необхідного для пошуку оптимальних гіперпараметрів\n",
        "print(f\"Час, необхідний для пошуку оптимальних гіперпараметрів: {end_time - start_time} секунд\")"
      ],
      "metadata": {
        "colab": {
          "base_uri": "https://localhost:8080/"
        },
        "id": "srTkVPs8kwt0",
        "outputId": "635e65ba-4155-45cd-fae1-afb593866716"
      },
      "execution_count": 23,
      "outputs": [
        {
          "output_type": "stream",
          "name": "stdout",
          "text": [
            "AUROC для тренувальної вибірки (оптимальні параметри): 0.9169275635848141\n",
            "AUROC для валідаційної вибірки (оптимальні параметри): 0.9166204815145071\n",
            "Час, необхідний для пошуку оптимальних гіперпараметрів: 1.406728982925415 секунд\n"
          ]
        }
      ]
    },
    {
      "cell_type": "markdown",
      "source": [
        "Аналіз по параметрам:\n",
        "1.  RandomizedSearchCV має максимальну глибину 16, що вказує на те, що глибше дерево може краще навчитися на даних. Для GridSearchCV максимальна глибина була лише 5.\n",
        "2. RandomizedSearchCV має max_leaf_nodes = 14, що більше ніж 10, знайдене GridSearchCV, що також свідчить про складнішу структуру дерева.\n",
        "3. RandomizedSearchCV має 'entropy', тоді як GridSearchCV обрала 'gini'. Це вказує на те, що 'entropy' може бути більш підходящим критерієм для цих даних.\n",
        "4. RandomizedSearchCV також використання інших параметри, такі як min_samples_split і min_samples_leaf, дозволило точніше налаштувати модель для досягнення кращих результатів."
      ],
      "metadata": {
        "id": "ywhan94Tln1t"
      }
    },
    {
      "cell_type": "markdown",
      "source": [
        "Висновки: Модель, знайдена за допомогою RandomizedSearchCV, показала кращі результати AUROC як для тренувальної, так і для валідаційної вибірок у порівнянні з моделлю, знайденою за допомогою GridSearchCV. Це свідчить про те, що RandomizedSearchCV з використанням більшої кількості параметрів та більш широким діапазоном значень допомогла знайти більш оптимальні налаштування для дерева прийняття рішень."
      ],
      "metadata": {
        "id": "pW_sJFWYlISF"
      }
    },
    {
      "cell_type": "markdown",
      "source": [
        "Тако ж порівнявши з моделю, ручного налаштування можно зробити висновок, шо модель, знайдена за допомогою RandomizedSearchCV, має трохи нижчий AUROC для тренувальної вибірки та незначно нижчий AUROC для валідаційної вибірки у порівнянні з ручним пошуком гіперпараметрів. Це свідчить про те, що обидва підходи знайшли досить хороші налаштування, але модель, знайдена вручну, показала трохи кращий результат.\n",
        "\n"
      ],
      "metadata": {
        "id": "xlEpl0ZNmjNh"
      }
    },
    {
      "cell_type": "markdown",
      "source": [
        "5. Якщо у Вас вийшла метрика `AUROC` в цій серії експериментів - зробіть ще один `submission` на Kaggle і додайте код для цього і скріншот скора на публічному лідерборді нижче.\n",
        "\n",
        "  Сподіваюсь на цьому етапі ви вже відчули себе справжнім дослідником 😉"
      ],
      "metadata": {
        "id": "XArADR2CG8VK"
      }
    },
    {
      "cell_type": "code",
      "source": [
        "test_df = pd.read_csv('./bank-customer-churn-prediction-dlu/test.csv')\n",
        "test_df.head(5)"
      ],
      "metadata": {
        "colab": {
          "base_uri": "https://localhost:8080/",
          "height": 206
        },
        "id": "cl89i2fpn1pP",
        "outputId": "7310e33d-d9b7-4803-82dc-bd7a7c206916"
      },
      "execution_count": 24,
      "outputs": [
        {
          "output_type": "execute_result",
          "data": {
            "text/plain": [
              "      id  CustomerId     Surname  CreditScore Geography Gender   Age  Tenure   Balance  NumOfProducts  HasCrCard  IsActiveMember  EstimatedSalary\n",
              "0  15000 15594796.00         Chu       584.00   Germany   Male 30.00    2.00 146053.66           1.00       1.00            1.00        157891.86\n",
              "1  15001 15642821.00       Mazzi       551.00    France   Male 39.00    5.00      0.00           2.00       1.00            1.00         67431.28\n",
              "2  15002 15716284.00   Onyekachi       706.00    France   Male 43.00    8.00      0.00           2.00       1.00            0.00        156768.45\n",
              "3  15003 15785078.00      Martin       717.00     Spain   Male 45.00    3.00      0.00           1.00       1.00            1.00        166909.87\n",
              "4  15004 15662955.00  Kenechukwu       592.00     Spain   Male 43.00    8.00      0.00           2.00       1.00            1.00        143681.97"
            ],
            "text/html": [
              "\n",
              "  <div id=\"df-124798b5-0596-4410-a383-ff565a2f064c\" class=\"colab-df-container\">\n",
              "    <div>\n",
              "<style scoped>\n",
              "    .dataframe tbody tr th:only-of-type {\n",
              "        vertical-align: middle;\n",
              "    }\n",
              "\n",
              "    .dataframe tbody tr th {\n",
              "        vertical-align: top;\n",
              "    }\n",
              "\n",
              "    .dataframe thead th {\n",
              "        text-align: right;\n",
              "    }\n",
              "</style>\n",
              "<table border=\"1\" class=\"dataframe\">\n",
              "  <thead>\n",
              "    <tr style=\"text-align: right;\">\n",
              "      <th></th>\n",
              "      <th>id</th>\n",
              "      <th>CustomerId</th>\n",
              "      <th>Surname</th>\n",
              "      <th>CreditScore</th>\n",
              "      <th>Geography</th>\n",
              "      <th>Gender</th>\n",
              "      <th>Age</th>\n",
              "      <th>Tenure</th>\n",
              "      <th>Balance</th>\n",
              "      <th>NumOfProducts</th>\n",
              "      <th>HasCrCard</th>\n",
              "      <th>IsActiveMember</th>\n",
              "      <th>EstimatedSalary</th>\n",
              "    </tr>\n",
              "  </thead>\n",
              "  <tbody>\n",
              "    <tr>\n",
              "      <th>0</th>\n",
              "      <td>15000</td>\n",
              "      <td>15594796.00</td>\n",
              "      <td>Chu</td>\n",
              "      <td>584.00</td>\n",
              "      <td>Germany</td>\n",
              "      <td>Male</td>\n",
              "      <td>30.00</td>\n",
              "      <td>2.00</td>\n",
              "      <td>146053.66</td>\n",
              "      <td>1.00</td>\n",
              "      <td>1.00</td>\n",
              "      <td>1.00</td>\n",
              "      <td>157891.86</td>\n",
              "    </tr>\n",
              "    <tr>\n",
              "      <th>1</th>\n",
              "      <td>15001</td>\n",
              "      <td>15642821.00</td>\n",
              "      <td>Mazzi</td>\n",
              "      <td>551.00</td>\n",
              "      <td>France</td>\n",
              "      <td>Male</td>\n",
              "      <td>39.00</td>\n",
              "      <td>5.00</td>\n",
              "      <td>0.00</td>\n",
              "      <td>2.00</td>\n",
              "      <td>1.00</td>\n",
              "      <td>1.00</td>\n",
              "      <td>67431.28</td>\n",
              "    </tr>\n",
              "    <tr>\n",
              "      <th>2</th>\n",
              "      <td>15002</td>\n",
              "      <td>15716284.00</td>\n",
              "      <td>Onyekachi</td>\n",
              "      <td>706.00</td>\n",
              "      <td>France</td>\n",
              "      <td>Male</td>\n",
              "      <td>43.00</td>\n",
              "      <td>8.00</td>\n",
              "      <td>0.00</td>\n",
              "      <td>2.00</td>\n",
              "      <td>1.00</td>\n",
              "      <td>0.00</td>\n",
              "      <td>156768.45</td>\n",
              "    </tr>\n",
              "    <tr>\n",
              "      <th>3</th>\n",
              "      <td>15003</td>\n",
              "      <td>15785078.00</td>\n",
              "      <td>Martin</td>\n",
              "      <td>717.00</td>\n",
              "      <td>Spain</td>\n",
              "      <td>Male</td>\n",
              "      <td>45.00</td>\n",
              "      <td>3.00</td>\n",
              "      <td>0.00</td>\n",
              "      <td>1.00</td>\n",
              "      <td>1.00</td>\n",
              "      <td>1.00</td>\n",
              "      <td>166909.87</td>\n",
              "    </tr>\n",
              "    <tr>\n",
              "      <th>4</th>\n",
              "      <td>15004</td>\n",
              "      <td>15662955.00</td>\n",
              "      <td>Kenechukwu</td>\n",
              "      <td>592.00</td>\n",
              "      <td>Spain</td>\n",
              "      <td>Male</td>\n",
              "      <td>43.00</td>\n",
              "      <td>8.00</td>\n",
              "      <td>0.00</td>\n",
              "      <td>2.00</td>\n",
              "      <td>1.00</td>\n",
              "      <td>1.00</td>\n",
              "      <td>143681.97</td>\n",
              "    </tr>\n",
              "  </tbody>\n",
              "</table>\n",
              "</div>\n",
              "    <div class=\"colab-df-buttons\">\n",
              "\n",
              "  <div class=\"colab-df-container\">\n",
              "    <button class=\"colab-df-convert\" onclick=\"convertToInteractive('df-124798b5-0596-4410-a383-ff565a2f064c')\"\n",
              "            title=\"Convert this dataframe to an interactive table.\"\n",
              "            style=\"display:none;\">\n",
              "\n",
              "  <svg xmlns=\"http://www.w3.org/2000/svg\" height=\"24px\" viewBox=\"0 -960 960 960\">\n",
              "    <path d=\"M120-120v-720h720v720H120Zm60-500h600v-160H180v160Zm220 220h160v-160H400v160Zm0 220h160v-160H400v160ZM180-400h160v-160H180v160Zm440 0h160v-160H620v160ZM180-180h160v-160H180v160Zm440 0h160v-160H620v160Z\"/>\n",
              "  </svg>\n",
              "    </button>\n",
              "\n",
              "  <style>\n",
              "    .colab-df-container {\n",
              "      display:flex;\n",
              "      gap: 12px;\n",
              "    }\n",
              "\n",
              "    .colab-df-convert {\n",
              "      background-color: #E8F0FE;\n",
              "      border: none;\n",
              "      border-radius: 50%;\n",
              "      cursor: pointer;\n",
              "      display: none;\n",
              "      fill: #1967D2;\n",
              "      height: 32px;\n",
              "      padding: 0 0 0 0;\n",
              "      width: 32px;\n",
              "    }\n",
              "\n",
              "    .colab-df-convert:hover {\n",
              "      background-color: #E2EBFA;\n",
              "      box-shadow: 0px 1px 2px rgba(60, 64, 67, 0.3), 0px 1px 3px 1px rgba(60, 64, 67, 0.15);\n",
              "      fill: #174EA6;\n",
              "    }\n",
              "\n",
              "    .colab-df-buttons div {\n",
              "      margin-bottom: 4px;\n",
              "    }\n",
              "\n",
              "    [theme=dark] .colab-df-convert {\n",
              "      background-color: #3B4455;\n",
              "      fill: #D2E3FC;\n",
              "    }\n",
              "\n",
              "    [theme=dark] .colab-df-convert:hover {\n",
              "      background-color: #434B5C;\n",
              "      box-shadow: 0px 1px 3px 1px rgba(0, 0, 0, 0.15);\n",
              "      filter: drop-shadow(0px 1px 2px rgba(0, 0, 0, 0.3));\n",
              "      fill: #FFFFFF;\n",
              "    }\n",
              "  </style>\n",
              "\n",
              "    <script>\n",
              "      const buttonEl =\n",
              "        document.querySelector('#df-124798b5-0596-4410-a383-ff565a2f064c button.colab-df-convert');\n",
              "      buttonEl.style.display =\n",
              "        google.colab.kernel.accessAllowed ? 'block' : 'none';\n",
              "\n",
              "      async function convertToInteractive(key) {\n",
              "        const element = document.querySelector('#df-124798b5-0596-4410-a383-ff565a2f064c');\n",
              "        const dataTable =\n",
              "          await google.colab.kernel.invokeFunction('convertToInteractive',\n",
              "                                                    [key], {});\n",
              "        if (!dataTable) return;\n",
              "\n",
              "        const docLinkHtml = 'Like what you see? Visit the ' +\n",
              "          '<a target=\"_blank\" href=https://colab.research.google.com/notebooks/data_table.ipynb>data table notebook</a>'\n",
              "          + ' to learn more about interactive tables.';\n",
              "        element.innerHTML = '';\n",
              "        dataTable['output_type'] = 'display_data';\n",
              "        await google.colab.output.renderOutput(dataTable, element);\n",
              "        const docLink = document.createElement('div');\n",
              "        docLink.innerHTML = docLinkHtml;\n",
              "        element.appendChild(docLink);\n",
              "      }\n",
              "    </script>\n",
              "  </div>\n",
              "\n",
              "\n",
              "<div id=\"df-ce92a6d3-55dd-4421-be65-ada9286c8d45\">\n",
              "  <button class=\"colab-df-quickchart\" onclick=\"quickchart('df-ce92a6d3-55dd-4421-be65-ada9286c8d45')\"\n",
              "            title=\"Suggest charts\"\n",
              "            style=\"display:none;\">\n",
              "\n",
              "<svg xmlns=\"http://www.w3.org/2000/svg\" height=\"24px\"viewBox=\"0 0 24 24\"\n",
              "     width=\"24px\">\n",
              "    <g>\n",
              "        <path d=\"M19 3H5c-1.1 0-2 .9-2 2v14c0 1.1.9 2 2 2h14c1.1 0 2-.9 2-2V5c0-1.1-.9-2-2-2zM9 17H7v-7h2v7zm4 0h-2V7h2v10zm4 0h-2v-4h2v4z\"/>\n",
              "    </g>\n",
              "</svg>\n",
              "  </button>\n",
              "\n",
              "<style>\n",
              "  .colab-df-quickchart {\n",
              "      --bg-color: #E8F0FE;\n",
              "      --fill-color: #1967D2;\n",
              "      --hover-bg-color: #E2EBFA;\n",
              "      --hover-fill-color: #174EA6;\n",
              "      --disabled-fill-color: #AAA;\n",
              "      --disabled-bg-color: #DDD;\n",
              "  }\n",
              "\n",
              "  [theme=dark] .colab-df-quickchart {\n",
              "      --bg-color: #3B4455;\n",
              "      --fill-color: #D2E3FC;\n",
              "      --hover-bg-color: #434B5C;\n",
              "      --hover-fill-color: #FFFFFF;\n",
              "      --disabled-bg-color: #3B4455;\n",
              "      --disabled-fill-color: #666;\n",
              "  }\n",
              "\n",
              "  .colab-df-quickchart {\n",
              "    background-color: var(--bg-color);\n",
              "    border: none;\n",
              "    border-radius: 50%;\n",
              "    cursor: pointer;\n",
              "    display: none;\n",
              "    fill: var(--fill-color);\n",
              "    height: 32px;\n",
              "    padding: 0;\n",
              "    width: 32px;\n",
              "  }\n",
              "\n",
              "  .colab-df-quickchart:hover {\n",
              "    background-color: var(--hover-bg-color);\n",
              "    box-shadow: 0 1px 2px rgba(60, 64, 67, 0.3), 0 1px 3px 1px rgba(60, 64, 67, 0.15);\n",
              "    fill: var(--button-hover-fill-color);\n",
              "  }\n",
              "\n",
              "  .colab-df-quickchart-complete:disabled,\n",
              "  .colab-df-quickchart-complete:disabled:hover {\n",
              "    background-color: var(--disabled-bg-color);\n",
              "    fill: var(--disabled-fill-color);\n",
              "    box-shadow: none;\n",
              "  }\n",
              "\n",
              "  .colab-df-spinner {\n",
              "    border: 2px solid var(--fill-color);\n",
              "    border-color: transparent;\n",
              "    border-bottom-color: var(--fill-color);\n",
              "    animation:\n",
              "      spin 1s steps(1) infinite;\n",
              "  }\n",
              "\n",
              "  @keyframes spin {\n",
              "    0% {\n",
              "      border-color: transparent;\n",
              "      border-bottom-color: var(--fill-color);\n",
              "      border-left-color: var(--fill-color);\n",
              "    }\n",
              "    20% {\n",
              "      border-color: transparent;\n",
              "      border-left-color: var(--fill-color);\n",
              "      border-top-color: var(--fill-color);\n",
              "    }\n",
              "    30% {\n",
              "      border-color: transparent;\n",
              "      border-left-color: var(--fill-color);\n",
              "      border-top-color: var(--fill-color);\n",
              "      border-right-color: var(--fill-color);\n",
              "    }\n",
              "    40% {\n",
              "      border-color: transparent;\n",
              "      border-right-color: var(--fill-color);\n",
              "      border-top-color: var(--fill-color);\n",
              "    }\n",
              "    60% {\n",
              "      border-color: transparent;\n",
              "      border-right-color: var(--fill-color);\n",
              "    }\n",
              "    80% {\n",
              "      border-color: transparent;\n",
              "      border-right-color: var(--fill-color);\n",
              "      border-bottom-color: var(--fill-color);\n",
              "    }\n",
              "    90% {\n",
              "      border-color: transparent;\n",
              "      border-bottom-color: var(--fill-color);\n",
              "    }\n",
              "  }\n",
              "</style>\n",
              "\n",
              "  <script>\n",
              "    async function quickchart(key) {\n",
              "      const quickchartButtonEl =\n",
              "        document.querySelector('#' + key + ' button');\n",
              "      quickchartButtonEl.disabled = true;  // To prevent multiple clicks.\n",
              "      quickchartButtonEl.classList.add('colab-df-spinner');\n",
              "      try {\n",
              "        const charts = await google.colab.kernel.invokeFunction(\n",
              "            'suggestCharts', [key], {});\n",
              "      } catch (error) {\n",
              "        console.error('Error during call to suggestCharts:', error);\n",
              "      }\n",
              "      quickchartButtonEl.classList.remove('colab-df-spinner');\n",
              "      quickchartButtonEl.classList.add('colab-df-quickchart-complete');\n",
              "    }\n",
              "    (() => {\n",
              "      let quickchartButtonEl =\n",
              "        document.querySelector('#df-ce92a6d3-55dd-4421-be65-ada9286c8d45 button');\n",
              "      quickchartButtonEl.style.display =\n",
              "        google.colab.kernel.accessAllowed ? 'block' : 'none';\n",
              "    })();\n",
              "  </script>\n",
              "</div>\n",
              "    </div>\n",
              "  </div>\n"
            ],
            "application/vnd.google.colaboratory.intrinsic+json": {
              "type": "dataframe",
              "variable_name": "test_df",
              "summary": "{\n  \"name\": \"test_df\",\n  \"rows\": 10000,\n  \"fields\": [\n    {\n      \"column\": \"id\",\n      \"properties\": {\n        \"dtype\": \"number\",\n        \"std\": 2886,\n        \"min\": 15000,\n        \"max\": 24999,\n        \"num_unique_values\": 10000,\n        \"samples\": [\n          21252,\n          19684,\n          16731\n        ],\n        \"semantic_type\": \"\",\n        \"description\": \"\"\n      }\n    },\n    {\n      \"column\": \"CustomerId\",\n      \"properties\": {\n        \"dtype\": \"number\",\n        \"std\": 71550.434302123,\n        \"min\": 15565879.0,\n        \"max\": 15815660.0,\n        \"num_unique_values\": 5141,\n        \"samples\": [\n          15780492.0,\n          15606077.0,\n          15711386.0\n        ],\n        \"semantic_type\": \"\",\n        \"description\": \"\"\n      }\n    },\n    {\n      \"column\": \"Surname\",\n      \"properties\": {\n        \"dtype\": \"category\",\n        \"num_unique_values\": 699,\n        \"samples\": [\n          \"Iadanza\",\n          \"Yashina\",\n          \"Moore\"\n        ],\n        \"semantic_type\": \"\",\n        \"description\": \"\"\n      }\n    },\n    {\n      \"column\": \"CreditScore\",\n      \"properties\": {\n        \"dtype\": \"number\",\n        \"std\": 72.1686341766691,\n        \"min\": 431.0,\n        \"max\": 850.0,\n        \"num_unique_values\": 365,\n        \"samples\": [\n          461.0,\n          605.0,\n          638.0\n        ],\n        \"semantic_type\": \"\",\n        \"description\": \"\"\n      }\n    },\n    {\n      \"column\": \"Geography\",\n      \"properties\": {\n        \"dtype\": \"category\",\n        \"num_unique_values\": 3,\n        \"samples\": [\n          \"Germany\",\n          \"France\",\n          \"Spain\"\n        ],\n        \"semantic_type\": \"\",\n        \"description\": \"\"\n      }\n    },\n    {\n      \"column\": \"Gender\",\n      \"properties\": {\n        \"dtype\": \"category\",\n        \"num_unique_values\": 2,\n        \"samples\": [\n          \"Female\",\n          \"Male\"\n        ],\n        \"semantic_type\": \"\",\n        \"description\": \"\"\n      }\n    },\n    {\n      \"column\": \"Age\",\n      \"properties\": {\n        \"dtype\": \"number\",\n        \"std\": 8.166142652965528,\n        \"min\": 18.0,\n        \"max\": 74.0,\n        \"num_unique_values\": 56,\n        \"samples\": [\n          30.0,\n          27.0\n        ],\n        \"semantic_type\": \"\",\n        \"description\": \"\"\n      }\n    },\n    {\n      \"column\": \"Tenure\",\n      \"properties\": {\n        \"dtype\": \"number\",\n        \"std\": 2.7976809506929463,\n        \"min\": 0.0,\n        \"max\": 11.0,\n        \"num_unique_values\": 12,\n        \"samples\": [\n          9.0,\n          1.0\n        ],\n        \"semantic_type\": \"\",\n        \"description\": \"\"\n      }\n    },\n    {\n      \"column\": \"Balance\",\n      \"properties\": {\n        \"dtype\": \"number\",\n        \"std\": 59904.66155856677,\n        \"min\": 0.0,\n        \"max\": 186788.96,\n        \"num_unique_values\": 2514,\n        \"samples\": [\n          123793.18,\n          79563.46\n        ],\n        \"semantic_type\": \"\",\n        \"description\": \"\"\n      }\n    },\n    {\n      \"column\": \"NumOfProducts\",\n      \"properties\": {\n        \"dtype\": \"number\",\n        \"std\": 0.530943339804737,\n        \"min\": 1.0,\n        \"max\": 4.0,\n        \"num_unique_values\": 4,\n        \"samples\": [\n          2.0,\n          4.0\n        ],\n        \"semantic_type\": \"\",\n        \"description\": \"\"\n      }\n    },\n    {\n      \"column\": \"HasCrCard\",\n      \"properties\": {\n        \"dtype\": \"number\",\n        \"std\": 0.41406407101497056,\n        \"min\": 0.0,\n        \"max\": 1.0,\n        \"num_unique_values\": 2,\n        \"samples\": [\n          0.0,\n          1.0\n        ],\n        \"semantic_type\": \"\",\n        \"description\": \"\"\n      }\n    },\n    {\n      \"column\": \"IsActiveMember\",\n      \"properties\": {\n        \"dtype\": \"number\",\n        \"std\": 0.4996972680893638,\n        \"min\": 0.0,\n        \"max\": 1.0,\n        \"num_unique_values\": 2,\n        \"samples\": [\n          0.0,\n          1.0\n        ],\n        \"semantic_type\": \"\",\n        \"description\": \"\"\n      }\n    },\n    {\n      \"column\": \"EstimatedSalary\",\n      \"properties\": {\n        \"dtype\": \"number\",\n        \"std\": 75582.53130357557,\n        \"min\": 447.73,\n        \"max\": 6090905.51,\n        \"num_unique_values\": 4980,\n        \"samples\": [\n          177068.24,\n          184796.84\n        ],\n        \"semantic_type\": \"\",\n        \"description\": \"\"\n      }\n    }\n  ]\n}"
            }
          },
          "metadata": {},
          "execution_count": 24
        }
      ]
    },
    {
      "cell_type": "code",
      "source": [
        "# Визначення змінних\n",
        "input_cols = datasets['input_cols']\n",
        "scaler = datasets['scaler']\n",
        "encoder = datasets['encoder']\n",
        "\n",
        "# Попередня обробка тестових даних\n",
        "X_test = preprocess_new_data(test_df, input_cols, scaler, encoder, excluded_cols)\n",
        "\n",
        "# Ручний пошук гіперпараметрів\n",
        "best_clf_manual = DecisionTreeClassifier(random_state=42, max_depth=7)\n",
        "best_clf_manual.fit(datasets['train_X'], datasets['train_y'])\n",
        "\n",
        "# Прогнозування ймовірностей для тренувальних та валідаційних вибірок\n",
        "y_train_pred_proba_manual = best_clf_manual.predict_proba(datasets['train_X'])[:, 1]\n",
        "y_val_pred_proba_manual = best_clf_manual.predict_proba(datasets['val_X'])[:, 1]\n",
        "\n",
        "# Обчислення AUROC для тренувальних та валідаційних вибірок\n",
        "roc_auc_train_manual = roc_auc_score(datasets['train_y'], y_train_pred_proba_manual)\n",
        "roc_auc_val_manual = roc_auc_score(datasets['val_y'], y_val_pred_proba_manual)\n",
        "\n",
        "# Прогнозування для тестових даних\n",
        "predictions_manual = best_clf_manual.predict(X_test)\n",
        "predictions_proba_manual = best_clf_manual.predict_proba(X_test)[:, 1]\n",
        "\n",
        "# Виведення AUROC для ручного пошуку гіперпараметрів\n",
        "print(f\"AUROC для тренувальної вибірки (ручний пошук): {roc_auc_train_manual}\")\n",
        "print(f\"AUROC для валідаційної вибірки (ручний пошук): {roc_auc_val_manual}\")"
      ],
      "metadata": {
        "colab": {
          "base_uri": "https://localhost:8080/"
        },
        "id": "jHukzYDFn3tT",
        "outputId": "074e8220-a905-490b-869f-0fb4e4d61498"
      },
      "execution_count": 25,
      "outputs": [
        {
          "output_type": "stream",
          "name": "stdout",
          "text": [
            "AUROC для тренувальної вибірки (ручний пошук): 0.9393145713767181\n",
            "AUROC для валідаційної вибірки (ручний пошук): 0.9238754372727898\n"
          ]
        }
      ]
    },
    {
      "cell_type": "code",
      "source": [
        "# Модель з RandomizedSearchCV\n",
        "best_clf_random = dt_random_search_best\n",
        "best_clf_random.fit(datasets['train_X'], datasets['train_y'])\n",
        "\n",
        "# Прогнозування ймовірностей для тренувальних та валідаційних вибірок\n",
        "y_train_pred_proba_random = best_clf_random.predict_proba(datasets['train_X'])[:, 1]\n",
        "y_val_pred_proba_random = best_clf_random.predict_proba(datasets['val_X'])[:, 1]\n",
        "\n",
        "# Обчислення AUROC для тренувальних та валідаційних вибірок\n",
        "roc_auc_train_random = roc_auc_score(datasets['train_y'], y_train_pred_proba_random)\n",
        "roc_auc_val_random = roc_auc_score(datasets['val_y'], y_val_pred_proba_random)\n",
        "\n",
        "# Прогнозування для тестових даних\n",
        "predictions_random = best_clf_random.predict(X_test)\n",
        "predictions_proba_random = best_clf_random.predict_proba(X_test)[:, 1]\n",
        "\n",
        "# Виведення AUROC для RandomizedSearchCV\n",
        "print(f\"AUROC для тренувальної вибірки (RandomizedSearchCV): {roc_auc_train_random}\")\n",
        "print(f\"AUROC для валідаційної вибірки (RandomizedSearchCV): {roc_auc_val_random}\")"
      ],
      "metadata": {
        "colab": {
          "base_uri": "https://localhost:8080/"
        },
        "id": "VDJvfpeVn_5Q",
        "outputId": "6c93ace7-f1e1-4e8f-af3b-e77eb82875e8"
      },
      "execution_count": 26,
      "outputs": [
        {
          "output_type": "stream",
          "name": "stdout",
          "text": [
            "AUROC для тренувальної вибірки (RandomizedSearchCV): 0.9169275635848141\n",
            "AUROC для валідаційної вибірки (RandomizedSearchCV): 0.9166204815145071\n"
          ]
        }
      ]
    },
    {
      "cell_type": "markdown",
      "source": [
        "Модель з ручним пошуком гіперпараметрів має вищі значення AUROC як для тренувальної, так і для валідаційної вибірки. Це свідчить про те, що вона краще узгоджується з даними і, можливо, краще узагальнює на нових даних у порівнянні з моделлю з RandomizedSearchCV.\n",
        "\n",
        "Однак модель з RandomizedSearchCV також показала добрий результат, і різниця у значеннях AUROC не дуже велика.\n",
        "\n",
        "Тому зроблю самбміщен для обох моделей."
      ],
      "metadata": {
        "id": "tUz1JHHHo6VH"
      }
    },
    {
      "cell_type": "code",
      "source": [
        "# Збереження результатів для обох моделей\n",
        "submission_df_manual = pd.read_csv('./bank-customer-churn-prediction-dlu/sample_submission.csv')\n",
        "submission_df_manual['Exited'] = predictions_proba_manual\n",
        "submission_df_manual.to_csv('drive/MyDrive/Colab Notebooks/data/submission_manual.csv', index=False)\n",
        "\n",
        "submission_df_random = pd.read_csv('./bank-customer-churn-prediction-dlu/sample_submission.csv')\n",
        "submission_df_random['Exited'] = predictions_proba_random\n",
        "submission_df_random.to_csv('drive/MyDrive/Colab Notebooks/data/submission_random.csv', index=False)\n"
      ],
      "metadata": {
        "id": "9BPlg5WepE41"
      },
      "execution_count": 27,
      "outputs": []
    },
    {
      "cell_type": "code",
      "source": [
        "submission_df_manual.head()"
      ],
      "metadata": {
        "colab": {
          "base_uri": "https://localhost:8080/",
          "height": 206
        },
        "id": "urY2sKigpP8W",
        "outputId": "8d8c4f5f-84b7-4b0f-b095-e2bcedef709c"
      },
      "execution_count": 28,
      "outputs": [
        {
          "output_type": "execute_result",
          "data": {
            "text/plain": [
              "      id  Exited\n",
              "0  15000    0.17\n",
              "1  15001    0.02\n",
              "2  15002    0.06\n",
              "3  15003    0.71\n",
              "4  15004    0.04"
            ],
            "text/html": [
              "\n",
              "  <div id=\"df-0d4dbb37-03bc-4dfc-8547-cdebb6365b7b\" class=\"colab-df-container\">\n",
              "    <div>\n",
              "<style scoped>\n",
              "    .dataframe tbody tr th:only-of-type {\n",
              "        vertical-align: middle;\n",
              "    }\n",
              "\n",
              "    .dataframe tbody tr th {\n",
              "        vertical-align: top;\n",
              "    }\n",
              "\n",
              "    .dataframe thead th {\n",
              "        text-align: right;\n",
              "    }\n",
              "</style>\n",
              "<table border=\"1\" class=\"dataframe\">\n",
              "  <thead>\n",
              "    <tr style=\"text-align: right;\">\n",
              "      <th></th>\n",
              "      <th>id</th>\n",
              "      <th>Exited</th>\n",
              "    </tr>\n",
              "  </thead>\n",
              "  <tbody>\n",
              "    <tr>\n",
              "      <th>0</th>\n",
              "      <td>15000</td>\n",
              "      <td>0.17</td>\n",
              "    </tr>\n",
              "    <tr>\n",
              "      <th>1</th>\n",
              "      <td>15001</td>\n",
              "      <td>0.02</td>\n",
              "    </tr>\n",
              "    <tr>\n",
              "      <th>2</th>\n",
              "      <td>15002</td>\n",
              "      <td>0.06</td>\n",
              "    </tr>\n",
              "    <tr>\n",
              "      <th>3</th>\n",
              "      <td>15003</td>\n",
              "      <td>0.71</td>\n",
              "    </tr>\n",
              "    <tr>\n",
              "      <th>4</th>\n",
              "      <td>15004</td>\n",
              "      <td>0.04</td>\n",
              "    </tr>\n",
              "  </tbody>\n",
              "</table>\n",
              "</div>\n",
              "    <div class=\"colab-df-buttons\">\n",
              "\n",
              "  <div class=\"colab-df-container\">\n",
              "    <button class=\"colab-df-convert\" onclick=\"convertToInteractive('df-0d4dbb37-03bc-4dfc-8547-cdebb6365b7b')\"\n",
              "            title=\"Convert this dataframe to an interactive table.\"\n",
              "            style=\"display:none;\">\n",
              "\n",
              "  <svg xmlns=\"http://www.w3.org/2000/svg\" height=\"24px\" viewBox=\"0 -960 960 960\">\n",
              "    <path d=\"M120-120v-720h720v720H120Zm60-500h600v-160H180v160Zm220 220h160v-160H400v160Zm0 220h160v-160H400v160ZM180-400h160v-160H180v160Zm440 0h160v-160H620v160ZM180-180h160v-160H180v160Zm440 0h160v-160H620v160Z\"/>\n",
              "  </svg>\n",
              "    </button>\n",
              "\n",
              "  <style>\n",
              "    .colab-df-container {\n",
              "      display:flex;\n",
              "      gap: 12px;\n",
              "    }\n",
              "\n",
              "    .colab-df-convert {\n",
              "      background-color: #E8F0FE;\n",
              "      border: none;\n",
              "      border-radius: 50%;\n",
              "      cursor: pointer;\n",
              "      display: none;\n",
              "      fill: #1967D2;\n",
              "      height: 32px;\n",
              "      padding: 0 0 0 0;\n",
              "      width: 32px;\n",
              "    }\n",
              "\n",
              "    .colab-df-convert:hover {\n",
              "      background-color: #E2EBFA;\n",
              "      box-shadow: 0px 1px 2px rgba(60, 64, 67, 0.3), 0px 1px 3px 1px rgba(60, 64, 67, 0.15);\n",
              "      fill: #174EA6;\n",
              "    }\n",
              "\n",
              "    .colab-df-buttons div {\n",
              "      margin-bottom: 4px;\n",
              "    }\n",
              "\n",
              "    [theme=dark] .colab-df-convert {\n",
              "      background-color: #3B4455;\n",
              "      fill: #D2E3FC;\n",
              "    }\n",
              "\n",
              "    [theme=dark] .colab-df-convert:hover {\n",
              "      background-color: #434B5C;\n",
              "      box-shadow: 0px 1px 3px 1px rgba(0, 0, 0, 0.15);\n",
              "      filter: drop-shadow(0px 1px 2px rgba(0, 0, 0, 0.3));\n",
              "      fill: #FFFFFF;\n",
              "    }\n",
              "  </style>\n",
              "\n",
              "    <script>\n",
              "      const buttonEl =\n",
              "        document.querySelector('#df-0d4dbb37-03bc-4dfc-8547-cdebb6365b7b button.colab-df-convert');\n",
              "      buttonEl.style.display =\n",
              "        google.colab.kernel.accessAllowed ? 'block' : 'none';\n",
              "\n",
              "      async function convertToInteractive(key) {\n",
              "        const element = document.querySelector('#df-0d4dbb37-03bc-4dfc-8547-cdebb6365b7b');\n",
              "        const dataTable =\n",
              "          await google.colab.kernel.invokeFunction('convertToInteractive',\n",
              "                                                    [key], {});\n",
              "        if (!dataTable) return;\n",
              "\n",
              "        const docLinkHtml = 'Like what you see? Visit the ' +\n",
              "          '<a target=\"_blank\" href=https://colab.research.google.com/notebooks/data_table.ipynb>data table notebook</a>'\n",
              "          + ' to learn more about interactive tables.';\n",
              "        element.innerHTML = '';\n",
              "        dataTable['output_type'] = 'display_data';\n",
              "        await google.colab.output.renderOutput(dataTable, element);\n",
              "        const docLink = document.createElement('div');\n",
              "        docLink.innerHTML = docLinkHtml;\n",
              "        element.appendChild(docLink);\n",
              "      }\n",
              "    </script>\n",
              "  </div>\n",
              "\n",
              "\n",
              "<div id=\"df-60d5c6fe-145b-4da2-816f-7ef388d8459c\">\n",
              "  <button class=\"colab-df-quickchart\" onclick=\"quickchart('df-60d5c6fe-145b-4da2-816f-7ef388d8459c')\"\n",
              "            title=\"Suggest charts\"\n",
              "            style=\"display:none;\">\n",
              "\n",
              "<svg xmlns=\"http://www.w3.org/2000/svg\" height=\"24px\"viewBox=\"0 0 24 24\"\n",
              "     width=\"24px\">\n",
              "    <g>\n",
              "        <path d=\"M19 3H5c-1.1 0-2 .9-2 2v14c0 1.1.9 2 2 2h14c1.1 0 2-.9 2-2V5c0-1.1-.9-2-2-2zM9 17H7v-7h2v7zm4 0h-2V7h2v10zm4 0h-2v-4h2v4z\"/>\n",
              "    </g>\n",
              "</svg>\n",
              "  </button>\n",
              "\n",
              "<style>\n",
              "  .colab-df-quickchart {\n",
              "      --bg-color: #E8F0FE;\n",
              "      --fill-color: #1967D2;\n",
              "      --hover-bg-color: #E2EBFA;\n",
              "      --hover-fill-color: #174EA6;\n",
              "      --disabled-fill-color: #AAA;\n",
              "      --disabled-bg-color: #DDD;\n",
              "  }\n",
              "\n",
              "  [theme=dark] .colab-df-quickchart {\n",
              "      --bg-color: #3B4455;\n",
              "      --fill-color: #D2E3FC;\n",
              "      --hover-bg-color: #434B5C;\n",
              "      --hover-fill-color: #FFFFFF;\n",
              "      --disabled-bg-color: #3B4455;\n",
              "      --disabled-fill-color: #666;\n",
              "  }\n",
              "\n",
              "  .colab-df-quickchart {\n",
              "    background-color: var(--bg-color);\n",
              "    border: none;\n",
              "    border-radius: 50%;\n",
              "    cursor: pointer;\n",
              "    display: none;\n",
              "    fill: var(--fill-color);\n",
              "    height: 32px;\n",
              "    padding: 0;\n",
              "    width: 32px;\n",
              "  }\n",
              "\n",
              "  .colab-df-quickchart:hover {\n",
              "    background-color: var(--hover-bg-color);\n",
              "    box-shadow: 0 1px 2px rgba(60, 64, 67, 0.3), 0 1px 3px 1px rgba(60, 64, 67, 0.15);\n",
              "    fill: var(--button-hover-fill-color);\n",
              "  }\n",
              "\n",
              "  .colab-df-quickchart-complete:disabled,\n",
              "  .colab-df-quickchart-complete:disabled:hover {\n",
              "    background-color: var(--disabled-bg-color);\n",
              "    fill: var(--disabled-fill-color);\n",
              "    box-shadow: none;\n",
              "  }\n",
              "\n",
              "  .colab-df-spinner {\n",
              "    border: 2px solid var(--fill-color);\n",
              "    border-color: transparent;\n",
              "    border-bottom-color: var(--fill-color);\n",
              "    animation:\n",
              "      spin 1s steps(1) infinite;\n",
              "  }\n",
              "\n",
              "  @keyframes spin {\n",
              "    0% {\n",
              "      border-color: transparent;\n",
              "      border-bottom-color: var(--fill-color);\n",
              "      border-left-color: var(--fill-color);\n",
              "    }\n",
              "    20% {\n",
              "      border-color: transparent;\n",
              "      border-left-color: var(--fill-color);\n",
              "      border-top-color: var(--fill-color);\n",
              "    }\n",
              "    30% {\n",
              "      border-color: transparent;\n",
              "      border-left-color: var(--fill-color);\n",
              "      border-top-color: var(--fill-color);\n",
              "      border-right-color: var(--fill-color);\n",
              "    }\n",
              "    40% {\n",
              "      border-color: transparent;\n",
              "      border-right-color: var(--fill-color);\n",
              "      border-top-color: var(--fill-color);\n",
              "    }\n",
              "    60% {\n",
              "      border-color: transparent;\n",
              "      border-right-color: var(--fill-color);\n",
              "    }\n",
              "    80% {\n",
              "      border-color: transparent;\n",
              "      border-right-color: var(--fill-color);\n",
              "      border-bottom-color: var(--fill-color);\n",
              "    }\n",
              "    90% {\n",
              "      border-color: transparent;\n",
              "      border-bottom-color: var(--fill-color);\n",
              "    }\n",
              "  }\n",
              "</style>\n",
              "\n",
              "  <script>\n",
              "    async function quickchart(key) {\n",
              "      const quickchartButtonEl =\n",
              "        document.querySelector('#' + key + ' button');\n",
              "      quickchartButtonEl.disabled = true;  // To prevent multiple clicks.\n",
              "      quickchartButtonEl.classList.add('colab-df-spinner');\n",
              "      try {\n",
              "        const charts = await google.colab.kernel.invokeFunction(\n",
              "            'suggestCharts', [key], {});\n",
              "      } catch (error) {\n",
              "        console.error('Error during call to suggestCharts:', error);\n",
              "      }\n",
              "      quickchartButtonEl.classList.remove('colab-df-spinner');\n",
              "      quickchartButtonEl.classList.add('colab-df-quickchart-complete');\n",
              "    }\n",
              "    (() => {\n",
              "      let quickchartButtonEl =\n",
              "        document.querySelector('#df-60d5c6fe-145b-4da2-816f-7ef388d8459c button');\n",
              "      quickchartButtonEl.style.display =\n",
              "        google.colab.kernel.accessAllowed ? 'block' : 'none';\n",
              "    })();\n",
              "  </script>\n",
              "</div>\n",
              "    </div>\n",
              "  </div>\n"
            ],
            "application/vnd.google.colaboratory.intrinsic+json": {
              "type": "dataframe",
              "variable_name": "submission_df_manual",
              "summary": "{\n  \"name\": \"submission_df_manual\",\n  \"rows\": 10000,\n  \"fields\": [\n    {\n      \"column\": \"id\",\n      \"properties\": {\n        \"dtype\": \"number\",\n        \"std\": 2886,\n        \"min\": 15000,\n        \"max\": 24999,\n        \"num_unique_values\": 10000,\n        \"samples\": [\n          21252,\n          19684,\n          16731\n        ],\n        \"semantic_type\": \"\",\n        \"description\": \"\"\n      }\n    },\n    {\n      \"column\": \"Exited\",\n      \"properties\": {\n        \"dtype\": \"number\",\n        \"std\": 0.3087592926706546,\n        \"min\": 0.0,\n        \"max\": 1.0,\n        \"num_unique_values\": 69,\n        \"samples\": [\n          0.09090909090909091,\n          0.16796875,\n          0.1956521739130435\n        ],\n        \"semantic_type\": \"\",\n        \"description\": \"\"\n      }\n    }\n  ]\n}"
            }
          },
          "metadata": {},
          "execution_count": 28
        }
      ]
    },
    {
      "cell_type": "markdown",
      "source": [
        "![image.png](data:image/png;base64,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)"
      ],
      "metadata": {
        "id": "sZ9-YxYgnVn-"
      }
    },
    {
      "cell_type": "code",
      "source": [
        "submission_df_random.head()"
      ],
      "metadata": {
        "colab": {
          "base_uri": "https://localhost:8080/",
          "height": 206
        },
        "id": "Hs7-FIy8pX50",
        "outputId": "f2483f28-61db-48c7-f8e9-ef1cb26800ed"
      },
      "execution_count": 29,
      "outputs": [
        {
          "output_type": "execute_result",
          "data": {
            "text/plain": [
              "      id  Exited\n",
              "0  15000    0.24\n",
              "1  15001    0.01\n",
              "2  15002    0.20\n",
              "3  15003    0.57\n",
              "4  15004    0.08"
            ],
            "text/html": [
              "\n",
              "  <div id=\"df-45c743e4-7da1-4243-8de4-2bff4f52a213\" class=\"colab-df-container\">\n",
              "    <div>\n",
              "<style scoped>\n",
              "    .dataframe tbody tr th:only-of-type {\n",
              "        vertical-align: middle;\n",
              "    }\n",
              "\n",
              "    .dataframe tbody tr th {\n",
              "        vertical-align: top;\n",
              "    }\n",
              "\n",
              "    .dataframe thead th {\n",
              "        text-align: right;\n",
              "    }\n",
              "</style>\n",
              "<table border=\"1\" class=\"dataframe\">\n",
              "  <thead>\n",
              "    <tr style=\"text-align: right;\">\n",
              "      <th></th>\n",
              "      <th>id</th>\n",
              "      <th>Exited</th>\n",
              "    </tr>\n",
              "  </thead>\n",
              "  <tbody>\n",
              "    <tr>\n",
              "      <th>0</th>\n",
              "      <td>15000</td>\n",
              "      <td>0.24</td>\n",
              "    </tr>\n",
              "    <tr>\n",
              "      <th>1</th>\n",
              "      <td>15001</td>\n",
              "      <td>0.01</td>\n",
              "    </tr>\n",
              "    <tr>\n",
              "      <th>2</th>\n",
              "      <td>15002</td>\n",
              "      <td>0.20</td>\n",
              "    </tr>\n",
              "    <tr>\n",
              "      <th>3</th>\n",
              "      <td>15003</td>\n",
              "      <td>0.57</td>\n",
              "    </tr>\n",
              "    <tr>\n",
              "      <th>4</th>\n",
              "      <td>15004</td>\n",
              "      <td>0.08</td>\n",
              "    </tr>\n",
              "  </tbody>\n",
              "</table>\n",
              "</div>\n",
              "    <div class=\"colab-df-buttons\">\n",
              "\n",
              "  <div class=\"colab-df-container\">\n",
              "    <button class=\"colab-df-convert\" onclick=\"convertToInteractive('df-45c743e4-7da1-4243-8de4-2bff4f52a213')\"\n",
              "            title=\"Convert this dataframe to an interactive table.\"\n",
              "            style=\"display:none;\">\n",
              "\n",
              "  <svg xmlns=\"http://www.w3.org/2000/svg\" height=\"24px\" viewBox=\"0 -960 960 960\">\n",
              "    <path d=\"M120-120v-720h720v720H120Zm60-500h600v-160H180v160Zm220 220h160v-160H400v160Zm0 220h160v-160H400v160ZM180-400h160v-160H180v160Zm440 0h160v-160H620v160ZM180-180h160v-160H180v160Zm440 0h160v-160H620v160Z\"/>\n",
              "  </svg>\n",
              "    </button>\n",
              "\n",
              "  <style>\n",
              "    .colab-df-container {\n",
              "      display:flex;\n",
              "      gap: 12px;\n",
              "    }\n",
              "\n",
              "    .colab-df-convert {\n",
              "      background-color: #E8F0FE;\n",
              "      border: none;\n",
              "      border-radius: 50%;\n",
              "      cursor: pointer;\n",
              "      display: none;\n",
              "      fill: #1967D2;\n",
              "      height: 32px;\n",
              "      padding: 0 0 0 0;\n",
              "      width: 32px;\n",
              "    }\n",
              "\n",
              "    .colab-df-convert:hover {\n",
              "      background-color: #E2EBFA;\n",
              "      box-shadow: 0px 1px 2px rgba(60, 64, 67, 0.3), 0px 1px 3px 1px rgba(60, 64, 67, 0.15);\n",
              "      fill: #174EA6;\n",
              "    }\n",
              "\n",
              "    .colab-df-buttons div {\n",
              "      margin-bottom: 4px;\n",
              "    }\n",
              "\n",
              "    [theme=dark] .colab-df-convert {\n",
              "      background-color: #3B4455;\n",
              "      fill: #D2E3FC;\n",
              "    }\n",
              "\n",
              "    [theme=dark] .colab-df-convert:hover {\n",
              "      background-color: #434B5C;\n",
              "      box-shadow: 0px 1px 3px 1px rgba(0, 0, 0, 0.15);\n",
              "      filter: drop-shadow(0px 1px 2px rgba(0, 0, 0, 0.3));\n",
              "      fill: #FFFFFF;\n",
              "    }\n",
              "  </style>\n",
              "\n",
              "    <script>\n",
              "      const buttonEl =\n",
              "        document.querySelector('#df-45c743e4-7da1-4243-8de4-2bff4f52a213 button.colab-df-convert');\n",
              "      buttonEl.style.display =\n",
              "        google.colab.kernel.accessAllowed ? 'block' : 'none';\n",
              "\n",
              "      async function convertToInteractive(key) {\n",
              "        const element = document.querySelector('#df-45c743e4-7da1-4243-8de4-2bff4f52a213');\n",
              "        const dataTable =\n",
              "          await google.colab.kernel.invokeFunction('convertToInteractive',\n",
              "                                                    [key], {});\n",
              "        if (!dataTable) return;\n",
              "\n",
              "        const docLinkHtml = 'Like what you see? Visit the ' +\n",
              "          '<a target=\"_blank\" href=https://colab.research.google.com/notebooks/data_table.ipynb>data table notebook</a>'\n",
              "          + ' to learn more about interactive tables.';\n",
              "        element.innerHTML = '';\n",
              "        dataTable['output_type'] = 'display_data';\n",
              "        await google.colab.output.renderOutput(dataTable, element);\n",
              "        const docLink = document.createElement('div');\n",
              "        docLink.innerHTML = docLinkHtml;\n",
              "        element.appendChild(docLink);\n",
              "      }\n",
              "    </script>\n",
              "  </div>\n",
              "\n",
              "\n",
              "<div id=\"df-6749abd0-f2fe-4906-8aaf-833c08854e74\">\n",
              "  <button class=\"colab-df-quickchart\" onclick=\"quickchart('df-6749abd0-f2fe-4906-8aaf-833c08854e74')\"\n",
              "            title=\"Suggest charts\"\n",
              "            style=\"display:none;\">\n",
              "\n",
              "<svg xmlns=\"http://www.w3.org/2000/svg\" height=\"24px\"viewBox=\"0 0 24 24\"\n",
              "     width=\"24px\">\n",
              "    <g>\n",
              "        <path d=\"M19 3H5c-1.1 0-2 .9-2 2v14c0 1.1.9 2 2 2h14c1.1 0 2-.9 2-2V5c0-1.1-.9-2-2-2zM9 17H7v-7h2v7zm4 0h-2V7h2v10zm4 0h-2v-4h2v4z\"/>\n",
              "    </g>\n",
              "</svg>\n",
              "  </button>\n",
              "\n",
              "<style>\n",
              "  .colab-df-quickchart {\n",
              "      --bg-color: #E8F0FE;\n",
              "      --fill-color: #1967D2;\n",
              "      --hover-bg-color: #E2EBFA;\n",
              "      --hover-fill-color: #174EA6;\n",
              "      --disabled-fill-color: #AAA;\n",
              "      --disabled-bg-color: #DDD;\n",
              "  }\n",
              "\n",
              "  [theme=dark] .colab-df-quickchart {\n",
              "      --bg-color: #3B4455;\n",
              "      --fill-color: #D2E3FC;\n",
              "      --hover-bg-color: #434B5C;\n",
              "      --hover-fill-color: #FFFFFF;\n",
              "      --disabled-bg-color: #3B4455;\n",
              "      --disabled-fill-color: #666;\n",
              "  }\n",
              "\n",
              "  .colab-df-quickchart {\n",
              "    background-color: var(--bg-color);\n",
              "    border: none;\n",
              "    border-radius: 50%;\n",
              "    cursor: pointer;\n",
              "    display: none;\n",
              "    fill: var(--fill-color);\n",
              "    height: 32px;\n",
              "    padding: 0;\n",
              "    width: 32px;\n",
              "  }\n",
              "\n",
              "  .colab-df-quickchart:hover {\n",
              "    background-color: var(--hover-bg-color);\n",
              "    box-shadow: 0 1px 2px rgba(60, 64, 67, 0.3), 0 1px 3px 1px rgba(60, 64, 67, 0.15);\n",
              "    fill: var(--button-hover-fill-color);\n",
              "  }\n",
              "\n",
              "  .colab-df-quickchart-complete:disabled,\n",
              "  .colab-df-quickchart-complete:disabled:hover {\n",
              "    background-color: var(--disabled-bg-color);\n",
              "    fill: var(--disabled-fill-color);\n",
              "    box-shadow: none;\n",
              "  }\n",
              "\n",
              "  .colab-df-spinner {\n",
              "    border: 2px solid var(--fill-color);\n",
              "    border-color: transparent;\n",
              "    border-bottom-color: var(--fill-color);\n",
              "    animation:\n",
              "      spin 1s steps(1) infinite;\n",
              "  }\n",
              "\n",
              "  @keyframes spin {\n",
              "    0% {\n",
              "      border-color: transparent;\n",
              "      border-bottom-color: var(--fill-color);\n",
              "      border-left-color: var(--fill-color);\n",
              "    }\n",
              "    20% {\n",
              "      border-color: transparent;\n",
              "      border-left-color: var(--fill-color);\n",
              "      border-top-color: var(--fill-color);\n",
              "    }\n",
              "    30% {\n",
              "      border-color: transparent;\n",
              "      border-left-color: var(--fill-color);\n",
              "      border-top-color: var(--fill-color);\n",
              "      border-right-color: var(--fill-color);\n",
              "    }\n",
              "    40% {\n",
              "      border-color: transparent;\n",
              "      border-right-color: var(--fill-color);\n",
              "      border-top-color: var(--fill-color);\n",
              "    }\n",
              "    60% {\n",
              "      border-color: transparent;\n",
              "      border-right-color: var(--fill-color);\n",
              "    }\n",
              "    80% {\n",
              "      border-color: transparent;\n",
              "      border-right-color: var(--fill-color);\n",
              "      border-bottom-color: var(--fill-color);\n",
              "    }\n",
              "    90% {\n",
              "      border-color: transparent;\n",
              "      border-bottom-color: var(--fill-color);\n",
              "    }\n",
              "  }\n",
              "</style>\n",
              "\n",
              "  <script>\n",
              "    async function quickchart(key) {\n",
              "      const quickchartButtonEl =\n",
              "        document.querySelector('#' + key + ' button');\n",
              "      quickchartButtonEl.disabled = true;  // To prevent multiple clicks.\n",
              "      quickchartButtonEl.classList.add('colab-df-spinner');\n",
              "      try {\n",
              "        const charts = await google.colab.kernel.invokeFunction(\n",
              "            'suggestCharts', [key], {});\n",
              "      } catch (error) {\n",
              "        console.error('Error during call to suggestCharts:', error);\n",
              "      }\n",
              "      quickchartButtonEl.classList.remove('colab-df-spinner');\n",
              "      quickchartButtonEl.classList.add('colab-df-quickchart-complete');\n",
              "    }\n",
              "    (() => {\n",
              "      let quickchartButtonEl =\n",
              "        document.querySelector('#df-6749abd0-f2fe-4906-8aaf-833c08854e74 button');\n",
              "      quickchartButtonEl.style.display =\n",
              "        google.colab.kernel.accessAllowed ? 'block' : 'none';\n",
              "    })();\n",
              "  </script>\n",
              "</div>\n",
              "    </div>\n",
              "  </div>\n"
            ],
            "application/vnd.google.colaboratory.intrinsic+json": {
              "type": "dataframe",
              "variable_name": "submission_df_random",
              "summary": "{\n  \"name\": \"submission_df_random\",\n  \"rows\": 10000,\n  \"fields\": [\n    {\n      \"column\": \"id\",\n      \"properties\": {\n        \"dtype\": \"number\",\n        \"std\": 2886,\n        \"min\": 15000,\n        \"max\": 24999,\n        \"num_unique_values\": 10000,\n        \"samples\": [\n          21252,\n          19684,\n          16731\n        ],\n        \"semantic_type\": \"\",\n        \"description\": \"\"\n      }\n    },\n    {\n      \"column\": \"Exited\",\n      \"properties\": {\n        \"dtype\": \"number\",\n        \"std\": 0.2841016103038457,\n        \"min\": 0.012114989733059548,\n        \"max\": 1.0,\n        \"num_unique_values\": 14,\n        \"samples\": [\n          0.3619047619047619,\n          0.8933333333333333,\n          0.2379110251450677\n        ],\n        \"semantic_type\": \"\",\n        \"description\": \"\"\n      }\n    }\n  ]\n}"
            }
          },
          "metadata": {},
          "execution_count": 29
        }
      ]
    },
    {
      "cell_type": "markdown",
      "source": [
        "![image.png](data:image/png;base64,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)"
      ],
      "metadata": {
        "id": "LUc2dcNgnnUw"
      }
    },
    {
      "cell_type": "markdown",
      "source": [
        "**Висновки:** Ручний пошук гіперпараметрів показав кращі результати на валідаційній вибірці і трохи кращий публічний скор на Kaggle в порівнянні з RandomizedSearchCV.RandomizedSearchCV також дав добрі результати, але трохи гірші в порівнянні з ручним пошуком. Це може бути пов'язано з тим, що в ручному пошуку гіперпараметри були більш адаптовані до конкретної вибірки даних. RandomizedSearchCV знайшов інші параметри, які також дали добрі результати, але не такі високі як в ручному пошуку.\n",
        "Це означає, що ручний пошук може бути ефективним для пошуку гіперпараметрів, але RandomizedSearchCV є більш автоматизованим підходом, який дозволяє знайти добрі параметри за менший час без великого ручного втручання."
      ],
      "metadata": {
        "id": "e20XM6Xqnqbd"
      }
    }
  ]
}