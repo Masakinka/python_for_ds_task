{
  "nbformat": 4,
  "nbformat_minor": 0,
  "metadata": {
    "colab": {
      "provenance": [],
      "include_colab_link": true
    },
    "kernelspec": {
      "name": "python3",
      "display_name": "Python 3"
    },
    "language_info": {
      "name": "python"
    }
  },
  "cells": [
    {
      "cell_type": "markdown",
      "metadata": {
        "id": "view-in-github",
        "colab_type": "text"
      },
      "source": [
        "<a href=\"https://colab.research.google.com/github/Masakinka/python_for_ds_task/blob/main/HW_2_3_%D0%9C%D0%B0%D1%82%D1%80%D0%B8%D1%86%D1%96_%D1%96_%D0%B2%D0%B5%D0%BA%D1%82%D0%BE%D1%80%D0%B8_(%D0%B2%D1%81%D1%82%D1%83%D0%BF_%D0%B4%D0%BE_%D0%BB%D1%96%D0%BD_%D0%B0%D0%BB%D0%B3%D0%B5%D0%B1%D1%80%D0%B8).ipynb\" target=\"_parent\"><img src=\"https://colab.research.google.com/assets/colab-badge.svg\" alt=\"Open In Colab\"/></a>"
      ]
    },
    {
      "cell_type": "markdown",
      "source": [
        "### Завдання 1: Створення матриць та векторів\n",
        "1. Створіть `numpy` вектор `vector` розмірністю 10 з випадковими дійсними значеннями в діапазоні від 0 до 1. Можна скористатись двома альтернативними варіантами:\n",
        "  1. Генерація випадкових чисел з модулем [`random.uniform`](https://docs.python.org/3/library/random.html).\n",
        "  2. Створення вектора з допомогою метода `numpy` [np.random.rand](https://numpy.org/doc/stable/reference/random/generated/numpy.random.rand.html)\n",
        "\n",
        "2. Створіть матрицю `matrix` типу `numpy.array` розмірності 3x3 з наступними значеннями\n",
        "\n",
        "  $$\n",
        "  matrix = \\begin{bmatrix}\n",
        "  11 & 14 & 17 \\\\\n",
        "  20 & 23 & 26 \\\\\n",
        "  29 & 32 & 35\n",
        "  \\end{bmatrix}\n",
        "  $$\n",
        "\n",
        "  будь-яким відомими Вам способом.\n",
        "\n",
        "Виведіть на екран вектор і матрицю, а також їх розміри.\n"
      ],
      "metadata": {
        "id": "efug1V4CM0lT"
      }
    },
    {
      "cell_type": "code",
      "source": [
        "import numpy as np"
      ],
      "metadata": {
        "id": "jxA_lG2_VIMe"
      },
      "execution_count": 1,
      "outputs": []
    },
    {
      "cell_type": "code",
      "source": [
        "# Генерація випадкових чисел з модулем random.uniform\n",
        "vector_uniform = np.random.uniform(0, 1, 10)\n",
        "\n",
        "# Або створення вектора з допомогою методу numpy np.random.rand\n",
        "vector_rand = np.random.rand(10)\n",
        "\n",
        "# Виведення на екран вектора\n",
        "print(\"Вектор (random.uniform):\", vector_uniform)\n",
        "print(\"Вектор (np.random.rand):\", vector_rand)"
      ],
      "metadata": {
        "colab": {
          "base_uri": "https://localhost:8080/"
        },
        "id": "xveQmiqsKjh0",
        "outputId": "41a4972e-d1a1-4e04-b9e2-c174aac1c6e6"
      },
      "execution_count": 2,
      "outputs": [
        {
          "output_type": "stream",
          "name": "stdout",
          "text": [
            "Вектор (random.uniform): [0.65404692 0.41106765 0.98834777 0.58924389 0.62509414 0.6736042\n",
            " 0.09740197 0.64526386 0.37314704 0.88962097]\n",
            "Вектор (np.random.rand): [0.64487019 0.58315785 0.62012293 0.49363822 0.15850394 0.38065471\n",
            " 0.60810668 0.60458536 0.57323526 0.71291622]\n"
          ]
        }
      ]
    },
    {
      "cell_type": "code",
      "source": [
        "# Створення матриці типу numpy.array\n",
        "matrix = np.array([[11, 14, 17],\n",
        "                   [20, 23, 26],\n",
        "                   [29, 32, 35]])\n",
        "\n",
        "# Виведення на екран матриці\n",
        "print(\"Матриця:\")\n",
        "print(matrix)"
      ],
      "metadata": {
        "colab": {
          "base_uri": "https://localhost:8080/"
        },
        "id": "j_HfGCKjLsQV",
        "outputId": "43c511a1-816b-41a0-f03d-ebee1c2c6994"
      },
      "execution_count": 3,
      "outputs": [
        {
          "output_type": "stream",
          "name": "stdout",
          "text": [
            "Матриця:\n",
            "[[11 14 17]\n",
            " [20 23 26]\n",
            " [29 32 35]]\n"
          ]
        }
      ]
    },
    {
      "cell_type": "code",
      "source": [
        "# Розмір вектора\n",
        "print(\"Розмір вектора:\", vector_uniform.shape)\n",
        "\n",
        "# Розмір матриці\n",
        "print(\"Розмір матриці:\", matrix.shape)"
      ],
      "metadata": {
        "colab": {
          "base_uri": "https://localhost:8080/"
        },
        "id": "plIcwE2_L4W0",
        "outputId": "78fbe1d5-18a4-40ca-9bb4-1801b62256e6"
      },
      "execution_count": 4,
      "outputs": [
        {
          "output_type": "stream",
          "name": "stdout",
          "text": [
            "Розмір вектора: (10,)\n",
            "Розмір матриці: (3, 3)\n"
          ]
        }
      ]
    },
    {
      "cell_type": "markdown",
      "source": [
        "\n",
        "### Завдання 2: Операції над векторами та матрицями\n",
        "Виконайте кожну з зазначених операцій над зазначеними оʼєктами і виведіть результат на екран:\n",
        "1. Додайте до кожного значення вектора `vector` число 10 і округліть кожне значення до 2 знаків після коми без використання циклів.\n",
        "2. Помножте кожен елемент матриці з першого завдання на 2 без використання циклів.\n",
        "3. Створіть новий вектор, який містить квадрат кожного `vector` без циклів.\n"
      ],
      "metadata": {
        "id": "TSJ1P4OuOVe2"
      }
    },
    {
      "cell_type": "code",
      "source": [
        "# Генерація випадкових чисел для вектора\n",
        "vector = np.random.uniform(0, 1, 10)\n",
        "print(\"Оригінальний вектор:\", vector)\n",
        "\n",
        "# Додавання 10 і округлення до 2 знаків після коми\n",
        "vector_plus_10 = np.round(vector + 10, 2)\n",
        "print(\"Вектор після додавання 10 і округлення:\", vector_plus_10)"
      ],
      "metadata": {
        "id": "nAAojtyUVJXN",
        "colab": {
          "base_uri": "https://localhost:8080/"
        },
        "outputId": "e0fc18ca-264c-4954-e2fc-4f79f1058edf"
      },
      "execution_count": 16,
      "outputs": [
        {
          "output_type": "stream",
          "name": "stdout",
          "text": [
            "Оригінальний вектор: [0.46796251 0.79652941 0.05984335 0.30154965 0.79260242 0.74228641\n",
            " 0.35811587 0.48224125 0.28075639 0.15236592]\n",
            "Вектор після додавання 10 і округлення: [10.47 10.8  10.06 10.3  10.79 10.74 10.36 10.48 10.28 10.15]\n"
          ]
        }
      ]
    },
    {
      "cell_type": "code",
      "source": [
        "# Помноження кожного елемента матриці на 2\n",
        "matrix_times_2 = matrix * 2\n",
        "print(\"Матриця після множення на 2:\")\n",
        "print(matrix_times_2)"
      ],
      "metadata": {
        "colab": {
          "base_uri": "https://localhost:8080/"
        },
        "id": "qNo-otX2MYeE",
        "outputId": "96fdf839-a6c2-46dc-e508-ce1344761a56"
      },
      "execution_count": 17,
      "outputs": [
        {
          "output_type": "stream",
          "name": "stdout",
          "text": [
            "Матриця після множення на 2:\n",
            "[[22 28 34]\n",
            " [40 46 52]\n",
            " [58 64 70]]\n"
          ]
        }
      ]
    },
    {
      "cell_type": "markdown",
      "source": [
        "\n",
        "### Завдання 3: Множення матриць\n",
        "1. Задані дві матриці `A` і `B`розмірностями 3x2 та 2х3. Виконайте їхнє множення, щоб отримати матрицю 2x2. Виведіть результуючу матрицю `result_matrix` на екран.\n",
        "\n",
        "2. Заданий вектор `C` розмірністю 1х2. Подумайте спочатку, яку розмірність Ви отрмаєте, коли домножите `result_matrix` на вектор `C` і який результат буде. А потім виконайте множення і виведіть результат на екран.\n",
        "\n",
        "3. Задана матриця `D` розмірністю 2х2. Подумайте спочатку, яку розмірність Ви отрмаєте, коли домножите `result_matrix` на матрицю `D` і який результат буде. А потім виконайте множення і виведіть результат на екран."
      ],
      "metadata": {
        "id": "u6RvWVfhPy-k"
      }
    },
    {
      "cell_type": "code",
      "source": [
        "A = np.array(\n",
        "    [[0.18, 0.53],\n",
        "     [0.75, 0.47],\n",
        "     [0.35, 0.21]])\n",
        "\n",
        "B = np.array(\n",
        "    [[0.17, 0.58, 0.75],\n",
        "     [0.38, 0.11, 0.15]])\n",
        "\n",
        "C = np.array([[0], [1]])\n",
        "\n",
        "D = np.array([[0,1], [1,0]])\n",
        "\n",
        "display(A, B, C, D)"
      ],
      "metadata": {
        "id": "RwXfPzlbSJ44",
        "colab": {
          "base_uri": "https://localhost:8080/",
          "height": 173
        },
        "outputId": "e658b959-d98d-4211-a5e3-37512d6c4729"
      },
      "execution_count": 33,
      "outputs": [
        {
          "output_type": "display_data",
          "data": {
            "text/plain": [
              "array([[0.18, 0.53],\n",
              "       [0.75, 0.47],\n",
              "       [0.35, 0.21]])"
            ]
          },
          "metadata": {}
        },
        {
          "output_type": "display_data",
          "data": {
            "text/plain": [
              "array([[0.17, 0.58, 0.75],\n",
              "       [0.38, 0.11, 0.15]])"
            ]
          },
          "metadata": {}
        },
        {
          "output_type": "display_data",
          "data": {
            "text/plain": [
              "array([[0],\n",
              "       [1]])"
            ]
          },
          "metadata": {}
        },
        {
          "output_type": "display_data",
          "data": {
            "text/plain": [
              "array([[0, 1],\n",
              "       [1, 0]])"
            ]
          },
          "metadata": {}
        }
      ]
    },
    {
      "cell_type": "code",
      "source": [
        "# Множення матриць A і B\n",
        "result_matrix = np.dot(B, A)\n",
        "print(\"Результуюча матриця після множення A і B:\")\n",
        "print(result_matrix)"
      ],
      "metadata": {
        "id": "z7-boTbhVKkj",
        "colab": {
          "base_uri": "https://localhost:8080/"
        },
        "outputId": "b76267ec-0b19-4a23-eb4e-a4d9d18ec70c"
      },
      "execution_count": 32,
      "outputs": [
        {
          "output_type": "stream",
          "name": "stdout",
          "text": [
            "Результуюча матриця після множення A і B:\n",
            "[[0.7281 0.5202]\n",
            " [0.2034 0.2846]]\n"
          ]
        }
      ]
    },
    {
      "cell_type": "code",
      "source": [
        "# Задання вектора C (коректний розмір для множення) // бо розмірність result_matrix 3х3, а С 1х2 і буде помилка\n",
        "# C = np.array([[1], [0], [1]])\n",
        "\n",
        "# Множення result_matrix на вектор C\n",
        "result_vector = np.dot(result_matrix, C)\n",
        "print(\"Результат множення result_matrix на вектор C:\")\n",
        "print(result_vector)"
      ],
      "metadata": {
        "colab": {
          "base_uri": "https://localhost:8080/"
        },
        "id": "SDK-xZ_LNh-I",
        "outputId": "73aefc11-213b-4b3d-d8d7-b433b7af9e7e"
      },
      "execution_count": 34,
      "outputs": [
        {
          "output_type": "stream",
          "name": "stdout",
          "text": [
            "Результат множення result_matrix на вектор C:\n",
            "[[0.5202]\n",
            " [0.2846]]\n"
          ]
        }
      ]
    },
    {
      "cell_type": "code",
      "source": [
        "# Множення result_matrix на матрицю D\n",
        "# Для цього потрібно змінити розміри матриць\n",
        "# result_matrix_2x2 = result_matrix[:2, :2]\n",
        "final_result = np.dot(result_matrix, D)\n",
        "print(\"Результат множення result_matrix на матрицю D:\")\n",
        "print(final_result)"
      ],
      "metadata": {
        "colab": {
          "base_uri": "https://localhost:8080/"
        },
        "id": "CECSwxSlN1ug",
        "outputId": "ea2b60d0-b99e-4f79-cd9d-0b94f0358896"
      },
      "execution_count": 35,
      "outputs": [
        {
          "output_type": "stream",
          "name": "stdout",
          "text": [
            "Результат множення result_matrix на матрицю D:\n",
            "[[0.5202 0.7281]\n",
            " [0.2846 0.2034]]\n"
          ]
        }
      ]
    },
    {
      "cell_type": "markdown",
      "source": [
        "\n",
        "### Завдання 4: Транспонування матриць\n",
        "1. Транспонуйте `result_matrix`.\n",
        "2. Зробіть транспонування вектора `vector` і виведіть форму нової структури. Чи бачите ви зміну?\n",
        "3. Використайте операцію `numpy.expand_dims` над вектором `vector` з аргументом axis=1. Запишіть отриманий результат в змінну `column_vector` і виведіть на екран. Порівняйте з `vector`.\n",
        "4. Зробіть транспонування `column_vector`, виведіть результат на екран разом з розмірностями отриманої структури.\n",
        "\n",
        "\n"
      ],
      "metadata": {
        "id": "wohp0_cxSGpl"
      }
    },
    {
      "cell_type": "code",
      "source": [
        "# Транспонування result_matrix\n",
        "result_matrix_T = np.transpose(result_matrix)\n",
        "print(\"Транспонована result_matrix:\")\n",
        "print(result_matrix_T)\n",
        "print(\"Форма транспонованої result_matrix:\", result_matrix_T.shape)"
      ],
      "metadata": {
        "id": "4hFcq1baVLii",
        "colab": {
          "base_uri": "https://localhost:8080/"
        },
        "outputId": "cc674582-8c2b-4671-cf91-e966946e8501"
      },
      "execution_count": 36,
      "outputs": [
        {
          "output_type": "stream",
          "name": "stdout",
          "text": [
            "Транспонована result_matrix:\n",
            "[[0.7281 0.2034]\n",
            " [0.5202 0.2846]]\n",
            "Форма транспонованої result_matrix: (2, 2)\n"
          ]
        }
      ]
    },
    {
      "cell_type": "code",
      "source": [
        "# Створення вектора для прикладу\n",
        "vector = np.random.uniform(0, 1, 10)\n",
        "print(\"\\nОригінальний вектор:\")\n",
        "print(vector)"
      ],
      "metadata": {
        "colab": {
          "base_uri": "https://localhost:8080/"
        },
        "id": "gvlOCUzPRHsX",
        "outputId": "dcac95f9-bfc7-4b00-870b-816046532f92"
      },
      "execution_count": 37,
      "outputs": [
        {
          "output_type": "stream",
          "name": "stdout",
          "text": [
            "\n",
            "Оригінальний вектор:\n",
            "[0.93935691 0.89475148 0.10165221 0.35630782 0.52530145 0.32290528\n",
            " 0.24567221 0.07535754 0.11001071 0.28564796]\n"
          ]
        }
      ]
    },
    {
      "cell_type": "code",
      "source": [
        "# Транспонування вектора\n",
        "vector_T = np.transpose(vector)\n",
        "print(\"\\nТранспонований вектор:\")\n",
        "print(vector_T)\n",
        "print(\"Форма транспонованого вектора:\", vector_T.shape)"
      ],
      "metadata": {
        "colab": {
          "base_uri": "https://localhost:8080/"
        },
        "id": "K6SvmrrkRVXx",
        "outputId": "9bc6ae87-833d-4a1e-bba4-5e0df1aa15f5"
      },
      "execution_count": 38,
      "outputs": [
        {
          "output_type": "stream",
          "name": "stdout",
          "text": [
            "\n",
            "Транспонований вектор:\n",
            "[0.93935691 0.89475148 0.10165221 0.35630782 0.52530145 0.32290528\n",
            " 0.24567221 0.07535754 0.11001071 0.28564796]\n",
            "Форма транспонованого вектора: (10,)\n"
          ]
        }
      ]
    },
    {
      "cell_type": "code",
      "source": [
        "# Використання numpy.expand_dims над вектором vector з аргументом axis=1\n",
        "column_vector = np.expand_dims(vector, axis=1)\n",
        "print(\"\\nВектор після expand_dims (column_vector):\")\n",
        "print(column_vector)\n",
        "print(\"Форма column_vector:\", column_vector.shape)"
      ],
      "metadata": {
        "colab": {
          "base_uri": "https://localhost:8080/"
        },
        "id": "xVIgXvhURrmK",
        "outputId": "03a5fdb7-096a-4691-c7fc-23145b96d926"
      },
      "execution_count": 39,
      "outputs": [
        {
          "output_type": "stream",
          "name": "stdout",
          "text": [
            "\n",
            "Вектор після expand_dims (column_vector):\n",
            "[[0.93935691]\n",
            " [0.89475148]\n",
            " [0.10165221]\n",
            " [0.35630782]\n",
            " [0.52530145]\n",
            " [0.32290528]\n",
            " [0.24567221]\n",
            " [0.07535754]\n",
            " [0.11001071]\n",
            " [0.28564796]]\n",
            "Форма column_vector: (10, 1)\n"
          ]
        }
      ]
    },
    {
      "cell_type": "code",
      "source": [
        "# Транспонування column_vector\n",
        "column_vector_T = np.transpose(column_vector)\n",
        "print(\"\\nТранспонований column_vector:\")\n",
        "print(column_vector_T)\n",
        "print(\"Форма транспонованого column_vector:\", column_vector_T.shape)"
      ],
      "metadata": {
        "colab": {
          "base_uri": "https://localhost:8080/"
        },
        "id": "pWnQJMORR0h7",
        "outputId": "6d7d66b7-2c85-4f1a-b56a-ad3251f381a0"
      },
      "execution_count": 40,
      "outputs": [
        {
          "output_type": "stream",
          "name": "stdout",
          "text": [
            "\n",
            "Транспонований column_vector:\n",
            "[[0.93935691 0.89475148 0.10165221 0.35630782 0.52530145 0.32290528\n",
            "  0.24567221 0.07535754 0.11001071 0.28564796]]\n",
            "Форма транспонованого column_vector: (1, 10)\n"
          ]
        }
      ]
    }
  ]
}