{
  "nbformat": 4,
  "nbformat_minor": 0,
  "metadata": {
    "colab": {
      "provenance": [],
      "include_colab_link": true
    },
    "kernelspec": {
      "name": "python3",
      "display_name": "Python 3"
    },
    "language_info": {
      "name": "python"
    }
  },
  "cells": [
    {
      "cell_type": "markdown",
      "metadata": {
        "id": "view-in-github",
        "colab_type": "text"
      },
      "source": [
        "<a href=\"https://colab.research.google.com/github/Masakinka/python_for_ds_task/blob/main/HW_2_9_%D0%9D%D0%B5%D0%B7%D0%B1%D0%B0%D0%BB%D0%B0%D0%BD%D1%81%D0%BE%D0%B2%D0%B0%D0%BD%D0%B0_%D0%B1%D0%B0%D0%B3%D0%B0%D1%82%D0%BE%D0%BA%D0%BB%D0%B0%D1%81%D0%BE%D0%B2%D0%B0_%D0%BA%D0%BB%D0%B0%D1%81%D0%B8%D1%84%D1%96%D0%BA%D0%B0%D1%86%D1%96%D1%8F.ipynb\" target=\"_parent\"><img src=\"https://colab.research.google.com/assets/colab-badge.svg\" alt=\"Open In Colab\"/></a>"
      ]
    },
    {
      "cell_type": "markdown",
      "source": [
        "У цьому ДЗ ми потренуємось розв'язувати задачу багатокласової класифікації за допомогою логістичної регресії з використанням стратегій One-vs-Rest та One-vs-One, оцінити якість моделей та порівняти стратегії."
      ],
      "metadata": {
        "id": "VUPArbcFJKzJ"
      }
    },
    {
      "cell_type": "markdown",
      "source": [
        "### Опис задачі і даних\n",
        "\n",
        "**Контекст**\n",
        "\n",
        "В цьому ДЗ ми працюємо з даними про сегментацію клієнтів.\n",
        "\n",
        "Сегментація клієнтів – це практика поділу бази клієнтів на групи індивідів, які схожі між собою за певними критеріями, що мають значення для маркетингу, такими як вік, стать, інтереси та звички у витратах.\n",
        "\n",
        "Компанії, які використовують сегментацію клієнтів, виходять з того, що кожен клієнт є унікальним і що їхні маркетингові зусилля будуть більш ефективними, якщо вони орієнтуватимуться на конкретні, менші групи зі зверненнями, які ці споживачі вважатимуть доречними та які спонукатимуть їх до купівлі. Компанії також сподіваються отримати глибше розуміння уподобань та потреб своїх клієнтів з метою виявлення того, що кожен сегмент цінує найбільше, щоб точніше адаптувати маркетингові матеріали до цього сегменту.\n",
        "\n",
        "**Зміст**.\n",
        "\n",
        "Автомобільна компанія планує вийти на нові ринки зі своїми існуючими продуктами (P1, P2, P3, P4 і P5). Після інтенсивного маркетингового дослідження вони дійшли висновку, що поведінка нового ринку схожа на їхній існуючий ринок.\n",
        "\n",
        "На своєму існуючому ринку команда з продажу класифікувала всіх клієнтів на 4 сегменти (A, B, C, D). Потім вони здійснювали сегментовані звернення та комунікацію з різними сегментами клієнтів. Ця стратегія працювала для них надзвичайно добре. Вони планують використати ту саму стратегію на нових ринках і визначили 2627 нових потенційних клієнтів.\n",
        "\n",
        "Ви маєте допомогти менеджеру передбачити правильну групу для нових клієнтів.\n",
        "\n",
        "В цьому ДЗ використовуємо дані `customer_segmentation_train.csv`[скачати дані](https://drive.google.com/file/d/1VU1y2EwaHkVfr5RZ1U4MPWjeflAusK3w/view?usp=sharing). Це `train.csv`з цього [змагання](https://www.kaggle.com/datasets/abisheksudarshan/customer-segmentation/data?select=train.csv)"
      ],
      "metadata": {
        "id": "7f4tzX6YomVv"
      }
    },
    {
      "cell_type": "code",
      "source": [
        "from google.colab import drive\n",
        "drive.mount('/content/drive')"
      ],
      "metadata": {
        "colab": {
          "base_uri": "https://localhost:8080/"
        },
        "id": "Zba4tlM0SalN",
        "outputId": "204e8902-610b-4722-9719-c97b632e125a"
      },
      "execution_count": 67,
      "outputs": [
        {
          "output_type": "stream",
          "name": "stdout",
          "text": [
            "Drive already mounted at /content/drive; to attempt to forcibly remount, call drive.mount(\"/content/drive\", force_remount=True).\n"
          ]
        }
      ]
    },
    {
      "cell_type": "code",
      "source": [
        "import pandas as pd\n",
        "import numpy as np\n",
        "import matplotlib.pyplot as plt\n",
        "import seaborn as sns\n",
        "from sklearn.model_selection import train_test_split\n",
        "from sklearn.pipeline import Pipeline\n",
        "from sklearn.impute import SimpleImputer\n",
        "from sklearn.preprocessing import OneHotEncoder, StandardScaler\n",
        "from sklearn.compose import ColumnTransformer\n",
        "from sklearn.preprocessing import LabelEncoder\n",
        "from sklearn.linear_model import LogisticRegression\n",
        "from sklearn.multiclass import OneVsRestClassifier, OneVsOneClassifier\n",
        "from sklearn.metrics import classification_report, confusion_matrix, accuracy_score, roc_auc_score, f1_score, roc_curve, precision_score, recall_score\n",
        "from scipy.stats import chi2_contingency\n",
        "\n",
        "#import warnings"
      ],
      "metadata": {
        "id": "YpI17zv-TM03"
      },
      "execution_count": 111,
      "outputs": []
    },
    {
      "cell_type": "code",
      "source": [
        "pd.set_option('display.max.rows',130)\n",
        "pd.set_option('display.max.columns',130)\n",
        "pd.set_option('float_format', '{:.2f}'.format)\n",
        "pd.set_option('display.max_columns', None)\n",
        "pd.set_option('display.expand_frame_repr', False)"
      ],
      "metadata": {
        "id": "VdRAHmO7hxHl"
      },
      "execution_count": 92,
      "outputs": []
    },
    {
      "cell_type": "markdown",
      "source": [
        "**Завдання 1.** Завантажте та підготуйте датасет до аналізу. Виконайте обробку пропущених значень та необхідне кодування категоріальних ознак. Розбийте на тренувальну і тестувальну вибірку, де в тесті 20%. Памʼятаємо, що весь препроцесинг ліпше все ж тренувати на тренувальній вибірці і на тестувальній лише використовувати вже натреновані трансформери.\n",
        "Але в даному випадку оскільки значень в категоріях небагато, можна зробити обробку і на оригінальних даних, а потім розбити - це простіше. Можна також реалізувати процесинг і тренування моделі з пайплайнами. Обирайте як вам зручніше."
      ],
      "metadata": {
        "id": "NZFXPKx1JX-3"
      }
    },
    {
      "cell_type": "code",
      "source": [
        "customer_segmentation_df = pd.read_csv(\"drive/MyDrive/Colab Notebooks/data/customer_segmentation_train.csv\")"
      ],
      "metadata": {
        "id": "I-mwGqPS5GAT"
      },
      "execution_count": 93,
      "outputs": []
    },
    {
      "cell_type": "code",
      "source": [
        "customer_segmentation_df.head()"
      ],
      "metadata": {
        "colab": {
          "base_uri": "https://localhost:8080/",
          "height": 206
        },
        "id": "xy_XfZdUTVLy",
        "outputId": "a4330338-d22a-45f7-9d25-68791e8c9ed9"
      },
      "execution_count": 94,
      "outputs": [
        {
          "output_type": "execute_result",
          "data": {
            "text/plain": [
              "       ID  Gender Ever_Married  Age Graduated     Profession  Work_Experience Spending_Score  Family_Size  Var_1 Segmentation\n",
              "0  462809    Male           No   22        No     Healthcare             1.00            Low         4.00  Cat_4            D\n",
              "1  462643  Female          Yes   38       Yes       Engineer              NaN        Average         3.00  Cat_4            A\n",
              "2  466315  Female          Yes   67       Yes       Engineer             1.00            Low         1.00  Cat_6            B\n",
              "3  461735    Male          Yes   67       Yes         Lawyer             0.00           High         2.00  Cat_6            B\n",
              "4  462669  Female          Yes   40       Yes  Entertainment              NaN           High         6.00  Cat_6            A"
            ],
            "text/html": [
              "\n",
              "  <div id=\"df-3d020ad7-3123-4d60-9719-635725c99769\" class=\"colab-df-container\">\n",
              "    <div>\n",
              "<style scoped>\n",
              "    .dataframe tbody tr th:only-of-type {\n",
              "        vertical-align: middle;\n",
              "    }\n",
              "\n",
              "    .dataframe tbody tr th {\n",
              "        vertical-align: top;\n",
              "    }\n",
              "\n",
              "    .dataframe thead th {\n",
              "        text-align: right;\n",
              "    }\n",
              "</style>\n",
              "<table border=\"1\" class=\"dataframe\">\n",
              "  <thead>\n",
              "    <tr style=\"text-align: right;\">\n",
              "      <th></th>\n",
              "      <th>ID</th>\n",
              "      <th>Gender</th>\n",
              "      <th>Ever_Married</th>\n",
              "      <th>Age</th>\n",
              "      <th>Graduated</th>\n",
              "      <th>Profession</th>\n",
              "      <th>Work_Experience</th>\n",
              "      <th>Spending_Score</th>\n",
              "      <th>Family_Size</th>\n",
              "      <th>Var_1</th>\n",
              "      <th>Segmentation</th>\n",
              "    </tr>\n",
              "  </thead>\n",
              "  <tbody>\n",
              "    <tr>\n",
              "      <th>0</th>\n",
              "      <td>462809</td>\n",
              "      <td>Male</td>\n",
              "      <td>No</td>\n",
              "      <td>22</td>\n",
              "      <td>No</td>\n",
              "      <td>Healthcare</td>\n",
              "      <td>1.00</td>\n",
              "      <td>Low</td>\n",
              "      <td>4.00</td>\n",
              "      <td>Cat_4</td>\n",
              "      <td>D</td>\n",
              "    </tr>\n",
              "    <tr>\n",
              "      <th>1</th>\n",
              "      <td>462643</td>\n",
              "      <td>Female</td>\n",
              "      <td>Yes</td>\n",
              "      <td>38</td>\n",
              "      <td>Yes</td>\n",
              "      <td>Engineer</td>\n",
              "      <td>NaN</td>\n",
              "      <td>Average</td>\n",
              "      <td>3.00</td>\n",
              "      <td>Cat_4</td>\n",
              "      <td>A</td>\n",
              "    </tr>\n",
              "    <tr>\n",
              "      <th>2</th>\n",
              "      <td>466315</td>\n",
              "      <td>Female</td>\n",
              "      <td>Yes</td>\n",
              "      <td>67</td>\n",
              "      <td>Yes</td>\n",
              "      <td>Engineer</td>\n",
              "      <td>1.00</td>\n",
              "      <td>Low</td>\n",
              "      <td>1.00</td>\n",
              "      <td>Cat_6</td>\n",
              "      <td>B</td>\n",
              "    </tr>\n",
              "    <tr>\n",
              "      <th>3</th>\n",
              "      <td>461735</td>\n",
              "      <td>Male</td>\n",
              "      <td>Yes</td>\n",
              "      <td>67</td>\n",
              "      <td>Yes</td>\n",
              "      <td>Lawyer</td>\n",
              "      <td>0.00</td>\n",
              "      <td>High</td>\n",
              "      <td>2.00</td>\n",
              "      <td>Cat_6</td>\n",
              "      <td>B</td>\n",
              "    </tr>\n",
              "    <tr>\n",
              "      <th>4</th>\n",
              "      <td>462669</td>\n",
              "      <td>Female</td>\n",
              "      <td>Yes</td>\n",
              "      <td>40</td>\n",
              "      <td>Yes</td>\n",
              "      <td>Entertainment</td>\n",
              "      <td>NaN</td>\n",
              "      <td>High</td>\n",
              "      <td>6.00</td>\n",
              "      <td>Cat_6</td>\n",
              "      <td>A</td>\n",
              "    </tr>\n",
              "  </tbody>\n",
              "</table>\n",
              "</div>\n",
              "    <div class=\"colab-df-buttons\">\n",
              "\n",
              "  <div class=\"colab-df-container\">\n",
              "    <button class=\"colab-df-convert\" onclick=\"convertToInteractive('df-3d020ad7-3123-4d60-9719-635725c99769')\"\n",
              "            title=\"Convert this dataframe to an interactive table.\"\n",
              "            style=\"display:none;\">\n",
              "\n",
              "  <svg xmlns=\"http://www.w3.org/2000/svg\" height=\"24px\" viewBox=\"0 -960 960 960\">\n",
              "    <path d=\"M120-120v-720h720v720H120Zm60-500h600v-160H180v160Zm220 220h160v-160H400v160Zm0 220h160v-160H400v160ZM180-400h160v-160H180v160Zm440 0h160v-160H620v160ZM180-180h160v-160H180v160Zm440 0h160v-160H620v160Z\"/>\n",
              "  </svg>\n",
              "    </button>\n",
              "\n",
              "  <style>\n",
              "    .colab-df-container {\n",
              "      display:flex;\n",
              "      gap: 12px;\n",
              "    }\n",
              "\n",
              "    .colab-df-convert {\n",
              "      background-color: #E8F0FE;\n",
              "      border: none;\n",
              "      border-radius: 50%;\n",
              "      cursor: pointer;\n",
              "      display: none;\n",
              "      fill: #1967D2;\n",
              "      height: 32px;\n",
              "      padding: 0 0 0 0;\n",
              "      width: 32px;\n",
              "    }\n",
              "\n",
              "    .colab-df-convert:hover {\n",
              "      background-color: #E2EBFA;\n",
              "      box-shadow: 0px 1px 2px rgba(60, 64, 67, 0.3), 0px 1px 3px 1px rgba(60, 64, 67, 0.15);\n",
              "      fill: #174EA6;\n",
              "    }\n",
              "\n",
              "    .colab-df-buttons div {\n",
              "      margin-bottom: 4px;\n",
              "    }\n",
              "\n",
              "    [theme=dark] .colab-df-convert {\n",
              "      background-color: #3B4455;\n",
              "      fill: #D2E3FC;\n",
              "    }\n",
              "\n",
              "    [theme=dark] .colab-df-convert:hover {\n",
              "      background-color: #434B5C;\n",
              "      box-shadow: 0px 1px 3px 1px rgba(0, 0, 0, 0.15);\n",
              "      filter: drop-shadow(0px 1px 2px rgba(0, 0, 0, 0.3));\n",
              "      fill: #FFFFFF;\n",
              "    }\n",
              "  </style>\n",
              "\n",
              "    <script>\n",
              "      const buttonEl =\n",
              "        document.querySelector('#df-3d020ad7-3123-4d60-9719-635725c99769 button.colab-df-convert');\n",
              "      buttonEl.style.display =\n",
              "        google.colab.kernel.accessAllowed ? 'block' : 'none';\n",
              "\n",
              "      async function convertToInteractive(key) {\n",
              "        const element = document.querySelector('#df-3d020ad7-3123-4d60-9719-635725c99769');\n",
              "        const dataTable =\n",
              "          await google.colab.kernel.invokeFunction('convertToInteractive',\n",
              "                                                    [key], {});\n",
              "        if (!dataTable) return;\n",
              "\n",
              "        const docLinkHtml = 'Like what you see? Visit the ' +\n",
              "          '<a target=\"_blank\" href=https://colab.research.google.com/notebooks/data_table.ipynb>data table notebook</a>'\n",
              "          + ' to learn more about interactive tables.';\n",
              "        element.innerHTML = '';\n",
              "        dataTable['output_type'] = 'display_data';\n",
              "        await google.colab.output.renderOutput(dataTable, element);\n",
              "        const docLink = document.createElement('div');\n",
              "        docLink.innerHTML = docLinkHtml;\n",
              "        element.appendChild(docLink);\n",
              "      }\n",
              "    </script>\n",
              "  </div>\n",
              "\n",
              "\n",
              "<div id=\"df-a97f5723-3713-4f2d-b8c2-33c5d0c92b31\">\n",
              "  <button class=\"colab-df-quickchart\" onclick=\"quickchart('df-a97f5723-3713-4f2d-b8c2-33c5d0c92b31')\"\n",
              "            title=\"Suggest charts\"\n",
              "            style=\"display:none;\">\n",
              "\n",
              "<svg xmlns=\"http://www.w3.org/2000/svg\" height=\"24px\"viewBox=\"0 0 24 24\"\n",
              "     width=\"24px\">\n",
              "    <g>\n",
              "        <path d=\"M19 3H5c-1.1 0-2 .9-2 2v14c0 1.1.9 2 2 2h14c1.1 0 2-.9 2-2V5c0-1.1-.9-2-2-2zM9 17H7v-7h2v7zm4 0h-2V7h2v10zm4 0h-2v-4h2v4z\"/>\n",
              "    </g>\n",
              "</svg>\n",
              "  </button>\n",
              "\n",
              "<style>\n",
              "  .colab-df-quickchart {\n",
              "      --bg-color: #E8F0FE;\n",
              "      --fill-color: #1967D2;\n",
              "      --hover-bg-color: #E2EBFA;\n",
              "      --hover-fill-color: #174EA6;\n",
              "      --disabled-fill-color: #AAA;\n",
              "      --disabled-bg-color: #DDD;\n",
              "  }\n",
              "\n",
              "  [theme=dark] .colab-df-quickchart {\n",
              "      --bg-color: #3B4455;\n",
              "      --fill-color: #D2E3FC;\n",
              "      --hover-bg-color: #434B5C;\n",
              "      --hover-fill-color: #FFFFFF;\n",
              "      --disabled-bg-color: #3B4455;\n",
              "      --disabled-fill-color: #666;\n",
              "  }\n",
              "\n",
              "  .colab-df-quickchart {\n",
              "    background-color: var(--bg-color);\n",
              "    border: none;\n",
              "    border-radius: 50%;\n",
              "    cursor: pointer;\n",
              "    display: none;\n",
              "    fill: var(--fill-color);\n",
              "    height: 32px;\n",
              "    padding: 0;\n",
              "    width: 32px;\n",
              "  }\n",
              "\n",
              "  .colab-df-quickchart:hover {\n",
              "    background-color: var(--hover-bg-color);\n",
              "    box-shadow: 0 1px 2px rgba(60, 64, 67, 0.3), 0 1px 3px 1px rgba(60, 64, 67, 0.15);\n",
              "    fill: var(--button-hover-fill-color);\n",
              "  }\n",
              "\n",
              "  .colab-df-quickchart-complete:disabled,\n",
              "  .colab-df-quickchart-complete:disabled:hover {\n",
              "    background-color: var(--disabled-bg-color);\n",
              "    fill: var(--disabled-fill-color);\n",
              "    box-shadow: none;\n",
              "  }\n",
              "\n",
              "  .colab-df-spinner {\n",
              "    border: 2px solid var(--fill-color);\n",
              "    border-color: transparent;\n",
              "    border-bottom-color: var(--fill-color);\n",
              "    animation:\n",
              "      spin 1s steps(1) infinite;\n",
              "  }\n",
              "\n",
              "  @keyframes spin {\n",
              "    0% {\n",
              "      border-color: transparent;\n",
              "      border-bottom-color: var(--fill-color);\n",
              "      border-left-color: var(--fill-color);\n",
              "    }\n",
              "    20% {\n",
              "      border-color: transparent;\n",
              "      border-left-color: var(--fill-color);\n",
              "      border-top-color: var(--fill-color);\n",
              "    }\n",
              "    30% {\n",
              "      border-color: transparent;\n",
              "      border-left-color: var(--fill-color);\n",
              "      border-top-color: var(--fill-color);\n",
              "      border-right-color: var(--fill-color);\n",
              "    }\n",
              "    40% {\n",
              "      border-color: transparent;\n",
              "      border-right-color: var(--fill-color);\n",
              "      border-top-color: var(--fill-color);\n",
              "    }\n",
              "    60% {\n",
              "      border-color: transparent;\n",
              "      border-right-color: var(--fill-color);\n",
              "    }\n",
              "    80% {\n",
              "      border-color: transparent;\n",
              "      border-right-color: var(--fill-color);\n",
              "      border-bottom-color: var(--fill-color);\n",
              "    }\n",
              "    90% {\n",
              "      border-color: transparent;\n",
              "      border-bottom-color: var(--fill-color);\n",
              "    }\n",
              "  }\n",
              "</style>\n",
              "\n",
              "  <script>\n",
              "    async function quickchart(key) {\n",
              "      const quickchartButtonEl =\n",
              "        document.querySelector('#' + key + ' button');\n",
              "      quickchartButtonEl.disabled = true;  // To prevent multiple clicks.\n",
              "      quickchartButtonEl.classList.add('colab-df-spinner');\n",
              "      try {\n",
              "        const charts = await google.colab.kernel.invokeFunction(\n",
              "            'suggestCharts', [key], {});\n",
              "      } catch (error) {\n",
              "        console.error('Error during call to suggestCharts:', error);\n",
              "      }\n",
              "      quickchartButtonEl.classList.remove('colab-df-spinner');\n",
              "      quickchartButtonEl.classList.add('colab-df-quickchart-complete');\n",
              "    }\n",
              "    (() => {\n",
              "      let quickchartButtonEl =\n",
              "        document.querySelector('#df-a97f5723-3713-4f2d-b8c2-33c5d0c92b31 button');\n",
              "      quickchartButtonEl.style.display =\n",
              "        google.colab.kernel.accessAllowed ? 'block' : 'none';\n",
              "    })();\n",
              "  </script>\n",
              "</div>\n",
              "    </div>\n",
              "  </div>\n"
            ],
            "application/vnd.google.colaboratory.intrinsic+json": {
              "type": "dataframe",
              "variable_name": "customer_segmentation_df",
              "summary": "{\n  \"name\": \"customer_segmentation_df\",\n  \"rows\": 8068,\n  \"fields\": [\n    {\n      \"column\": \"ID\",\n      \"properties\": {\n        \"dtype\": \"number\",\n        \"std\": 2595,\n        \"min\": 458982,\n        \"max\": 467974,\n        \"num_unique_values\": 8068,\n        \"samples\": [\n          467287,\n          466142,\n          465257\n        ],\n        \"semantic_type\": \"\",\n        \"description\": \"\"\n      }\n    },\n    {\n      \"column\": \"Gender\",\n      \"properties\": {\n        \"dtype\": \"category\",\n        \"num_unique_values\": 2,\n        \"samples\": [\n          \"Female\",\n          \"Male\"\n        ],\n        \"semantic_type\": \"\",\n        \"description\": \"\"\n      }\n    },\n    {\n      \"column\": \"Ever_Married\",\n      \"properties\": {\n        \"dtype\": \"category\",\n        \"num_unique_values\": 2,\n        \"samples\": [\n          \"Yes\",\n          \"No\"\n        ],\n        \"semantic_type\": \"\",\n        \"description\": \"\"\n      }\n    },\n    {\n      \"column\": \"Age\",\n      \"properties\": {\n        \"dtype\": \"number\",\n        \"std\": 16,\n        \"min\": 18,\n        \"max\": 89,\n        \"num_unique_values\": 67,\n        \"samples\": [\n          30,\n          49\n        ],\n        \"semantic_type\": \"\",\n        \"description\": \"\"\n      }\n    },\n    {\n      \"column\": \"Graduated\",\n      \"properties\": {\n        \"dtype\": \"category\",\n        \"num_unique_values\": 2,\n        \"samples\": [\n          \"Yes\",\n          \"No\"\n        ],\n        \"semantic_type\": \"\",\n        \"description\": \"\"\n      }\n    },\n    {\n      \"column\": \"Profession\",\n      \"properties\": {\n        \"dtype\": \"category\",\n        \"num_unique_values\": 9,\n        \"samples\": [\n          \"Homemaker\",\n          \"Engineer\"\n        ],\n        \"semantic_type\": \"\",\n        \"description\": \"\"\n      }\n    },\n    {\n      \"column\": \"Work_Experience\",\n      \"properties\": {\n        \"dtype\": \"number\",\n        \"std\": 3.406762985458083,\n        \"min\": 0.0,\n        \"max\": 14.0,\n        \"num_unique_values\": 15,\n        \"samples\": [\n          14.0,\n          2.0\n        ],\n        \"semantic_type\": \"\",\n        \"description\": \"\"\n      }\n    },\n    {\n      \"column\": \"Spending_Score\",\n      \"properties\": {\n        \"dtype\": \"category\",\n        \"num_unique_values\": 3,\n        \"samples\": [\n          \"Low\",\n          \"Average\"\n        ],\n        \"semantic_type\": \"\",\n        \"description\": \"\"\n      }\n    },\n    {\n      \"column\": \"Family_Size\",\n      \"properties\": {\n        \"dtype\": \"number\",\n        \"std\": 1.5314132820253756,\n        \"min\": 1.0,\n        \"max\": 9.0,\n        \"num_unique_values\": 9,\n        \"samples\": [\n          7.0,\n          3.0\n        ],\n        \"semantic_type\": \"\",\n        \"description\": \"\"\n      }\n    },\n    {\n      \"column\": \"Var_1\",\n      \"properties\": {\n        \"dtype\": \"category\",\n        \"num_unique_values\": 7,\n        \"samples\": [\n          \"Cat_4\",\n          \"Cat_6\"\n        ],\n        \"semantic_type\": \"\",\n        \"description\": \"\"\n      }\n    },\n    {\n      \"column\": \"Segmentation\",\n      \"properties\": {\n        \"dtype\": \"category\",\n        \"num_unique_values\": 4,\n        \"samples\": [\n          \"A\",\n          \"C\"\n        ],\n        \"semantic_type\": \"\",\n        \"description\": \"\"\n      }\n    }\n  ]\n}"
            }
          },
          "metadata": {},
          "execution_count": 94
        }
      ]
    },
    {
      "cell_type": "code",
      "source": [
        "customer_segmentation_df.info(verbose = True, show_counts=True)"
      ],
      "metadata": {
        "colab": {
          "base_uri": "https://localhost:8080/"
        },
        "id": "F8sza7wLUGkc",
        "outputId": "628d74aa-0ce3-4b8d-b6e5-2101d0eef785"
      },
      "execution_count": 95,
      "outputs": [
        {
          "output_type": "stream",
          "name": "stdout",
          "text": [
            "<class 'pandas.core.frame.DataFrame'>\n",
            "RangeIndex: 8068 entries, 0 to 8067\n",
            "Data columns (total 11 columns):\n",
            " #   Column           Non-Null Count  Dtype  \n",
            "---  ------           --------------  -----  \n",
            " 0   ID               8068 non-null   int64  \n",
            " 1   Gender           8068 non-null   object \n",
            " 2   Ever_Married     7928 non-null   object \n",
            " 3   Age              8068 non-null   int64  \n",
            " 4   Graduated        7990 non-null   object \n",
            " 5   Profession       7944 non-null   object \n",
            " 6   Work_Experience  7239 non-null   float64\n",
            " 7   Spending_Score   8068 non-null   object \n",
            " 8   Family_Size      7733 non-null   float64\n",
            " 9   Var_1            7992 non-null   object \n",
            " 10  Segmentation     8068 non-null   object \n",
            "dtypes: float64(2), int64(2), object(7)\n",
            "memory usage: 693.5+ KB\n"
          ]
        }
      ]
    },
    {
      "cell_type": "code",
      "source": [
        "customer_segmentation_df.describe()"
      ],
      "metadata": {
        "colab": {
          "base_uri": "https://localhost:8080/",
          "height": 300
        },
        "id": "TWQ73UGqUtjY",
        "outputId": "889fb760-cbcd-457b-adc0-ac3a0d371405"
      },
      "execution_count": 96,
      "outputs": [
        {
          "output_type": "execute_result",
          "data": {
            "text/plain": [
              "             ID     Age  Work_Experience  Family_Size\n",
              "count   8068.00 8068.00          7239.00      7733.00\n",
              "mean  463479.21   43.47             2.64         2.85\n",
              "std     2595.38   16.71             3.41         1.53\n",
              "min   458982.00   18.00             0.00         1.00\n",
              "25%   461240.75   30.00             0.00         2.00\n",
              "50%   463472.50   40.00             1.00         3.00\n",
              "75%   465744.25   53.00             4.00         4.00\n",
              "max   467974.00   89.00            14.00         9.00"
            ],
            "text/html": [
              "\n",
              "  <div id=\"df-261fca03-cb8a-4ea5-8fde-67cc33c6e240\" class=\"colab-df-container\">\n",
              "    <div>\n",
              "<style scoped>\n",
              "    .dataframe tbody tr th:only-of-type {\n",
              "        vertical-align: middle;\n",
              "    }\n",
              "\n",
              "    .dataframe tbody tr th {\n",
              "        vertical-align: top;\n",
              "    }\n",
              "\n",
              "    .dataframe thead th {\n",
              "        text-align: right;\n",
              "    }\n",
              "</style>\n",
              "<table border=\"1\" class=\"dataframe\">\n",
              "  <thead>\n",
              "    <tr style=\"text-align: right;\">\n",
              "      <th></th>\n",
              "      <th>ID</th>\n",
              "      <th>Age</th>\n",
              "      <th>Work_Experience</th>\n",
              "      <th>Family_Size</th>\n",
              "    </tr>\n",
              "  </thead>\n",
              "  <tbody>\n",
              "    <tr>\n",
              "      <th>count</th>\n",
              "      <td>8068.00</td>\n",
              "      <td>8068.00</td>\n",
              "      <td>7239.00</td>\n",
              "      <td>7733.00</td>\n",
              "    </tr>\n",
              "    <tr>\n",
              "      <th>mean</th>\n",
              "      <td>463479.21</td>\n",
              "      <td>43.47</td>\n",
              "      <td>2.64</td>\n",
              "      <td>2.85</td>\n",
              "    </tr>\n",
              "    <tr>\n",
              "      <th>std</th>\n",
              "      <td>2595.38</td>\n",
              "      <td>16.71</td>\n",
              "      <td>3.41</td>\n",
              "      <td>1.53</td>\n",
              "    </tr>\n",
              "    <tr>\n",
              "      <th>min</th>\n",
              "      <td>458982.00</td>\n",
              "      <td>18.00</td>\n",
              "      <td>0.00</td>\n",
              "      <td>1.00</td>\n",
              "    </tr>\n",
              "    <tr>\n",
              "      <th>25%</th>\n",
              "      <td>461240.75</td>\n",
              "      <td>30.00</td>\n",
              "      <td>0.00</td>\n",
              "      <td>2.00</td>\n",
              "    </tr>\n",
              "    <tr>\n",
              "      <th>50%</th>\n",
              "      <td>463472.50</td>\n",
              "      <td>40.00</td>\n",
              "      <td>1.00</td>\n",
              "      <td>3.00</td>\n",
              "    </tr>\n",
              "    <tr>\n",
              "      <th>75%</th>\n",
              "      <td>465744.25</td>\n",
              "      <td>53.00</td>\n",
              "      <td>4.00</td>\n",
              "      <td>4.00</td>\n",
              "    </tr>\n",
              "    <tr>\n",
              "      <th>max</th>\n",
              "      <td>467974.00</td>\n",
              "      <td>89.00</td>\n",
              "      <td>14.00</td>\n",
              "      <td>9.00</td>\n",
              "    </tr>\n",
              "  </tbody>\n",
              "</table>\n",
              "</div>\n",
              "    <div class=\"colab-df-buttons\">\n",
              "\n",
              "  <div class=\"colab-df-container\">\n",
              "    <button class=\"colab-df-convert\" onclick=\"convertToInteractive('df-261fca03-cb8a-4ea5-8fde-67cc33c6e240')\"\n",
              "            title=\"Convert this dataframe to an interactive table.\"\n",
              "            style=\"display:none;\">\n",
              "\n",
              "  <svg xmlns=\"http://www.w3.org/2000/svg\" height=\"24px\" viewBox=\"0 -960 960 960\">\n",
              "    <path d=\"M120-120v-720h720v720H120Zm60-500h600v-160H180v160Zm220 220h160v-160H400v160Zm0 220h160v-160H400v160ZM180-400h160v-160H180v160Zm440 0h160v-160H620v160ZM180-180h160v-160H180v160Zm440 0h160v-160H620v160Z\"/>\n",
              "  </svg>\n",
              "    </button>\n",
              "\n",
              "  <style>\n",
              "    .colab-df-container {\n",
              "      display:flex;\n",
              "      gap: 12px;\n",
              "    }\n",
              "\n",
              "    .colab-df-convert {\n",
              "      background-color: #E8F0FE;\n",
              "      border: none;\n",
              "      border-radius: 50%;\n",
              "      cursor: pointer;\n",
              "      display: none;\n",
              "      fill: #1967D2;\n",
              "      height: 32px;\n",
              "      padding: 0 0 0 0;\n",
              "      width: 32px;\n",
              "    }\n",
              "\n",
              "    .colab-df-convert:hover {\n",
              "      background-color: #E2EBFA;\n",
              "      box-shadow: 0px 1px 2px rgba(60, 64, 67, 0.3), 0px 1px 3px 1px rgba(60, 64, 67, 0.15);\n",
              "      fill: #174EA6;\n",
              "    }\n",
              "\n",
              "    .colab-df-buttons div {\n",
              "      margin-bottom: 4px;\n",
              "    }\n",
              "\n",
              "    [theme=dark] .colab-df-convert {\n",
              "      background-color: #3B4455;\n",
              "      fill: #D2E3FC;\n",
              "    }\n",
              "\n",
              "    [theme=dark] .colab-df-convert:hover {\n",
              "      background-color: #434B5C;\n",
              "      box-shadow: 0px 1px 3px 1px rgba(0, 0, 0, 0.15);\n",
              "      filter: drop-shadow(0px 1px 2px rgba(0, 0, 0, 0.3));\n",
              "      fill: #FFFFFF;\n",
              "    }\n",
              "  </style>\n",
              "\n",
              "    <script>\n",
              "      const buttonEl =\n",
              "        document.querySelector('#df-261fca03-cb8a-4ea5-8fde-67cc33c6e240 button.colab-df-convert');\n",
              "      buttonEl.style.display =\n",
              "        google.colab.kernel.accessAllowed ? 'block' : 'none';\n",
              "\n",
              "      async function convertToInteractive(key) {\n",
              "        const element = document.querySelector('#df-261fca03-cb8a-4ea5-8fde-67cc33c6e240');\n",
              "        const dataTable =\n",
              "          await google.colab.kernel.invokeFunction('convertToInteractive',\n",
              "                                                    [key], {});\n",
              "        if (!dataTable) return;\n",
              "\n",
              "        const docLinkHtml = 'Like what you see? Visit the ' +\n",
              "          '<a target=\"_blank\" href=https://colab.research.google.com/notebooks/data_table.ipynb>data table notebook</a>'\n",
              "          + ' to learn more about interactive tables.';\n",
              "        element.innerHTML = '';\n",
              "        dataTable['output_type'] = 'display_data';\n",
              "        await google.colab.output.renderOutput(dataTable, element);\n",
              "        const docLink = document.createElement('div');\n",
              "        docLink.innerHTML = docLinkHtml;\n",
              "        element.appendChild(docLink);\n",
              "      }\n",
              "    </script>\n",
              "  </div>\n",
              "\n",
              "\n",
              "<div id=\"df-922cdeca-7965-410e-a435-76b8243c5b98\">\n",
              "  <button class=\"colab-df-quickchart\" onclick=\"quickchart('df-922cdeca-7965-410e-a435-76b8243c5b98')\"\n",
              "            title=\"Suggest charts\"\n",
              "            style=\"display:none;\">\n",
              "\n",
              "<svg xmlns=\"http://www.w3.org/2000/svg\" height=\"24px\"viewBox=\"0 0 24 24\"\n",
              "     width=\"24px\">\n",
              "    <g>\n",
              "        <path d=\"M19 3H5c-1.1 0-2 .9-2 2v14c0 1.1.9 2 2 2h14c1.1 0 2-.9 2-2V5c0-1.1-.9-2-2-2zM9 17H7v-7h2v7zm4 0h-2V7h2v10zm4 0h-2v-4h2v4z\"/>\n",
              "    </g>\n",
              "</svg>\n",
              "  </button>\n",
              "\n",
              "<style>\n",
              "  .colab-df-quickchart {\n",
              "      --bg-color: #E8F0FE;\n",
              "      --fill-color: #1967D2;\n",
              "      --hover-bg-color: #E2EBFA;\n",
              "      --hover-fill-color: #174EA6;\n",
              "      --disabled-fill-color: #AAA;\n",
              "      --disabled-bg-color: #DDD;\n",
              "  }\n",
              "\n",
              "  [theme=dark] .colab-df-quickchart {\n",
              "      --bg-color: #3B4455;\n",
              "      --fill-color: #D2E3FC;\n",
              "      --hover-bg-color: #434B5C;\n",
              "      --hover-fill-color: #FFFFFF;\n",
              "      --disabled-bg-color: #3B4455;\n",
              "      --disabled-fill-color: #666;\n",
              "  }\n",
              "\n",
              "  .colab-df-quickchart {\n",
              "    background-color: var(--bg-color);\n",
              "    border: none;\n",
              "    border-radius: 50%;\n",
              "    cursor: pointer;\n",
              "    display: none;\n",
              "    fill: var(--fill-color);\n",
              "    height: 32px;\n",
              "    padding: 0;\n",
              "    width: 32px;\n",
              "  }\n",
              "\n",
              "  .colab-df-quickchart:hover {\n",
              "    background-color: var(--hover-bg-color);\n",
              "    box-shadow: 0 1px 2px rgba(60, 64, 67, 0.3), 0 1px 3px 1px rgba(60, 64, 67, 0.15);\n",
              "    fill: var(--button-hover-fill-color);\n",
              "  }\n",
              "\n",
              "  .colab-df-quickchart-complete:disabled,\n",
              "  .colab-df-quickchart-complete:disabled:hover {\n",
              "    background-color: var(--disabled-bg-color);\n",
              "    fill: var(--disabled-fill-color);\n",
              "    box-shadow: none;\n",
              "  }\n",
              "\n",
              "  .colab-df-spinner {\n",
              "    border: 2px solid var(--fill-color);\n",
              "    border-color: transparent;\n",
              "    border-bottom-color: var(--fill-color);\n",
              "    animation:\n",
              "      spin 1s steps(1) infinite;\n",
              "  }\n",
              "\n",
              "  @keyframes spin {\n",
              "    0% {\n",
              "      border-color: transparent;\n",
              "      border-bottom-color: var(--fill-color);\n",
              "      border-left-color: var(--fill-color);\n",
              "    }\n",
              "    20% {\n",
              "      border-color: transparent;\n",
              "      border-left-color: var(--fill-color);\n",
              "      border-top-color: var(--fill-color);\n",
              "    }\n",
              "    30% {\n",
              "      border-color: transparent;\n",
              "      border-left-color: var(--fill-color);\n",
              "      border-top-color: var(--fill-color);\n",
              "      border-right-color: var(--fill-color);\n",
              "    }\n",
              "    40% {\n",
              "      border-color: transparent;\n",
              "      border-right-color: var(--fill-color);\n",
              "      border-top-color: var(--fill-color);\n",
              "    }\n",
              "    60% {\n",
              "      border-color: transparent;\n",
              "      border-right-color: var(--fill-color);\n",
              "    }\n",
              "    80% {\n",
              "      border-color: transparent;\n",
              "      border-right-color: var(--fill-color);\n",
              "      border-bottom-color: var(--fill-color);\n",
              "    }\n",
              "    90% {\n",
              "      border-color: transparent;\n",
              "      border-bottom-color: var(--fill-color);\n",
              "    }\n",
              "  }\n",
              "</style>\n",
              "\n",
              "  <script>\n",
              "    async function quickchart(key) {\n",
              "      const quickchartButtonEl =\n",
              "        document.querySelector('#' + key + ' button');\n",
              "      quickchartButtonEl.disabled = true;  // To prevent multiple clicks.\n",
              "      quickchartButtonEl.classList.add('colab-df-spinner');\n",
              "      try {\n",
              "        const charts = await google.colab.kernel.invokeFunction(\n",
              "            'suggestCharts', [key], {});\n",
              "      } catch (error) {\n",
              "        console.error('Error during call to suggestCharts:', error);\n",
              "      }\n",
              "      quickchartButtonEl.classList.remove('colab-df-spinner');\n",
              "      quickchartButtonEl.classList.add('colab-df-quickchart-complete');\n",
              "    }\n",
              "    (() => {\n",
              "      let quickchartButtonEl =\n",
              "        document.querySelector('#df-922cdeca-7965-410e-a435-76b8243c5b98 button');\n",
              "      quickchartButtonEl.style.display =\n",
              "        google.colab.kernel.accessAllowed ? 'block' : 'none';\n",
              "    })();\n",
              "  </script>\n",
              "</div>\n",
              "    </div>\n",
              "  </div>\n"
            ],
            "application/vnd.google.colaboratory.intrinsic+json": {
              "type": "dataframe",
              "summary": "{\n  \"name\": \"customer_segmentation_df\",\n  \"rows\": 8,\n  \"fields\": [\n    {\n      \"column\": \"ID\",\n      \"properties\": {\n        \"dtype\": \"number\",\n        \"std\": 212104.51149838002,\n        \"min\": 2595.3812317546913,\n        \"max\": 467974.0,\n        \"num_unique_values\": 8,\n        \"samples\": [\n          463479.21455131384,\n          463472.5,\n          8068.0\n        ],\n        \"semantic_type\": \"\",\n        \"description\": \"\"\n      }\n    },\n    {\n      \"column\": \"Age\",\n      \"properties\": {\n        \"dtype\": \"number\",\n        \"std\": 2837.905489178973,\n        \"min\": 16.711696318721156,\n        \"max\": 8068.0,\n        \"num_unique_values\": 8,\n        \"samples\": [\n          43.46690629647992,\n          40.0,\n          8068.0\n        ],\n        \"semantic_type\": \"\",\n        \"description\": \"\"\n      }\n    },\n    {\n      \"column\": \"Work_Experience\",\n      \"properties\": {\n        \"dtype\": \"number\",\n        \"std\": 2558.11182158551,\n        \"min\": 0.0,\n        \"max\": 7239.0,\n        \"num_unique_values\": 7,\n        \"samples\": [\n          7239.0,\n          2.641663213150988,\n          4.0\n        ],\n        \"semantic_type\": \"\",\n        \"description\": \"\"\n      }\n    },\n    {\n      \"column\": \"Family_Size\",\n      \"properties\": {\n        \"dtype\": \"number\",\n        \"std\": 2732.848557083418,\n        \"min\": 1.0,\n        \"max\": 7733.0,\n        \"num_unique_values\": 8,\n        \"samples\": [\n          2.85012285012285,\n          3.0,\n          7733.0\n        ],\n        \"semantic_type\": \"\",\n        \"description\": \"\"\n      }\n    }\n  ]\n}"
            }
          },
          "metadata": {},
          "execution_count": 96
        }
      ]
    },
    {
      "cell_type": "code",
      "source": [
        "customer_segmentation_df.isna().sum()"
      ],
      "metadata": {
        "colab": {
          "base_uri": "https://localhost:8080/"
        },
        "id": "k-4fKBjlVNUZ",
        "outputId": "d00d41f0-9c46-43d2-cf5c-2f997cbd429d"
      },
      "execution_count": 97,
      "outputs": [
        {
          "output_type": "execute_result",
          "data": {
            "text/plain": [
              "ID                   0\n",
              "Gender               0\n",
              "Ever_Married       140\n",
              "Age                  0\n",
              "Graduated           78\n",
              "Profession         124\n",
              "Work_Experience    829\n",
              "Spending_Score       0\n",
              "Family_Size        335\n",
              "Var_1               76\n",
              "Segmentation         0\n",
              "dtype: int64"
            ]
          },
          "metadata": {},
          "execution_count": 97
        }
      ]
    },
    {
      "cell_type": "code",
      "source": [
        "# Відображення типів даних всіх колонок\n",
        "data_types = customer_segmentation_df.dtypes\n",
        "\n",
        "# Визначення унікальних значень і їх кількість для кожної категоріальної колонки\n",
        "categorical_columns = customer_segmentation_df.select_dtypes(include=['object']).columns\n",
        "unique_values = {col: customer_segmentation_df[col].unique() for col in categorical_columns}\n",
        "nunique_values = {col: customer_segmentation_df[col].nunique() for col in categorical_columns}\n",
        "\n",
        "# Створення зведеної DataFrame\n",
        "summary_unique_values = {\n",
        "    \"Column\": categorical_columns,\n",
        "    \"Unique Values\": [unique_values[col] for col in categorical_columns],\n",
        "    \"Number of Unique Values\": [nunique_values[col] for col in categorical_columns]\n",
        "}\n",
        "\n",
        "unique_values_df = pd.DataFrame(summary_unique_values)\n",
        "\n",
        "# Відображення типів даних\n",
        "print(\"Column Data Types:\")\n",
        "print(data_types)\n",
        "\n",
        "# Відображення  зведених даних DataFrame\n",
        "print(\"\\nUnique Values in Categorical Columns:\")\n",
        "print(unique_values_df)"
      ],
      "metadata": {
        "colab": {
          "base_uri": "https://localhost:8080/"
        },
        "id": "jehzz-H4VXw_",
        "outputId": "c12c60a9-8d9a-44d1-ee6c-4b990816f708"
      },
      "execution_count": 98,
      "outputs": [
        {
          "output_type": "stream",
          "name": "stdout",
          "text": [
            "Column Data Types:\n",
            "ID                   int64\n",
            "Gender              object\n",
            "Ever_Married        object\n",
            "Age                  int64\n",
            "Graduated           object\n",
            "Profession          object\n",
            "Work_Experience    float64\n",
            "Spending_Score      object\n",
            "Family_Size        float64\n",
            "Var_1               object\n",
            "Segmentation        object\n",
            "dtype: object\n",
            "\n",
            "Unique Values in Categorical Columns:\n",
            "           Column                                      Unique Values  Number of Unique Values\n",
            "0          Gender                                     [Male, Female]                        2\n",
            "1    Ever_Married                                     [No, Yes, nan]                        2\n",
            "2       Graduated                                     [No, Yes, nan]                        2\n",
            "3      Profession  [Healthcare, Engineer, Lawyer, Entertainment, ...                        9\n",
            "4  Spending_Score                               [Low, Average, High]                        3\n",
            "5           Var_1  [Cat_4, Cat_6, Cat_7, Cat_3, Cat_1, Cat_2, nan...                        7\n",
            "6    Segmentation                                       [D, A, B, C]                        4\n"
          ]
        }
      ]
    },
    {
      "cell_type": "markdown",
      "source": [
        "У нашому датасеті пропущені значення наявні в таких колонках: Ever_Married, Graduated, Profession, Work_Experience, Family_Size, Var_1.\n",
        "\n",
        "- для числових ознак (Work_Experience, Family_Size) використаємо медіану для заповнення пропущених значень. Медіана є стійкою до викидів і добре підходить для ознак, де розподіл може бути асиметричним.\n",
        "-для  категоріальні ознаки (Ever_Married, Graduated, Var_1)використаємо найчастіше значення (mode) для заповнення пропущених значень. Це дозволить зберегти існуючий розподіл категорій.\n",
        "- для колонки Profession заповнення пропущених значень буде 'Unknown'. Це робиться для того, щоб зберегти інформацію про те, що певні значення були пропущені, і можливо, ця інформація буде корисною для моделі."
      ],
      "metadata": {
        "id": "vZxHgbd2rjvS"
      }
    },
    {
      "cell_type": "code",
      "source": [
        "# Кодування цільової змінної\n",
        "label_encoder = LabelEncoder()\n",
        "customer_segmentation_df['Segmentation'] = label_encoder.fit_transform(customer_segmentation_df['Segmentation'])\n",
        "\n",
        "# Перевірка кореляції між числовими змінними та цільовою функцією\n",
        "numerical_features = customer_segmentation_df.select_dtypes(include=[np.number]).columns.tolist()\n",
        "numerical_features.remove('ID')  # Видаляємо 'ID' з числових ознак, бо це ідентифікатор\n",
        "\n",
        "# Додаємо цільову змінну до числових ознак для побудови кореляційної матриці\n",
        "correlation_matrix = customer_segmentation_df[numerical_features + ['Segmentation']].corr()\n",
        "\n",
        "# Візуалізація кореляційної матриці\n",
        "plt.figure(figsize=(12, 8))\n",
        "sns.heatmap(correlation_matrix, annot=True, cmap='coolwarm')\n",
        "plt.title('Correlation Matrix with Target Variable (Segmentation)')\n",
        "plt.show()\n",
        "\n",
        "# Перевірка кореляції категоріальних змінних з цільовою функцією\n",
        "categorical_features = customer_segmentation_df.select_dtypes(include=['object']).columns.tolist()\n",
        "\n",
        "# Функція для обчислення статистичної значущості за допомогою тесту хі-квадрат\n",
        "def chi_square_test(feature, target):\n",
        "    contingency_table = pd.crosstab(customer_segmentation_df[feature], customer_segmentation_df[target])\n",
        "    chi2, p, dof, ex = chi2_contingency(contingency_table)\n",
        "    return p\n",
        "\n",
        "# Друк результатів тесту хі-квадрат для кожної категоріальної ознаки\n",
        "for feature in categorical_features:\n",
        "    p_value = chi_square_test(feature, 'Segmentation')\n",
        "    print(f\"Feature: {feature}, p-value: {p_value}\")"
      ],
      "metadata": {
        "colab": {
          "base_uri": "https://localhost:8080/",
          "height": 803
        },
        "id": "a4vtGGYGj4EP",
        "outputId": "dedef935-e140-4642-ba40-f588698aa249"
      },
      "execution_count": 102,
      "outputs": [
        {
          "output_type": "display_data",
          "data": {
            "text/plain": [
              "<Figure size 1200x800 with 2 Axes>"
            ],
            "image/png": "[encoded data removed]"
          },
          "metadata": {}
        },
        {
          "output_type": "stream",
          "name": "stdout",
          "text": [
            "Feature: Gender, p-value: 0.009618143763412594\n",
            "Feature: Ever_Married, p-value: 1.7634922738184225e-305\n",
            "Feature: Graduated, p-value: 4.384656787114855e-231\n",
            "Feature: Profession, p-value: 0.0\n",
            "Feature: Spending_Score, p-value: 0.0\n",
            "Feature: Var_1, p-value: 1.646068148998022e-41\n"
          ]
        }
      ]
    },
    {
      "cell_type": "markdown",
      "source": [
        "іж числовими ознаками та цільовою змінною Segmentation можна зробити наступні висновки:\n",
        "- кореляція між Age та Segmentation є слабкою і від'ємною (-0.24), що вказує на те, що з віком сегментація має незначну тенденцію до змін, але це не є основним фактором.\n",
        "- gрактично відсутня кореляція між Work_Experience та Segmentation (0.0082), що вказує на те, що цей фактор не впливає на розподіл по сегментах.\n",
        "- Кореляція між Family_Size та Segmentation є слабкою і додатною (0.19), що вказує на певний, але незначний вплив розміру родини на сегментацію."
      ],
      "metadata": {
        "id": "gXNwkjOanmAt"
      }
    },
    {
      "cell_type": "markdown",
      "source": [
        "Для категоріальних ознак:\n",
        "- p-value = 0.0096, що вказує на статистично значущий зв'язок між Gender та сегментацією.\n",
        "- p-value = 1.88e-296, що вказує на дуже сильний статистично значущий зв'язок між Ever_Married та сегментацією.\n",
        "- p-value = 1.46e-229, що вказує на дуже сильний статистично значущий зв'язок між Graduated та сегментацією.\n",
        "- p-value = 0.0, що вказує на дуже сильний статистично значущий зв'язок між Profession та сегментацією.\n",
        "- p-value = 0.0, що вказує на дуже сильний статистично значущий зв'язок між оцінкою Spending_Score та сегментацією.\n",
        "- p-value = 2.47e-41, що вказує на дуже сильний статистично значущий зв'язок між цією Var_1 та сегментацією."
      ],
      "metadata": {
        "id": "yUXB9cRNn71t"
      }
    },
    {
      "cell_type": "markdown",
      "source": [
        "1. Оскільки всі категоріальні ознаки мають статистично значущий зв'язок з цільовою змінною, їх обов'язково потрібно включити в модель.\n",
        "2. Незважаючи на слабкий зв'язок числових ознак з цільовою змінною, варто їх залишити в моделі для потенційного покращення точності. Можливо, їх вплив стане помітним у комбінації з іншими ознаками."
      ],
      "metadata": {
        "id": "nSShlE2focv3"
      }
    },
    {
      "cell_type": "code",
      "source": [
        "# Заповнення пропущених значень у колонці 'Profession' значенням 'Unknown'\n",
        "customer_segmentation_df['Profession'].fillna('Unknown', inplace=True)\n",
        "\n",
        "# Обробка пропущених значень та кодування\n",
        "numeric_features = ['Age', 'Work_Experience', 'Family_Size']\n",
        "categorical_features = ['Gender', 'Ever_Married', 'Graduated', 'Profession', 'Spending_Score', 'Var_1']\n",
        "\n",
        "# Пайплайн для числових ознак\n",
        "numeric_transformer = Pipeline(steps=[\n",
        "    ('imputer', SimpleImputer(strategy='median')),\n",
        "    ('scaler', StandardScaler())])\n",
        "\n",
        "# Пайплайн для категоріальних ознак\n",
        "categorical_transformer = Pipeline(steps=[\n",
        "    ('imputer', SimpleImputer(strategy='most_frequent')),\n",
        "    ('onehot', OneHotEncoder(handle_unknown='ignore'))])\n",
        "\n",
        "# Об'єднання числового та категоріального пайплайнів\n",
        "preprocessor = ColumnTransformer(\n",
        "    transformers=[\n",
        "        ('num', numeric_transformer, numeric_features),\n",
        "        ('cat', categorical_transformer, categorical_features)])\n",
        "\n",
        "# Визначення ознак (X) та цільової змінної (y)\n",
        "X = customer_segmentation_df.drop('Segmentation', axis=1)\n",
        "y = customer_segmentation_df['Segmentation']\n",
        "\n",
        "# Розбиття на тренувальну і тестувальну вибірку зі стратифікацією\n",
        "X_train, X_test, y_train, y_test = train_test_split(X, y, test_size=0.2, random_state=42, stratify=y)\n",
        "\n",
        "# Логістична регресія\n",
        "log_reg = LogisticRegression(solver='liblinear')\n",
        "\n",
        "# Пайплайн для OvR моделі\n",
        "ovr_pipeline = Pipeline(steps=[('preprocessor', preprocessor),\n",
        "                               ('classifier', OneVsRestClassifier(log_reg))])\n",
        "\n",
        "# Пайплайн для OvO моделі\n",
        "ovo_pipeline = Pipeline(steps=[('preprocessor', preprocessor),\n",
        "                               ('classifier', OneVsOneClassifier(log_reg))])\n",
        "\n",
        "# Тренування пайплайнів на тренувальній вибірці\n",
        "ovr_pipeline.fit(X_train, y_train)\n",
        "ovo_pipeline.fit(X_train, y_train)\n",
        "\n",
        "# Прогнозування на тестових даних\n",
        "ovr_predictions = ovr_pipeline.predict(X_test)\n",
        "ovo_predictions = ovo_pipeline.predict(X_test)"
      ],
      "metadata": {
        "id": "NyZL1V4Mh546"
      },
      "execution_count": 116,
      "outputs": []
    },
    {
      "cell_type": "code",
      "source": [
        "# Візуалізація розподілу класів цільової змінної в тренувальній і тестовій вибірках\n",
        "fig, axes = plt.subplots(1, 2, figsize=(14, 6), sharey=True)\n",
        "\n",
        "sns.countplot(ax=axes[0], x=y_train, palette='viridis', order=sorted(y_train.unique()))\n",
        "axes[0].set_title('Class Distribution in Training Set')\n",
        "axes[0].set_xlabel('Class')\n",
        "axes[0].set_ylabel('Count')\n",
        "\n",
        "sns.countplot(ax=axes[1], x=y_test, palette='viridis', order=sorted(y_test.unique()))\n",
        "axes[1].set_title('Class Distribution in Test Set')\n",
        "axes[1].set_xlabel('Class')\n",
        "\n",
        "plt.show()"
      ],
      "metadata": {
        "colab": {
          "base_uri": "https://localhost:8080/",
          "height": 564
        },
        "id": "9NvN-Z2Ztphm",
        "outputId": "3a7711b4-8ad8-414e-d4b1-4fdf8bceff57"
      },
      "execution_count": 104,
      "outputs": [
        {
          "output_type": "display_data",
          "data": {
            "text/plain": [
              "<Figure size 1400x600 with 2 Axes>"
            ],
            "image/png": "[encoded data removed]"
          },
          "metadata": {}
        }
      ]
    },
    {
      "cell_type": "code",
      "source": [
        "# Усереднені метрики macro та micro для OvR\n",
        "ovr_macro_precision = precision_score(y_test, ovr_predictions, average='macro')\n",
        "ovr_micro_precision = precision_score(y_test, ovr_predictions, average='micro')\n",
        "ovr_macro_recall = recall_score(y_test, ovr_predictions, average='macro')\n",
        "ovr_micro_recall = recall_score(y_test, ovr_predictions, average='micro')\n",
        "\n",
        "# Усереднені метрики macro та micro для OvO\n",
        "ovo_macro_precision = precision_score(y_test, ovo_predictions, average='macro')\n",
        "ovo_micro_precision = precision_score(y_test, ovo_predictions, average='micro')\n",
        "ovo_macro_recall = recall_score(y_test, ovo_predictions, average='macro')\n",
        "ovo_micro_recall = recall_score(y_test, ovo_predictions, average='micro')\n",
        "\n",
        "# Створимо датафрейм для відображення результатів\n",
        "results = pd.DataFrame({\n",
        "    'Metric': ['Macro Precision', 'Micro Precision', 'Macro Recall', 'Micro Recall'],\n",
        "    'OvR': [ovr_macro_precision, ovr_micro_precision, ovr_macro_recall, ovr_micro_recall],\n",
        "    'OvO': [ovo_macro_precision, ovo_micro_precision, ovo_macro_recall, ovo_micro_recall]\n",
        "})\n",
        "print(results)\n",
        "\n",
        "# Друк classification_report для обох моделей\n",
        "print(\"Classification Report for OvR:\")\n",
        "print(classification_report(y_test, ovr_predictions))\n",
        "print(\"Classification Report for OvO:\")\n",
        "print(classification_report(y_test, ovo_predictions))"
      ],
      "metadata": {
        "colab": {
          "base_uri": "https://localhost:8080/"
        },
        "id": "AdqqVIwLGPUw",
        "outputId": "b227db1a-a460-4229-dae3-b56d4a8c12a5"
      },
      "execution_count": 121,
      "outputs": [
        {
          "output_type": "stream",
          "name": "stdout",
          "text": [
            "            Metric  OvR  OvO\n",
            "0  Macro Precision 0.50 0.50\n",
            "1  Micro Precision 0.52 0.52\n",
            "2     Macro Recall 0.50 0.51\n",
            "3     Micro Recall 0.52 0.52\n",
            "Classification Report for OvR:\n",
            "              precision    recall  f1-score   support\n",
            "\n",
            "           0       0.43      0.46      0.44       394\n",
            "           1       0.42      0.17      0.25       372\n",
            "           2       0.49      0.62      0.54       394\n",
            "           3       0.65      0.76      0.70       454\n",
            "\n",
            "    accuracy                           0.52      1614\n",
            "   macro avg       0.50      0.50      0.48      1614\n",
            "weighted avg       0.50      0.52      0.49      1614\n",
            "\n",
            "Classification Report for OvO:\n",
            "              precision    recall  f1-score   support\n",
            "\n",
            "           0       0.42      0.41      0.42       394\n",
            "           1       0.41      0.28      0.33       372\n",
            "           2       0.51      0.58      0.54       394\n",
            "           3       0.64      0.75      0.69       454\n",
            "\n",
            "    accuracy                           0.52      1614\n",
            "   macro avg       0.50      0.51      0.50      1614\n",
            "weighted avg       0.50      0.52      0.51      1614\n",
            "\n"
          ]
        }
      ]
    },
    {
      "cell_type": "markdown",
      "source": [
        "1. Обидві моделі досягають однакової точності 52%.\n",
        "2. Значення макро точності (Precision) та макро повноти (Recall) також є однаковими (50%) для обох стратегій, з незначною перевагою OvO в макро повноті (51%).\n",
        "3. Зважені середні значення показують, що стратегія OvO трохи краща за F1-Score (0.51 проти 0.49 для OvR).\n",
        "4. У звітах за класами видно, що клас 3 має найвищу точність і повноту у обох моделей, що може свідчити про добре розпізнавання цього класу моделями."
      ],
      "metadata": {
        "id": "946fXWNzJi8_"
      }
    },
    {
      "cell_type": "markdown",
      "source": [
        "Хоча обидві стратегії мають схожі результати, OvO стратегія показує дещо кращі результати в макро повноті (Recall) та зваженому F1-Score. Однак, варто зауважити, що обидві моделі мають значний простір для покращення, особливо в класі 1, де повнота (Recall) є найнижчою.\n",
        "\n",
        "Що можно ще зробити:\n",
        "- використати інших алгоритмів машинного навчання.\n",
        "- виконати більш детальну обробку даних.\n",
        "- застосувати методи підбору гіперпараметрів.\n",
        "- розширення набору даних або створення нових ознак."
      ],
      "metadata": {
        "id": "lKOsoWqKJGkh"
      }
    },
    {
      "cell_type": "markdown",
      "source": [
        "Спробуємо трохи покращіти результати виконавши більш детальну обробку, прибравши аутлаери з даних."
      ],
      "metadata": {
        "id": "tWl3vriaLSbg"
      }
    },
    {
      "cell_type": "code",
      "source": [
        "# Видалення викидів\n",
        "for feature in numeric_features:\n",
        "    Q1 = customer_segmentation_df[feature].quantile(0.25)\n",
        "    Q3 = customer_segmentation_df[feature].quantile(0.75)\n",
        "    IQR = Q3 - Q1\n",
        "    filter = (customer_segmentation_df[feature] >= Q1 - 1.5 * IQR) & (customer_segmentation_df[feature] <= Q3 + 1.5 * IQR)\n",
        "    customer_segmentation_df = customer_segmentation_df.loc[filter]"
      ],
      "metadata": {
        "id": "MGpkBdsHKq11"
      },
      "execution_count": 126,
      "outputs": []
    },
    {
      "cell_type": "code",
      "source": [
        "ovr_macro_precision = precision_score(y_test, ovr_predictions, average='macro')\n",
        "ovr_micro_precision = precision_score(y_test, ovr_predictions, average='micro')\n",
        "ovr_macro_recall = recall_score(y_test, ovr_predictions, average='macro')\n",
        "ovr_micro_recall = recall_score(y_test, ovr_predictions, average='micro')\n",
        "\n",
        "# Усереднені метрики macro та micro для OvO\n",
        "ovo_macro_precision = precision_score(y_test, ovo_predictions, average='macro')\n",
        "ovo_micro_precision = precision_score(y_test, ovo_predictions, average='micro')\n",
        "ovo_macro_recall = recall_score(y_test, ovo_predictions, average='macro')\n",
        "ovo_micro_recall = recall_score(y_test, ovo_predictions, average='micro')\n",
        "\n",
        "# Створимо датафрейм для відображення результатів\n",
        "results = pd.DataFrame({\n",
        "    'Metric': ['Macro Precision', 'Micro Precision', 'Macro Recall', 'Micro Recall'],\n",
        "    'OvR': [ovr_macro_precision, ovr_micro_precision, ovr_macro_recall, ovr_micro_recall],\n",
        "    'OvO': [ovo_macro_precision, ovo_micro_precision, ovo_macro_recall, ovo_micro_recall]\n",
        "})\n",
        "print(results)\n",
        "\n",
        "# Друк classification_report для обох моделей\n",
        "print(\"Classification Report for OvR:\")\n",
        "print(classification_report(y_test, ovr_predictions))\n",
        "print(\"Classification Report for OvO:\")\n",
        "print(classification_report(y_test, ovo_predictions))"
      ],
      "metadata": {
        "colab": {
          "base_uri": "https://localhost:8080/"
        },
        "id": "e8FBu-_hK120",
        "outputId": "df1b0ec9-b824-43c9-d9a7-38bca124f2b2"
      },
      "execution_count": 127,
      "outputs": [
        {
          "output_type": "stream",
          "name": "stdout",
          "text": [
            "            Metric  OvR  OvO\n",
            "0  Macro Precision 0.53 0.53\n",
            "1  Micro Precision 0.55 0.55\n",
            "2     Macro Recall 0.54 0.54\n",
            "3     Micro Recall 0.55 0.55\n",
            "Classification Report for OvR:\n",
            "              precision    recall  f1-score   support\n",
            "\n",
            "           0       0.46      0.53      0.49       317\n",
            "           1       0.43      0.18      0.26       315\n",
            "           2       0.53      0.71      0.61       342\n",
            "           3       0.68      0.73      0.71       352\n",
            "\n",
            "    accuracy                           0.55      1326\n",
            "   macro avg       0.53      0.54      0.52      1326\n",
            "weighted avg       0.53      0.55      0.52      1326\n",
            "\n",
            "Classification Report for OvO:\n",
            "              precision    recall  f1-score   support\n",
            "\n",
            "           0       0.48      0.50      0.49       317\n",
            "           1       0.43      0.26      0.33       315\n",
            "           2       0.54      0.66      0.59       342\n",
            "           3       0.67      0.74      0.70       352\n",
            "\n",
            "    accuracy                           0.55      1326\n",
            "   macro avg       0.53      0.54      0.53      1326\n",
            "weighted avg       0.53      0.55      0.53      1326\n",
            "\n"
          ]
        }
      ]
    },
    {
      "cell_type": "markdown",
      "source": [
        "1. Точність моделей OvR та OvO збільшилася з 0.52 до 0.55 після детальної обробки даних.\n",
        "\n",
        "2. OvR:\n",
        "Macro Precision збільшився з 0.50 до 0.53.\n",
        "Micro Precision збільшився з 0.52 до 0.55.\n",
        "Macro Recall збільшився з 0.50 до 0.54.\n",
        "Micro Recall збільшився з 0.52 до 0.55.\n",
        "3. OvO:\n",
        "Macro Precision збільшився з 0.50 до 0.53.\n",
        "Micro Precision збільшився з 0.52 до 0.55.\n",
        "Macro Recall збільшився з 0.51 до 0.54.\n",
        "Micro Recall збільшився з 0.52 до 0.55.\n",
        "\n",
        "4. Після прибирання аутлаерів метрики Precision, Recall та F1-Score покращилися для кожного класу.\n",
        "Значне покращення помітно для класу 1, де значення Recall суттєво збільшилось.\n",
        "Загальний висновок\n",
        "Після прибирання аутлаерів моделі показали значне покращення в усіх основних метриках, включаючи accurancy, Precision та Recall. Це свідчить про те, що додаткова обробка даних позитивно вплинула на якість моделей."
      ],
      "metadata": {
        "id": "gnMZObl1MWQe"
      }
    },
    {
      "cell_type": "markdown",
      "source": [
        "**Завдання 2. Важливо уважно прочитати все формулювання цього завдання до кінця!**\n",
        "\n",
        "Застосуйте методи ресемплингу даних SMOTE та SMOTE-Tomek з бібліотеки imbalanced-learn до тренувальної вибірки. В результаті у Вас має вийти 2 тренувальних набори: з апсемплингом зі SMOTE, та з ресамплингом з SMOTE-Tomek.\n",
        "\n",
        "Увага! В нашому наборі даних є як категоріальні дані, так і звичайні числові. Базовий SMOTE не буде правильно працювати з категоріальними даними, але є його модифікація, яка буде. Тому в цього завдання є 2 виконання\n",
        "\n",
        "  1. Застосувати SMOTE базовий лише на НЕкатегоріальних ознаках і порівняти лін регресію на апсампл даних без категоріальних ознак.\n",
        "\n",
        "  2. Переглянути інформацію про метод [SMOTENC](https://imbalanced-learn.org/dev/references/generated/imblearn.over_sampling.SMOTENC.html#imblearn.over_sampling.SMOTENC) і використати цей метод в цій задачі. За цей спосіб буде +3 бали за це завдання і він рекомендований для виконання.\n",
        "\n",
        "  **Підказка**: аби скористатись SMOTENC треба створити змінну, яка містить індекси ознак, які є категоріальними (їх номер серед колонок) і передати при ініціації екземпляра класу `SMOTENC(..., categorical_features=cat_feature_indeces)`.\n",
        "  \n",
        "  Ви також можете розглянути варіант використання варіації SMOTE, який працює ЛИШЕ з категоріальними ознаками [SMOTEN](https://imbalanced-learn.org/dev/references/generated/imblearn.over_sampling.SMOTEN.html)"
      ],
      "metadata": {
        "id": "fhJzCBA7P0f8"
      }
    },
    {
      "cell_type": "code",
      "source": [
        "from imblearn.over_sampling import SMOTE\n",
        "from sklearn.impute import SimpleImputer\n",
        "from imblearn.pipeline import Pipeline as ImbPipeline\n",
        "from imblearn.over_sampling import SMOTENC\n",
        "from imblearn.combine import SMOTETomek"
      ],
      "metadata": {
        "id": "6NFUkQ_15HNX"
      },
      "execution_count": 136,
      "outputs": []
    },
    {
      "cell_type": "code",
      "source": [
        "# Створення пайплайну для ресемплінгу та моделі\n",
        "pipeline_smote = ImbPipeline(steps=[\n",
        "    ('preprocessor', preprocessor),\n",
        "    ('smote', SMOTE(random_state=42)),\n",
        "    ('classifier', log_reg)])\n",
        "\n",
        "# Тренування та оцінка моделі на даних зі SMOTE\n",
        "pipeline_smote.fit(X_train, y_train)\n",
        "y_pred_smote = pipeline_smote.predict(X_test)\n",
        "\n",
        "# Оцінка моделі\n",
        "print(\"SMOTE Logistic Regression\")\n",
        "print(classification_report(y_test, y_pred_smote))\n",
        "print(\"Accuracy:\", accuracy_score(y_test, y_pred_smote))"
      ],
      "metadata": {
        "colab": {
          "base_uri": "https://localhost:8080/"
        },
        "id": "EDCmvKkQORri",
        "outputId": "46aa9362-f207-4b3b-99da-0ba538a7936c"
      },
      "execution_count": 135,
      "outputs": [
        {
          "output_type": "stream",
          "name": "stdout",
          "text": [
            "SMOTE Logistic Regression\n",
            "              precision    recall  f1-score   support\n",
            "\n",
            "           0       0.44      0.54      0.48       317\n",
            "           1       0.45      0.23      0.30       315\n",
            "           2       0.54      0.67      0.60       342\n",
            "           3       0.70      0.71      0.71       352\n",
            "\n",
            "    accuracy                           0.54      1326\n",
            "   macro avg       0.53      0.54      0.52      1326\n",
            "weighted avg       0.54      0.54      0.53      1326\n",
            "\n",
            "Accuracy: 0.5444947209653092\n"
          ]
        }
      ]
    },
    {
      "cell_type": "code",
      "source": [
        "# Індекси категоріальних ознак\n",
        "cat_feature_indices = [X_train.columns.get_loc(col) for col in categorical_features]\n",
        "\n",
        "# Створення пайплайну для моделі Logistic Regression з використанням SMOTENC\n",
        "pipeline_smotenc = ImbPipeline(steps=[\n",
        "    ('preprocessor', preprocessor),\n",
        "    ('smotenc', SMOTENC(categorical_features=cat_feature_indices, random_state=42)),\n",
        "    ('classifier', log_reg)])\n",
        "\n",
        "# Тренування та оцінка моделі на даних зі SMOTENC\n",
        "pipeline_smotenc.fit(X_train, y_train)\n",
        "y_pred_smotenc = pipeline_smotenc.predict(X_test)\n",
        "\n",
        "# Оцінка моделі\n",
        "print(\"SMOTENC Logistic Regression\")\n",
        "print(classification_report(y_test, y_pred_smotenc))\n",
        "print(\"Accuracy:\", accuracy_score(y_test, y_pred_smotenc))"
      ],
      "metadata": {
        "colab": {
          "base_uri": "https://localhost:8080/"
        },
        "id": "2kJ9LBCqPtUm",
        "outputId": "acf388b5-4655-40e1-d916-b1d09d770bee"
      },
      "execution_count": 137,
      "outputs": [
        {
          "output_type": "stream",
          "name": "stdout",
          "text": [
            "SMOTENC Logistic Regression\n",
            "              precision    recall  f1-score   support\n",
            "\n",
            "           0       0.45      0.54      0.49       317\n",
            "           1       0.44      0.22      0.29       315\n",
            "           2       0.54      0.67      0.60       342\n",
            "           3       0.70      0.72      0.71       352\n",
            "\n",
            "    accuracy                           0.54      1326\n",
            "   macro avg       0.53      0.54      0.52      1326\n",
            "weighted avg       0.54      0.54      0.53      1326\n",
            "\n",
            "Accuracy: 0.5444947209653092\n"
          ]
        }
      ]
    },
    {
      "cell_type": "code",
      "source": [
        "# Створення пайплайну для моделі Logistic Regression з використанням SMOTE-Tomek\n",
        "pipeline_smotetomek = ImbPipeline(steps=[\n",
        "    ('preprocessor', preprocessor),\n",
        "    ('smotetomek', SMOTETomek(smote=SMOTENC(categorical_features=cat_feature_indices, random_state=42), random_state=42)),\n",
        "    ('classifier', log_reg)])\n",
        "\n",
        "# Тренування та оцінка моделі на даних зі SMOTE-Tomek\n",
        "pipeline_smotetomek.fit(X_train, y_train)\n",
        "y_pred_smotetomek = pipeline_smotetomek.predict(X_test)\n",
        "\n",
        "# Оцінка моделі\n",
        "print(\"SMOTE-Tomek Logistic Regression\")\n",
        "print(classification_report(y_test, y_pred_smotetomek))\n",
        "print(\"Accuracy:\", accuracy_score(y_test, y_pred_smotetomek))"
      ],
      "metadata": {
        "colab": {
          "base_uri": "https://localhost:8080/"
        },
        "id": "pKtD_76NQHgJ",
        "outputId": "b81e7523-c0ad-41c8-833c-c4081a5b2704"
      },
      "execution_count": 138,
      "outputs": [
        {
          "output_type": "stream",
          "name": "stdout",
          "text": [
            "SMOTE-Tomek Logistic Regression\n",
            "              precision    recall  f1-score   support\n",
            "\n",
            "           0       0.44      0.56      0.49       317\n",
            "           1       0.45      0.22      0.29       315\n",
            "           2       0.54      0.67      0.60       342\n",
            "           3       0.70      0.70      0.70       352\n",
            "\n",
            "    accuracy                           0.54      1326\n",
            "   macro avg       0.53      0.54      0.52      1326\n",
            "weighted avg       0.54      0.54      0.53      1326\n",
            "\n",
            "Accuracy: 0.5429864253393665\n"
          ]
        }
      ]
    },
    {
      "cell_type": "markdown",
      "source": [
        "1. Усі три методи мають однакову точність - 0.54.\n",
        "Це свідчить про те, що всі три методи ресемплінгу забезпечують схожий рівень продуктивності.\n",
        "2. У всіх методах найкраща продуктивність спостерігається для класу 3, а найгірша для класу 1.\n",
        "SMOTENC та SMOTE-Tomek незначно покращують точність для класу 0.\n",
        "3. Усі три методи показують схожі результати, тому вибір методу може залежати від інших факторів, таких як час виконання та складність моделі.\n",
        "Якщо б ми мали справу з великими обсягами даних та числовими і категоріальними ознаками, використання SMOTENC або SMOTE-Tomek може бути більш вигідним."
      ],
      "metadata": {
        "id": "M3FYPSvcQnXq"
      }
    },
    {
      "cell_type": "markdown",
      "source": [
        "**Завдання 3**.\n",
        "  1. Навчіть модель логістичної регресії з використанням стратегії One-vs-Rest з логістичною регресією на оригінальних даних, збалансованих з SMOTE, збалансованих з Smote-Tomek.  \n",
        "  2. Виміряйте якість кожної з натренованих моделей використовуючи `sklearn.metrics.classification_report`.\n",
        "  3. Напишіть, яку метрику ви обрали для порівняння моделей.\n",
        "  4. Яка модель найкраща?\n",
        "  5. Якщо немає суттєвої різниці між моделями - напишіть свою гіпотезу, чому?"
      ],
      "metadata": {
        "id": "ja4w_GgmT4D0"
      }
    },
    {
      "cell_type": "code",
      "source": [
        "# Навчання моделі без балансування\n",
        "ovr_pipeline_original = ImbPipeline(steps=[\n",
        "    ('preprocessor', preprocessor),\n",
        "    ('classifier', OneVsRestClassifier(log_reg))\n",
        "])\n",
        "ovr_pipeline_original.fit(X_train, y_train)\n",
        "y_pred_original = ovr_pipeline_original.predict(X_test)\n",
        "\n",
        "# Навчання моделі з SMOTE\n",
        "ovr_pipeline_smote = ImbPipeline(steps=[\n",
        "    ('preprocessor', preprocessor),\n",
        "    ('smote', SMOTE(random_state=42)),\n",
        "    ('classifier', OneVsRestClassifier(log_reg))\n",
        "])\n",
        "ovr_pipeline_smote.fit(X_train, y_train)\n",
        "y_pred_smote = ovr_pipeline_smote.predict(X_test)\n",
        "\n",
        "# Навчання моделі з SMOTE-Tomek\n",
        "ovr_pipeline_smotetomek = ImbPipeline(steps=[\n",
        "    ('preprocessor', preprocessor),\n",
        "    ('smotetomek', SMOTETomek(random_state=42)),\n",
        "    ('classifier', OneVsRestClassifier(log_reg))\n",
        "])\n",
        "ovr_pipeline_smotetomek.fit(X_train, y_train)\n",
        "y_pred_smotetomek = ovr_pipeline_smotetomek.predict(X_test)\n",
        "\n",
        "# Виведення результатів\n",
        "print(\"Original Logistic Regression\")\n",
        "print(classification_report(y_test, y_pred_original))\n",
        "\n",
        "print(\"\\nSMOTE Logistic Regression\")\n",
        "print(classification_report(y_test, y_pred_smote))\n",
        "\n",
        "print(\"\\nSMOTE-Tomek Logistic Regression\")\n",
        "print(classification_report(y_test, y_pred_smotetomek))"
      ],
      "metadata": {
        "id": "nxWVeRan5JBh",
        "colab": {
          "base_uri": "https://localhost:8080/"
        },
        "outputId": "a6516390-c10d-4d33-ce1b-708217aa9a5f"
      },
      "execution_count": 139,
      "outputs": [
        {
          "output_type": "stream",
          "name": "stdout",
          "text": [
            "Original Logistic Regression\n",
            "              precision    recall  f1-score   support\n",
            "\n",
            "           0       0.46      0.53      0.49       317\n",
            "           1       0.43      0.18      0.26       315\n",
            "           2       0.53      0.71      0.61       342\n",
            "           3       0.68      0.73      0.71       352\n",
            "\n",
            "    accuracy                           0.55      1326\n",
            "   macro avg       0.53      0.54      0.52      1326\n",
            "weighted avg       0.53      0.55      0.52      1326\n",
            "\n",
            "\n",
            "SMOTE Logistic Regression\n",
            "              precision    recall  f1-score   support\n",
            "\n",
            "           0       0.44      0.54      0.48       317\n",
            "           1       0.45      0.23      0.30       315\n",
            "           2       0.54      0.67      0.60       342\n",
            "           3       0.70      0.71      0.71       352\n",
            "\n",
            "    accuracy                           0.54      1326\n",
            "   macro avg       0.53      0.54      0.52      1326\n",
            "weighted avg       0.54      0.54      0.53      1326\n",
            "\n",
            "\n",
            "SMOTE-Tomek Logistic Regression\n",
            "              precision    recall  f1-score   support\n",
            "\n",
            "           0       0.43      0.56      0.49       317\n",
            "           1       0.44      0.22      0.29       315\n",
            "           2       0.54      0.66      0.60       342\n",
            "           3       0.70      0.69      0.70       352\n",
            "\n",
            "    accuracy                           0.54      1326\n",
            "   macro avg       0.53      0.53      0.52      1326\n",
            "weighted avg       0.53      0.54      0.52      1326\n",
            "\n"
          ]
        }
      ]
    },
    {
      "cell_type": "markdown",
      "source": [
        "1. Для порівняння моделей я обираю метрику f1-score, оскільки вона є гарним балансом між precision та recall. Це особливо корисно в задачах з незбалансованими класами.\n",
        "На основі f1-score, модель з найвищим значенням f1-score для кожного класу буде найкращою.\n",
        "\n",
        "2. Порівняння моделей:\n",
        "- Найкраща продуктивність по f1-score показує модель з використанням SMOTE-Tomek, а найгірша продуктивність по f1-score показує модель без балансування.\n",
        "Метрика f1-score для всіх моделей демонструє незначні відмінності, що може свідчити про те, що балансування класів не суттєво покращує продуктивність логістичної регресії на даних.\n",
        "- Original Logistic Regression: Трохи кращий f1-score для класів 1 і 2, але - загальна точність трохи вища.\n",
        "- SMOTE Logistic Regression: Невелике покращення в precision для класу 1, але recall залишився приблизно таким же.\n",
        "- SMOTE-Tomek Logistic Regression: Трохи краще recall для класу 0, але загальна продуктивність дуже схожа на інші моделі.\n",
        "\n",
        "3. Незважаючи на використання методів балансування даних (SMOTE та SMOTE-Tomek), ми не бачимо суттєвого покращення у метриках порівняно з оригінальною моделлю. Це може бути пов'язано з тим, що класова структура в даних не сильно залежить від частоти зразків у кожному класі, або що модель логістичної регресії достатньо добре працює з оригінальними даними без додаткового ресемплінгу. Інша можлива причина - недостатня складність моделі для захоплення складних патернів у даних.\n",
        "\n",
        "\n",
        "\n",
        "\n",
        "\n",
        "\n",
        "\n"
      ],
      "metadata": {
        "id": "uKrdYFCRRxxf"
      }
    }
  ]
}